{
 "cells": [
  {
   "cell_type": "code",
   "execution_count": 1,
   "id": "5c95b212-7e9f-4bc9-87ba-e7161ca6df37",
   "metadata": {
    "tags": []
   },
   "outputs": [],
   "source": [
    "import cyecca.lie as lie\n",
    "import casadi as ca\n",
    "import numpy as np\n",
    "import matplotlib.pyplot as plt"
   ]
  },
  {
   "cell_type": "code",
   "execution_count": 2,
   "id": "1ef15f02-6aec-43d1-8ec3-be87d859dd4b",
   "metadata": {
    "tags": []
   },
   "outputs": [],
   "source": [
    "def derive():\n",
    "    x0 = ca.SX.sym(\"x\", 4)\n",
    "    w = ca.SX.sym(\"w\", 3)\n",
    "\n",
    "    X = lie.SO3Mrp.element(x0)\n",
    "\n",
    "    # gyro prediction\n",
    "    W = lie.so3.element(w)\n",
    "    dt = ca.SX.sym(\"dt\")\n",
    "\n",
    "    # this is a geodetic (assuming contant gyro), so euler prediction is exact\n",
    "    # this is equivalent to:\n",
    "    # X = X*(W*dt).exp(lie.SO3Mrp)\n",
    "    X += W * dt\n",
    "\n",
    "    # shadow Mrp if necessary\n",
    "    x1 = lie.SO3Mrp.shadow_param_if_necessary(X.param)\n",
    "\n",
    "    f_predict = ca.Function(\"predict\", [w, x0, dt], [x1], [\"w\", \"x0\", \"dt\"], [\"x1\"])\n",
    "\n",
    "    return {\"f_predict\": f_predict}\n",
    "\n",
    "\n",
    "eqs = derive()"
   ]
  },
  {
   "cell_type": "code",
   "execution_count": 3,
   "id": "6eb09288-950f-4df4-9832-04a44f1591dd",
   "metadata": {
    "tags": []
   },
   "outputs": [
    {
     "data": {
      "image/png": "[encoded data removed]",
      "text/plain": [
       "<Figure size 640x480 with 1 Axes>"
      ]
     },
     "metadata": {},
     "output_type": "display_data"
    }
   ],
   "source": [
    "def simulate(t0=0, tf=10, dt=0.001):\n",
    "    t = t0\n",
    "    x = np.array([1, 1, 1, 0])\n",
    "    omega = np.array([1, 0, 0])\n",
    "    hist = {\n",
    "        \"x\": [],\n",
    "        \"t\": [],\n",
    "    }\n",
    "\n",
    "    t_vect = np.arange(start=t0, stop=tf, step=dt)\n",
    "\n",
    "    for t in t_vect:\n",
    "        x = eqs[\"f_predict\"](omega, x, dt)\n",
    "        hist[\"x\"].append(np.array(x).reshape(-1))\n",
    "        hist[\"t\"].append(t)\n",
    "        t += dt\n",
    "\n",
    "    for k in hist.keys():\n",
    "        hist[k] = np.array(hist[k])\n",
    "\n",
    "    plt.plot(hist[\"t\"], hist[\"x\"])\n",
    "\n",
    "\n",
    "simulate()"
   ]
  },
  {
   "cell_type": "code",
   "execution_count": 4,
   "id": "f0ad3a5a-41ea-47c2-af4c-3e4981bffcd8",
   "metadata": {
    "tags": []
   },
   "outputs": [
    {
     "data": {
      "text/plain": [
       "SX(@1=0, [-10, @1, @1, 1])"
      ]
     },
     "execution_count": 4,
     "metadata": {},
     "output_type": "execute_result"
    }
   ],
   "source": [
    "lie.SO3Mrp.shadow_param(ca.SX([0.1, 0, 0, 0]))"
   ]
  },
  {
   "cell_type": "code",
   "execution_count": 5,
   "id": "5342f878-4c33-4bdb-8530-e5c1f12239bb",
   "metadata": {},
   "outputs": [],
   "source": [
    "q = lie.SO3Quat.element(ca.SX([1, 0, 0, 0]))\n",
    "dcm = lie.SO3Dcm.element(ca.SX.eye(3).reshape((9, 1)))\n",
    "mrp = lie.SO3Mrp.from_SO3Quat(q)"
   ]
  },
  {
   "cell_type": "code",
   "execution_count": 6,
   "id": "4074f1f3-6dbd-453c-9c76-9cd6db93e926",
   "metadata": {},
   "outputs": [
    {
     "data": {
      "text/plain": [
       "SO3DcmLieGroup: SX(@1=1, [@1, 00, 00, 00, @1, 00, 00, 00, @1])"
      ]
     },
     "execution_count": 6,
     "metadata": {},
     "output_type": "execute_result"
    }
   ],
   "source": [
    "dcm"
   ]
  },
  {
   "cell_type": "code",
   "execution_count": 7,
   "id": "0f2c7fea-c711-4b8c-a561-21b3a0b00b82",
   "metadata": {
    "tags": []
   },
   "outputs": [
    {
     "data": {
      "text/plain": [
       "SO3DcmLieGroup: SX(@1=1, [@1, 00, 00, 00, @1, 00, 00, 00, @1])"
      ]
     },
     "execution_count": 7,
     "metadata": {},
     "output_type": "execute_result"
    }
   ],
   "source": [
    "lie.SO3Dcm.from_matrix(ca.SX.eye(3))"
   ]
  },
  {
   "cell_type": "code",
   "execution_count": 8,
   "id": "b48b4a57-953b-456d-9943-bfe9ef331cd8",
   "metadata": {
    "tags": []
   },
   "outputs": [
    {
     "data": {
      "text/plain": [
       "SX(@1=1, @2=0, \n",
       "[[@1, @2, @2], \n",
       " [@2, @1, @2], \n",
       " [@2, @2, @1]])"
      ]
     },
     "execution_count": 8,
     "metadata": {},
     "output_type": "execute_result"
    }
   ],
   "source": [
    "lie.SO3Dcm.from_SO3Quat(q).to_Matrix()"
   ]
  },
  {
   "cell_type": "code",
   "execution_count": 9,
   "id": "5f30ab66-fbc5-4077-b01c-628fc3588e6d",
   "metadata": {
    "tags": []
   },
   "outputs": [],
   "source": [
    "R = lie.SO3Dcm.from_SO3Quat(q)"
   ]
  },
  {
   "cell_type": "code",
   "execution_count": 10,
   "id": "51a5b97e-580e-4390-9e00-f54b1042090f",
   "metadata": {
    "tags": []
   },
   "outputs": [
    {
     "data": {
      "text/plain": [
       "SX(@1=1, @2=0, \n",
       "[[@1, @2, @2], \n",
       " [@2, @1, @2], \n",
       " [@2, @2, @1]])"
      ]
     },
     "execution_count": 10,
     "metadata": {},
     "output_type": "execute_result"
    }
   ],
   "source": [
    "R.to_Matrix()"
   ]
  }
 ],
 "metadata": {
  "kernelspec": {
   "display_name": "Python 3 (ipykernel)",
   "language": "python",
   "name": "python3"
  },
  "language_info": {
   "codemirror_mode": {
    "name": "ipython",
    "version": 3
   },
   "file_extension": ".py",
   "mimetype": "text/x-python",
   "name": "python",
   "nbconvert_exporter": "python",
   "pygments_lexer": "ipython3",
   "version": "3.10.6"
  }
 },
 "nbformat": 4,
 "nbformat_minor": 5
}
