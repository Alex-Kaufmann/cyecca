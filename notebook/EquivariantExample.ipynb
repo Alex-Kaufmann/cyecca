{
 "cells": [
  {
   "cell_type": "markdown",
   "id": "778f5b18-0f87-410b-be3f-2f47282763b1",
   "metadata": {},
   "source": [
    "# Problem Description\n",
    "\n",
    "## Kinematics\n",
    "\n",
    "$ \\dot{\\eta} = f_\\Omega(\\eta) := -\\Omega^\\times \\eta$\n",
    "\n",
    "## Magnetometer Measurement Equation\n",
    "\n",
    "$ y = h(\\eta) = c_m \\eta \\in \\mathbb{R}^3 $"
   ]
  },
  {
   "cell_type": "markdown",
   "id": "a9b4fa9c-9bc8-466d-bf22-ec50e8fbce00",
   "metadata": {},
   "source": [
    "# Equivariant Filter Design Preliminaries\n",
    "\n",
    "## Step 1: Find a Lie Group $G$ and a state action $\\phi : G \\times \\mathcal{M} \\mapsto \\mathcal{M}$\n",
    "\n",
    "$\\phi(R, \\eta) := R^T \\eta$\n",
    "\n",
    "We show the state symmetry, by showing it is a right group action. Application of this action to a product of group elements is equivalent to sequential application to each element in the group.\n",
    "\n",
    "$\\phi(Y, \\phi(X, \\eta)) = Y^T X^T \\eta = \\phi(XY, \\eta)$"
   ]
  },
  {
   "cell_type": "markdown",
   "id": "9c0b0e56-232a-4fdb-8915-78e0833b0cab",
   "metadata": {},
   "source": [
    "## Step 2: Check that the System is Equivariant and Compute the Input Symmetry : $\\psi : G \\times \\mathbb{L} \\mapsto \\mathbb{L}$\n",
    "\n",
    "Define the input right group action as: \n",
    "\n",
    "$SO(3) \\times \\mathbb{R}^3 \\mapsto \\mathbb{R}^3$\n",
    "\n",
    "$\\psi(R, \\Omega) := R^T \\Omega$\n",
    "\n",
    "\n",
    "\n",
    "The right group action used to describe the state symmetry, also induces a right group action on vector fields.\n",
    "\n",
    "$\\Phi(X, f) := D \\phi_X \\cdot f \\circ \\phi_X^{-1}$\n",
    "\n",
    "We will use from above that:\n",
    "\n",
    "$\\phi_R(\\eta) = R^T\\eta$\n",
    "\n",
    "$\\phi_R^{-1}(\\eta) = R\\eta$\n",
    "\n",
    "$f_\\Omega(\\eta) := -\\Omega^\\times \\eta$\n",
    "\n",
    "Substituting these functions in:\n",
    "\n",
    "$\\Phi(R, f_\\Omega) = D \\phi_R \\cdot f_\\Omega \\circ \\phi_R^{-1}$\n",
    "\n",
    "$D \\phi_R [v] = D_{\\eta'} |_{v}  R^T\\eta = \\lim\\limits_{t \\rightarrow 0} \\dfrac{R^T(\\eta' + t v) - R^T(\\eta')}{t} = R^T v$\n",
    "\n",
    "$f_\\Omega \\circ \\phi_R^{-1} = -\\Omega^\\times R \\eta$\n",
    "\n",
    "$\\Phi(R, f_\\Omega) (\\eta) = - R^T \\Omega^\\times R \\eta = - (R^T \\Omega)^\\times \\eta = f_{\\psi(R, \\Omega)} (\\eta)$"
   ]
  },
  {
   "cell_type": "markdown",
   "id": "146461af-7792-4f2c-87dc-71513340cd7d",
   "metadata": {},
   "source": [
    "## Step 3: Construct an Equivariant Lift $\\Lambda : \\mathcal{M} \\times \\mathbb{L} \\mapsto \\mathfrak{g}$\n",
    "\n",
    "$D_{X|id} \\phi_\\xi(X) [\\Lambda(\\xi, u)] = f_u(\\xi)$\n",
    "\n",
    "$D_{R|id} \\phi_\\eta(R)[v] = \\lim\\limits_{t \\rightarrow 0} \\dfrac{1}{2}$"
   ]
  },
  {
   "cell_type": "code",
   "execution_count": 1,
   "id": "9d05be5e-6183-4b8f-a46c-05f7e45a162b",
   "metadata": {
    "tags": []
   },
   "outputs": [],
   "source": [
    "import casadi as ca\n",
    "import cyecca.lie as lie\n",
    "from cyecca.util import rk4\n",
    "from cyecca.symbolic import casadi_to_sympy\n",
    "import numpy as np\n",
    "import matplotlib.pyplot as plt"
   ]
  },
  {
   "cell_type": "code",
   "execution_count": 10,
   "id": "2d865d43-b537-457b-b482-9db590da7bf2",
   "metadata": {
    "tags": []
   },
   "outputs": [
    {
     "data": {
      "text/plain": [
       "DM([4, 16, 36])"
      ]
     },
     "execution_count": 10,
     "metadata": {},
     "output_type": "execute_result"
    }
   ],
   "source": [
    "ca.DM([2, 4, 6]) ** 2"
   ]
  },
  {
   "cell_type": "code",
   "execution_count": 226,
   "id": "4051c5cc-7b69-4553-b267-36678bc374a2",
   "metadata": {
    "tags": []
   },
   "outputs": [],
   "source": [
    "def derive_functions():\n",
    "    u = ca.SX.sym(\"u\", 3)\n",
    "    x = ca.SX.sym(\"x\", 3)\n",
    "    p = ca.SX.sym(\"p\", 0)\n",
    "\n",
    "    x_h = ca.SX.sym(\"x_h\", 3)\n",
    "    x_e = ca.SX.sym(\"x_e\", 3)\n",
    "    t = ca.SX.sym(\"t\")\n",
    "    dt = ca.SX.sym(\"dt\")\n",
    "    cm = 1\n",
    "\n",
    "    f_f = ca.Function(\n",
    "        \"f\",\n",
    "        [x, u, p, dt],\n",
    "        [lie.SO3Dcm.exp(lie.so3.elem(-u * dt)).to_Matrix() @ x],\n",
    "        [\"x\", \"u\", \"p\", \"dt\"],\n",
    "        [\"x1\"],\n",
    "    )\n",
    "\n",
    "    f_h = ca.Function(\"h\", [x, u, p], [x / ca.norm_2(x)], [\"x\", \"u\", \"p\"], [\"h\"])\n",
    "\n",
    "    f_g = ca.Function(\"g\", [x, u, p], [ca.dot(x, x)], [\"x\", \"u\", \"p\"], [\"g\"])\n",
    "\n",
    "    return locals()\n",
    "\n",
    "\n",
    "funcs = derive_functions()\n",
    "\n",
    "\n",
    "def derive_ekf_predict(f):\n",
    "    \"\"\"\n",
    "    x1 = f(x, u, p, dt)\n",
    "    \"\"\"\n",
    "    dt = ca.SX.sym(\"dt\")\n",
    "\n",
    "    n = f.numel_in(0)  # number of states\n",
    "    m = f.numel_in(1)  # number of inputs\n",
    "    l = f.numel_in(2)  # number of parameters\n",
    "\n",
    "    Q = ca.SX.sym(\"Q\", n, n)\n",
    "    M = ca.SX.sym(\"M\", m, m)\n",
    "\n",
    "    x = ca.SX.sym(\"x\", n)\n",
    "    u = ca.SX.sym(\"u\", m)\n",
    "\n",
    "    x_0 = ca.SX.sym(\"x_0\", n)\n",
    "    u_0 = ca.SX.sym(\"u_0\", m)\n",
    "    p_0 = ca.SX.sym(\"p_0\", l)\n",
    "    P_0 = ca.SX.sym(\"P_0\", n, n)\n",
    "\n",
    "    F = ca.sparsify(ca.jacobian(f(x, u_0, p_0, dt), x))\n",
    "    F = ca.substitute(F, x, x_0)\n",
    "\n",
    "    B = ca.jacobian(f(x_0, u, p_0, dt), u)\n",
    "    B = ca.substitute(B, u, u_0)\n",
    "\n",
    "    P_1 = ca.sparsify(F @ P_0 @ F.T + B @ M @ B.T + Q)\n",
    "    x_1 = f(x_0, u_0, p_0, dt)\n",
    "    return ca.Function(\n",
    "        \"predict\",\n",
    "        [x_0, u_0, p_0, P_0, Q, M, dt],\n",
    "        [x_1, P_1],\n",
    "        [\"x_0\", \"u\", \"p\", \"P_0\", \"Q\", \"M\", \"dt\"],\n",
    "        [\"x_1\", \"P_1\"],\n",
    "    )\n",
    "\n",
    "\n",
    "f_ekf_predict = derive_ekf_predict(funcs[\"f_f\"])"
   ]
  },
  {
   "cell_type": "code",
   "execution_count": 227,
   "id": "8ab0d907-d521-447f-8b39-f59f7a31ed4e",
   "metadata": {
    "tags": []
   },
   "outputs": [
    {
     "data": {
      "text/plain": [
       "(SX([1, 2, 3]),\n",
       " SX(@1=-0.521514, @2=-0.782271, @3=-1.56454, \n",
       " [[5.38984, @1, @2], \n",
       "  [@1, 4.60757, @3], \n",
       "  [@2, @3, 3.30379]]))"
      ]
     },
     "execution_count": 227,
     "metadata": {},
     "output_type": "execute_result"
    }
   ],
   "source": [
    "f_ekf_predict([1, 2, 3], [1, 2, 3], [], ca.SX.eye(3), ca.SX.eye(3), ca.SX.eye(3), 1)"
   ]
  },
  {
   "cell_type": "code",
   "execution_count": 228,
   "id": "b32adfd2-ec8d-4712-9331-caf7f2d3fb4c",
   "metadata": {
    "tags": []
   },
   "outputs": [],
   "source": [
    "def derive_ekf_correct(g):\n",
    "    \"\"\"\n",
    "    y = g(x, u, p)\n",
    "    \"\"\"\n",
    "    n = g.numel_in(0)  # number of states\n",
    "    m = g.numel_in(1)  # number of inputs\n",
    "    l = g.numel_in(2)  # number of parameters\n",
    "    o = g.numel_out(0)  # number of outputs\n",
    "\n",
    "    y = ca.SX.sym(\"y\", o)\n",
    "    R = ca.SX.sym(\"R\", o, o)\n",
    "\n",
    "    x = ca.SX.sym(\"x\", n)\n",
    "    u = ca.SX.sym(\"u\", m)\n",
    "\n",
    "    x_0 = ca.SX.sym(\"x_0\", n)\n",
    "    u_0 = ca.SX.sym(\"u_0\", m)\n",
    "    p = ca.SX.sym(\"p\", l)\n",
    "    P_0 = ca.SX.sym(\"P_0\", n, n)\n",
    "\n",
    "    H = ca.jacobian(g(x, u_0, p), x)\n",
    "    H = ca.substitute(H, x, x_0)\n",
    "\n",
    "    I = ca.SX.eye(n)\n",
    "    S = H @ P_0 @ H.T + R\n",
    "    S_I = ca.inv(S)\n",
    "    K = P_0 @ H.T @ S_I\n",
    "    P_1 = (I - K @ H) @ P_0\n",
    "    y_h = g(x_0, u_0, p)\n",
    "    x_1 = x_0 + K @ (y - y_h)\n",
    "    return ca.Function(\n",
    "        \"predict\",\n",
    "        [x_0, u_0, p, y, P_0, R],\n",
    "        [x_1, P_1],\n",
    "        [\"x_0\", \"u_0\", \"p\", \"y\", \"P_0\", \"R\"],\n",
    "        [\"x_1\", \"P_1\"],\n",
    "    )\n",
    "\n",
    "\n",
    "f_ekf_correct_h = derive_ekf_correct(funcs[\"f_h\"])\n",
    "f_ekf_correct_g = derive_ekf_correct(funcs[\"f_g\"])"
   ]
  },
  {
   "cell_type": "code",
   "execution_count": 229,
   "id": "ef020ee5-74f2-4df3-b891-10da4a162dac",
   "metadata": {
    "tags": []
   },
   "outputs": [
    {
     "data": {
      "image/png": "[encoded data removed]",
      "text/plain": [
       "<Figure size 640x480 with 1 Axes>"
      ]
     },
     "metadata": {},
     "output_type": "display_data"
    }
   ],
   "source": [
    "def simulate():\n",
    "    dt = 0.1\n",
    "    tf = 1\n",
    "    hist = {\n",
    "        \"x\": [],\n",
    "        \"x_h\": [],\n",
    "        \"t\": [],\n",
    "        \"P\": [],\n",
    "    }\n",
    "\n",
    "    x = np.array([1, 0, 0])\n",
    "    x_h = np.array([0.9, 1.0, 0])\n",
    "\n",
    "    u = np.array([1, 2, 3])\n",
    "    p = np.array([])\n",
    "\n",
    "    P = 10 * np.eye(3)\n",
    "    Q = 10 * np.eye(3)\n",
    "    M = 10 * np.eye(3)\n",
    "    R = 10 * np.eye(3)\n",
    "    R_g = 0.1 * np.eye(1)\n",
    "\n",
    "    for t in np.arange(0, tf, dt):\n",
    "        # store\n",
    "        hist[\"t\"].append(t)\n",
    "        hist[\"x\"].append(np.array(ca.DM(x)).reshape(-1))\n",
    "        hist[\"x_h\"].append(np.array(ca.DM(x_h)).reshape(-1))\n",
    "        hist[\"P\"].append(np.array(ca.DM(P)).reshape(-1))\n",
    "\n",
    "        # simulate\n",
    "        x = funcs[\"f_f\"](x, u, p, dt)\n",
    "        y_h = funcs[\"f_h\"](x, u, p) + 0.01 * np.random.randn(3)\n",
    "\n",
    "        # filter\n",
    "        x_h, P = f_ekf_predict(x_h, u, p, P, Q, M, dt)\n",
    "\n",
    "        x_h, P = f_ekf_correct_h(x_h, u, p, y_h, P, R)\n",
    "\n",
    "        g = funcs[\"f_g\"](x_h, u, p)\n",
    "        x_h, P = f_ekf_correct_g(x_h, u, p, 1, P, R_g)\n",
    "\n",
    "    for k in hist.keys():\n",
    "        hist[k] = np.array(hist[k])\n",
    "    return hist\n",
    "\n",
    "\n",
    "hist = simulate()\n",
    "plt.plot(hist[\"t\"], hist[\"x\"] - hist[\"x_h\"]);"
   ]
  },
  {
   "cell_type": "code",
   "execution_count": 230,
   "id": "9f9a0e67-7bc2-425b-8a03-913ecc114d45",
   "metadata": {
    "tags": []
   },
   "outputs": [
    {
     "data": {
      "text/plain": [
       "[<matplotlib.lines.Line2D at 0x7ff24fb212d0>]"
      ]
     },
     "execution_count": 230,
     "metadata": {},
     "output_type": "execute_result"
    },
    {
     "data": {
      "image/png": "[encoded data removed]",
      "text/plain": [
       "<Figure size 640x480 with 1 Axes>"
      ]
     },
     "metadata": {},
     "output_type": "display_data"
    }
   ],
   "source": [
    "plt.plot(hist[\"t\"], hist[\"P\"][:, 0])\n",
    "plt.plot(hist[\"t\"], hist[\"P\"][:, 4])\n",
    "plt.plot(hist[\"t\"], hist[\"P\"][:, 8])"
   ]
  }
 ],
 "metadata": {
  "kernelspec": {
   "display_name": "Python 3 (ipykernel)",
   "language": "python",
   "name": "python3"
  },
  "language_info": {
   "codemirror_mode": {
    "name": "ipython",
    "version": 3
   },
   "file_extension": ".py",
   "mimetype": "text/x-python",
   "name": "python",
   "nbconvert_exporter": "python",
   "pygments_lexer": "ipython3",
   "version": "3.10.12"
  }
 },
 "nbformat": 4,
 "nbformat_minor": 5
}
