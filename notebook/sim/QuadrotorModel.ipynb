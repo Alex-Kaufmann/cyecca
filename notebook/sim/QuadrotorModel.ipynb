{
 "cells": [
  {
   "cell_type": "code",
   "execution_count": 1,
   "metadata": {
    "tags": []
   },
   "outputs": [],
   "source": [
    "import numpy as np\n",
    "import quadrotor\n",
    "\n",
    "model = quadrotor.derive_model()\n",
    "\n",
    "t = np.arange(0, 10, 0.001)\n",
    "T_trim = 0.582324\n",
    "u_sim = np.vstack(\n",
    "    [\n",
    "        1.2*T_trim*np.ones(len(t)),\n",
    "        1.2*T_trim*np.ones(len(t)),\n",
    "        T_trim*np.ones(len(t)),\n",
    "        T_trim*np.ones(len(t)),\n",
    "    ]\n",
    ")\n",
    "\n",
    "res = quadrotor.sim(\n",
    "    model=model,\n",
    "    t=t,\n",
    "    u=u_sim,\n",
    "    x0={\n",
    "        \"normalized_motor_0\": T_trim,\n",
    "        \"normalized_motor_1\": T_trim,\n",
    "        \"normalized_motor_2\": T_trim,\n",
    "        \"normalized_motor_3\": T_trim,\n",
    "    },\n",
    ")\n",
    "\n",
    "quadrotor.plotting(model, t, res, './fig')"
   ]
  },
  {
   "cell_type": "code",
   "execution_count": 2,
   "metadata": {
    "tags": []
   },
   "outputs": [
    {
     "name": "stdout",
     "output_type": "stream",
     "text": [
      "47.2 ms ± 332 μs per loop (mean ± std. dev. of 7 runs, 10 loops each)\n"
     ]
    }
   ],
   "source": [
    "%%timeit\n",
    "res = quadrotor.sim(\n",
    "    model,\n",
    "    t,\n",
    "    u_sim,\n",
    "    {\n",
    "        \"normalized_motor_0\": T_trim,\n",
    "        \"normalized_motor_0\": T_trim,\n",
    "        \"normalized_motor_0\": T_trim,\n",
    "        \"normalized_motor_0\": T_trim,\n",
    "    },\n",
    ")"
   ]
  },
  {
   "cell_type": "code",
   "execution_count": null,
   "metadata": {},
   "outputs": [],
   "source": []
  }
 ],
 "metadata": {
  "kernelspec": {
   "display_name": "Python 3 (ipykernel)",
   "language": "python",
   "name": "python3"
  },
  "language_info": {
   "codemirror_mode": {
    "name": "ipython",
    "version": 3
   },
   "file_extension": ".py",
   "mimetype": "text/x-python",
   "name": "python",
   "nbconvert_exporter": "python",
   "pygments_lexer": "ipython3",
   "version": "3.10.12"
  }
 },
 "nbformat": 4,
 "nbformat_minor": 4
}
