{
 "cells": [
  {
   "cell_type": "code",
   "execution_count": 1,
   "id": "2b00fa2d-b72b-4084-a7f8-750c5a74e516",
   "metadata": {
    "tags": []
   },
   "outputs": [],
   "source": [
    "%load_ext autoreload\n",
    "%autoreload 2\n",
    "\n",
    "from cyecca import lie\n",
    "import numpy as np"
   ]
  },
  {
   "cell_type": "markdown",
   "id": "af854276-0869-4cc9-a96b-5dc6a1466d5f",
   "metadata": {},
   "source": [
    "# SO(2) Example"
   ]
  },
  {
   "cell_type": "code",
   "execution_count": 2,
   "id": "31befae9-0caf-4285-8580-83cf67f414fa",
   "metadata": {
    "tags": []
   },
   "outputs": [
    {
     "data": {
      "text/plain": [
       "<cyecca.lie._base.LieAlgebraElement at 0x7fccd9176020>"
      ]
     },
     "execution_count": 2,
     "metadata": {},
     "output_type": "execute_result"
    }
   ],
   "source": [
    "theta = np.array([1.0])\n",
    "g1 = lie.so2.element(param=theta)\n",
    "g1"
   ]
  },
  {
   "cell_type": "code",
   "execution_count": 3,
   "id": "8681aa5f-dad7-47e7-b9b9-8ec02eaada71",
   "metadata": {
    "tags": []
   },
   "outputs": [
    {
     "data": {
      "text/plain": [
       "array([[0.]])"
      ]
     },
     "execution_count": 3,
     "metadata": {},
     "output_type": "execute_result"
    }
   ],
   "source": [
    "g1.ad()"
   ]
  },
  {
   "cell_type": "code",
   "execution_count": 4,
   "id": "a1dc8ec9-4875-4425-b3a3-5ab2005738ad",
   "metadata": {
    "tags": []
   },
   "outputs": [
    {
     "data": {
      "text/plain": [
       "array([[ 0., -1.],\n",
       "       [ 1.,  0.]])"
      ]
     },
     "execution_count": 4,
     "metadata": {},
     "output_type": "execute_result"
    }
   ],
   "source": [
    "g1.to_matrix()"
   ]
  },
  {
   "cell_type": "code",
   "execution_count": 5,
   "id": "df3c8bb4-b419-42c6-84da-b5db856fb1c3",
   "metadata": {
    "tags": []
   },
   "outputs": [
    {
     "data": {
      "text/plain": [
       "<cyecca.lie._base.LieAlgebraElement at 0x7fccd9175de0>"
      ]
     },
     "execution_count": 5,
     "metadata": {},
     "output_type": "execute_result"
    }
   ],
   "source": [
    "lie.so2.wedge(theta)"
   ]
  },
  {
   "cell_type": "code",
   "execution_count": 6,
   "id": "7b991b84-de25-4193-81f8-0c3ac6aca70b",
   "metadata": {
    "tags": []
   },
   "outputs": [
    {
     "data": {
      "text/plain": [
       "array([1.])"
      ]
     },
     "execution_count": 6,
     "metadata": {},
     "output_type": "execute_result"
    }
   ],
   "source": [
    "g1.vee()"
   ]
  },
  {
   "cell_type": "code",
   "execution_count": 9,
   "id": "3c1a2e12-4fff-47b5-be6a-473ce3517d47",
   "metadata": {
    "tags": []
   },
   "outputs": [
    {
     "data": {
      "text/plain": [
       "<cyecca.lie._base.LieGroupElement at 0x7fccb813beb0>"
      ]
     },
     "execution_count": 9,
     "metadata": {},
     "output_type": "execute_result"
    }
   ],
   "source": [
    "G1 = g1.exp(lie.SO2)\n",
    "G1"
   ]
  },
  {
   "cell_type": "code",
   "execution_count": 10,
   "id": "1539f95b-e185-401a-89ef-731d3eead10b",
   "metadata": {
    "tags": []
   },
   "outputs": [
    {
     "data": {
      "text/plain": [
       "array([[ 0.54030231, -0.84147098],\n",
       "       [ 0.84147098,  0.54030231]])"
      ]
     },
     "execution_count": 10,
     "metadata": {},
     "output_type": "execute_result"
    }
   ],
   "source": [
    "G1.to_matrix()"
   ]
  },
  {
   "cell_type": "code",
   "execution_count": 12,
   "id": "dafe91d5-f429-46c0-a69d-fb8099dce957",
   "metadata": {
    "tags": []
   },
   "outputs": [
    {
     "data": {
      "text/plain": [
       "array([[ 0.54030231,  0.84147098],\n",
       "       [-0.84147098,  0.54030231]])"
      ]
     },
     "execution_count": 12,
     "metadata": {},
     "output_type": "execute_result"
    }
   ],
   "source": [
    "G1_inv = G1.inverse()\n",
    "G1_inv.to_matrix()"
   ]
  },
  {
   "cell_type": "code",
   "execution_count": 13,
   "id": "3f42f1b7-3240-45f8-b2ed-a0b29b7c6c3b",
   "metadata": {
    "tags": []
   },
   "outputs": [
    {
     "data": {
      "text/plain": [
       "array([[1.]])"
      ]
     },
     "execution_count": 13,
     "metadata": {},
     "output_type": "execute_result"
    }
   ],
   "source": [
    "G1.Ad()"
   ]
  },
  {
   "cell_type": "code",
   "execution_count": 16,
   "id": "d9905f3f-c91b-46a9-a1e7-7028ae406d98",
   "metadata": {
    "tags": []
   },
   "outputs": [
    {
     "data": {
      "text/plain": [
       "array([1.])"
      ]
     },
     "execution_count": 16,
     "metadata": {},
     "output_type": "execute_result"
    }
   ],
   "source": [
    "G1.log().param"
   ]
  },
  {
   "cell_type": "markdown",
   "id": "9e65b700-c035-4f6b-9b8b-336bbc3a7d48",
   "metadata": {},
   "source": [
    "# SE(2) Example"
   ]
  },
  {
   "cell_type": "code",
   "execution_count": 18,
   "id": "99dfe6fa-810c-4c44-8331-4d40a4541194",
   "metadata": {
    "tags": []
   },
   "outputs": [
    {
     "data": {
      "text/plain": [
       "<cyecca.lie._base.LieAlgebraElement at 0x7fccac3ada50>"
      ]
     },
     "execution_count": 18,
     "metadata": {},
     "output_type": "execute_result"
    }
   ],
   "source": [
    "p = np.array([1.0,2.0,0.5])\n",
    "g2 = lie.se2.element(p)\n",
    "g2"
   ]
  },
  {
   "cell_type": "code",
   "execution_count": 57,
   "id": "bbc03306-7ebf-448c-9a8a-7d71b4c9dd0f",
   "metadata": {
    "tags": []
   },
   "outputs": [
    {
     "data": {
      "text/plain": [
       "array([[ 0. , -0.5,  2. ],\n",
       "       [ 0.5,  0. , -1. ],\n",
       "       [ 0. ,  0. ,  0. ]])"
      ]
     },
     "execution_count": 57,
     "metadata": {},
     "output_type": "execute_result"
    }
   ],
   "source": [
    "g2.ad()"
   ]
  },
  {
   "cell_type": "code",
   "execution_count": 36,
   "id": "b3c961c5-f9fb-4316-8ebc-38869699b5e2",
   "metadata": {
    "tags": []
   },
   "outputs": [
    {
     "data": {
      "text/plain": [
       "array([[ 0. , -0.5,  1. ],\n",
       "       [ 0.5,  0. ,  2. ],\n",
       "       [ 0. ,  0. ,  0. ]])"
      ]
     },
     "execution_count": 36,
     "metadata": {},
     "output_type": "execute_result"
    }
   ],
   "source": [
    "g2.to_matrix()"
   ]
  },
  {
   "cell_type": "code",
   "execution_count": 37,
   "id": "a1d8e980-e2e0-47fe-94e7-43961d5c5516",
   "metadata": {
    "tags": []
   },
   "outputs": [
    {
     "data": {
      "text/plain": [
       "<cyecca.lie._base.LieAlgebraElement at 0x7fcc7b2f4c70>"
      ]
     },
     "execution_count": 37,
     "metadata": {},
     "output_type": "execute_result"
    }
   ],
   "source": [
    "lie.se2.wedge(p)"
   ]
  },
  {
   "cell_type": "code",
   "execution_count": 38,
   "id": "0fceec64-df38-453b-bb06-4946ec1d4e52",
   "metadata": {
    "tags": []
   },
   "outputs": [
    {
     "data": {
      "text/plain": [
       "array([1. , 2. , 0.5])"
      ]
     },
     "execution_count": 38,
     "metadata": {},
     "output_type": "execute_result"
    }
   ],
   "source": [
    "g2.vee()"
   ]
  },
  {
   "cell_type": "code",
   "execution_count": 42,
   "id": "7b8b6740-38d9-4cdc-8650-ef568642acae",
   "metadata": {
    "tags": []
   },
   "outputs": [
    {
     "data": {
      "text/plain": [
       "<cyecca.lie._base.LieGroupElement at 0x7fcc7b3be500>"
      ]
     },
     "execution_count": 42,
     "metadata": {},
     "output_type": "execute_result"
    }
   ],
   "source": [
    "G2 = g2.exp(lie.SE2)\n",
    "G2"
   ]
  },
  {
   "cell_type": "code",
   "execution_count": 48,
   "id": "2dea5f0b-629f-4675-82ee-1dd74fd823b7",
   "metadata": {
    "tags": []
   },
   "outputs": [
    {
     "data": {
      "text/plain": [
       "array([[ 0.87758256, -0.47942554,  0.46918132],\n",
       "       [ 0.47942554,  0.87758256,  2.16253703],\n",
       "       [ 0.        ,  0.        ,  1.        ]])"
      ]
     },
     "execution_count": 48,
     "metadata": {},
     "output_type": "execute_result"
    }
   ],
   "source": [
    "G2.to_matrix()"
   ]
  },
  {
   "cell_type": "code",
   "execution_count": 51,
   "id": "8a8b9e3d-ef71-491b-a676-c9d628bbd0fc",
   "metadata": {
    "tags": []
   },
   "outputs": [
    {
     "data": {
      "text/plain": [
       "array([[ 0.87758256,  0.47942554, -1.44852083],\n",
       "       [-0.47942554,  0.87758256, -1.67286728],\n",
       "       [ 0.        ,  0.        ,  1.        ]])"
      ]
     },
     "execution_count": 51,
     "metadata": {},
     "output_type": "execute_result"
    }
   ],
   "source": [
    "G2_inv = G2.inverse()\n",
    "G2_inv.to_matrix()"
   ]
  },
  {
   "cell_type": "code",
   "execution_count": 52,
   "id": "8da2aac2-d814-4383-8926-97a7ea556ee6",
   "metadata": {
    "tags": []
   },
   "outputs": [
    {
     "data": {
      "text/plain": [
       "array([[ 0.87758256, -0.47942554,  2.16253703],\n",
       "       [ 0.47942554,  0.87758256, -0.46918132],\n",
       "       [ 0.        ,  0.        ,  1.        ]])"
      ]
     },
     "execution_count": 52,
     "metadata": {},
     "output_type": "execute_result"
    }
   ],
   "source": [
    "G2.Ad()"
   ]
  },
  {
   "cell_type": "code",
   "execution_count": 53,
   "id": "fbee1a50-d617-4905-b2f8-cbe3a6c38c3b",
   "metadata": {
    "tags": []
   },
   "outputs": [
    {
     "data": {
      "text/plain": [
       "array([1. , 2. , 0.5])"
      ]
     },
     "execution_count": 53,
     "metadata": {},
     "output_type": "execute_result"
    }
   ],
   "source": [
    "G2.log().param"
   ]
  },
  {
   "cell_type": "markdown",
   "id": "a6629baf-6ea8-4909-9362-fac1d8efba95",
   "metadata": {},
   "source": [
    "# SO(3)"
   ]
  },
  {
   "cell_type": "code",
   "execution_count": 23,
   "id": "f8613507-f0f2-4074-92bd-e49c4337305a",
   "metadata": {
    "tags": []
   },
   "outputs": [],
   "source": [
    "SO3EulerB321 = lie.SO3Euler(euler_type=lie.EulerType.body_fixed, sequence=[lie.Axis.z, lie.Axis.y, lie.Axis.x])"
   ]
  },
  {
   "cell_type": "code",
   "execution_count": 3,
   "id": "0e8b8802-2d66-45b7-8b7f-c107d723353e",
   "metadata": {
    "tags": []
   },
   "outputs": [],
   "source": [
    "SE3 = lie.SE3(SO3=lie.SO3MRP)"
   ]
  },
  {
   "cell_type": "code",
   "execution_count": 4,
   "id": "67e9f828-f0b4-4bff-883f-14d0828e28fb",
   "metadata": {
    "tags": []
   },
   "outputs": [
    {
     "data": {
      "text/plain": [
       "array([[ 0.10719821, -0.09672019,  0.98952198],\n",
       "       [ 0.98952198,  0.10719821, -0.09672019],\n",
       "       [-0.09672019,  0.98952198,  0.10719821]])"
      ]
     },
     "execution_count": 4,
     "metadata": {},
     "output_type": "execute_result"
    }
   ],
   "source": [
    "X = lie.SO3MRP.element(np.array([0.3,0.3,0.3,0.3]))\n",
    "X.to_matrix()"
   ]
  },
  {
   "cell_type": "code",
   "execution_count": 5,
   "id": "95d41b93-e619-45f4-a65b-bc3bbd38d377",
   "metadata": {
    "tags": []
   },
   "outputs": [
    {
     "data": {
      "text/plain": [
       "<cyecca.lie._base.LieAlgebraElement at 0x7f54b42c7040>"
      ]
     },
     "execution_count": 5,
     "metadata": {},
     "output_type": "execute_result"
    }
   ],
   "source": [
    "x = X.log()\n",
    "x"
   ]
  },
  {
   "cell_type": "code",
   "execution_count": 23,
   "id": "1c5d5e85-1247-46eb-8335-9571a9931110",
   "metadata": {
    "tags": []
   },
   "outputs": [
    {
     "data": {
      "text/plain": [
       "array([1.10670283, 1.10670283, 1.10670283])"
      ]
     },
     "execution_count": 23,
     "metadata": {},
     "output_type": "execute_result"
    }
   ],
   "source": [
    "lie.so3.vee(x)"
   ]
  },
  {
   "cell_type": "code",
   "execution_count": 6,
   "id": "32e10394-20c7-4805-a40b-33d9c267a8de",
   "metadata": {
    "tags": []
   },
   "outputs": [
    {
     "data": {
      "text/plain": [
       "<cyecca.lie._base.LieGroupElement at 0x7f54b42c6980>"
      ]
     },
     "execution_count": 6,
     "metadata": {},
     "output_type": "execute_result"
    }
   ],
   "source": [
    "X_exp = x.exp(lie.SO3Quat)\n",
    "X_exp"
   ]
  },
  {
   "cell_type": "code",
   "execution_count": 7,
   "id": "f8e04a31-a576-4a21-92bc-d936d92778f8",
   "metadata": {
    "tags": []
   },
   "outputs": [
    {
     "data": {
      "text/plain": [
       "array([[ 0.10719821, -0.09672019,  0.98952198],\n",
       "       [ 0.98952198,  0.10719821, -0.09672019],\n",
       "       [-0.09672019,  0.98952198,  0.10719821]])"
      ]
     },
     "execution_count": 7,
     "metadata": {},
     "output_type": "execute_result"
    }
   ],
   "source": [
    "X_exp.to_matrix()"
   ]
  },
  {
   "cell_type": "code",
   "execution_count": 8,
   "id": "e11a7a9c-c190-4546-b2c4-ba3cb26755c2",
   "metadata": {
    "tags": []
   },
   "outputs": [
    {
     "data": {
      "text/plain": [
       "<cyecca.lie._base.LieAlgebraElement at 0x7f54b42c76d0>"
      ]
     },
     "execution_count": 8,
     "metadata": {},
     "output_type": "execute_result"
    }
   ],
   "source": [
    "g1 = lie.se3.element(np.array([1.0, 2.0, 3.0, 0.1, 0.2, 0.3]))\n",
    "g1"
   ]
  },
  {
   "cell_type": "code",
   "execution_count": 9,
   "id": "ffebed50-2818-4976-ab48-36c252473d6b",
   "metadata": {
    "tags": []
   },
   "outputs": [
    {
     "data": {
      "text/plain": [
       "<cyecca.lie._base.LieGroupElement at 0x7f54b42c7820>"
      ]
     },
     "execution_count": 9,
     "metadata": {},
     "output_type": "execute_result"
    }
   ],
   "source": [
    "G = g1.exp(SE3)\n",
    "G"
   ]
  },
  {
   "cell_type": "code",
   "execution_count": 14,
   "id": "84ac3620-2f34-434d-973d-d8954f6d2e2c",
   "metadata": {
    "tags": []
   },
   "outputs": [
    {
     "data": {
      "text/plain": [
       "array([1.        , 2.        , 3.        , 0.02507317, 0.05014635,\n",
       "       0.07521952, 0.        ])"
      ]
     },
     "execution_count": 14,
     "metadata": {},
     "output_type": "execute_result"
    }
   ],
   "source": [
    "G.param"
   ]
  },
  {
   "cell_type": "code",
   "execution_count": 19,
   "id": "96ba4611-4c67-49ae-a79c-537487036daf",
   "metadata": {
    "tags": []
   },
   "outputs": [
    {
     "data": {
      "text/plain": [
       "array([1. , 2. , 3. , 0.1, 0.2, 0.3])"
      ]
     },
     "execution_count": 19,
     "metadata": {},
     "output_type": "execute_result"
    }
   ],
   "source": [
    "G.log().param"
   ]
  },
  {
   "cell_type": "code",
   "execution_count": null,
   "id": "785f582f-e614-4bfe-a9c2-db02f8669c2f",
   "metadata": {},
   "outputs": [],
   "source": []
  }
 ],
 "metadata": {
  "kernelspec": {
   "display_name": "Python 3 (ipykernel)",
   "language": "python",
   "name": "python3"
  },
  "language_info": {
   "codemirror_mode": {
    "name": "ipython",
    "version": 3
   },
   "file_extension": ".py",
   "mimetype": "text/x-python",
   "name": "python",
   "nbconvert_exporter": "python",
   "pygments_lexer": "ipython3",
   "version": "3.10.6"
  }
 },
 "nbformat": 4,
 "nbformat_minor": 5
}
