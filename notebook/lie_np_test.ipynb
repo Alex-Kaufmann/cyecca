{
 "cells": [
  {
   "cell_type": "code",
   "execution_count": 1,
   "id": "2b00fa2d-b72b-4084-a7f8-750c5a74e516",
   "metadata": {
    "tags": []
   },
   "outputs": [],
   "source": [
    "%load_ext autoreload\n",
    "%autoreload 2\n",
    "\n",
    "from cyecca import lie\n",
    "import numpy as np\n",
    "import scipy"
   ]
  },
  {
   "cell_type": "markdown",
   "id": "af854276-0869-4cc9-a96b-5dc6a1466d5f",
   "metadata": {
    "jp-MarkdownHeadingCollapsed": true,
    "tags": []
   },
   "source": [
    "# SO(2) Example"
   ]
  },
  {
   "cell_type": "code",
   "execution_count": 2,
   "id": "31befae9-0caf-4285-8580-83cf67f414fa",
   "metadata": {
    "tags": []
   },
   "outputs": [
    {
     "data": {
      "text/plain": [
       "<cyecca.lie._base.LieAlgebraElement at 0x7fe9e809e4a0>"
      ]
     },
     "execution_count": 2,
     "metadata": {},
     "output_type": "execute_result"
    }
   ],
   "source": [
    "theta = np.array([1.2])\n",
    "g1 = lie.so2.element(param=theta)\n",
    "g1"
   ]
  },
  {
   "cell_type": "code",
   "execution_count": 3,
   "id": "8681aa5f-dad7-47e7-b9b9-8ec02eaada71",
   "metadata": {
    "tags": []
   },
   "outputs": [
    {
     "data": {
      "text/plain": [
       "array([[0.]])"
      ]
     },
     "execution_count": 3,
     "metadata": {},
     "output_type": "execute_result"
    }
   ],
   "source": [
    "g1.ad()"
   ]
  },
  {
   "cell_type": "code",
   "execution_count": 4,
   "id": "a1dc8ec9-4875-4425-b3a3-5ab2005738ad",
   "metadata": {
    "tags": []
   },
   "outputs": [
    {
     "data": {
      "text/plain": [
       "array([[ 0. , -1.2],\n",
       "       [ 1.2,  0. ]])"
      ]
     },
     "execution_count": 4,
     "metadata": {},
     "output_type": "execute_result"
    }
   ],
   "source": [
    "g1.to_matrix()"
   ]
  },
  {
   "cell_type": "code",
   "execution_count": 5,
   "id": "df3c8bb4-b419-42c6-84da-b5db856fb1c3",
   "metadata": {
    "tags": []
   },
   "outputs": [
    {
     "data": {
      "text/plain": [
       "<cyecca.lie._base.LieAlgebraElement at 0x7fe9d8117e80>"
      ]
     },
     "execution_count": 5,
     "metadata": {},
     "output_type": "execute_result"
    }
   ],
   "source": [
    "lie.so2.wedge(theta)"
   ]
  },
  {
   "cell_type": "code",
   "execution_count": 6,
   "id": "7b991b84-de25-4193-81f8-0c3ac6aca70b",
   "metadata": {
    "tags": []
   },
   "outputs": [
    {
     "data": {
      "text/plain": [
       "array([1.2])"
      ]
     },
     "execution_count": 6,
     "metadata": {},
     "output_type": "execute_result"
    }
   ],
   "source": [
    "g1.vee()"
   ]
  },
  {
   "cell_type": "code",
   "execution_count": 7,
   "id": "3c1a2e12-4fff-47b5-be6a-473ce3517d47",
   "metadata": {
    "tags": []
   },
   "outputs": [
    {
     "data": {
      "text/plain": [
       "<cyecca.lie._base.LieGroupElement at 0x7fe9d8116e00>"
      ]
     },
     "execution_count": 7,
     "metadata": {},
     "output_type": "execute_result"
    }
   ],
   "source": [
    "G1 = g1.exp(lie.SO2)\n",
    "G1"
   ]
  },
  {
   "cell_type": "code",
   "execution_count": 8,
   "id": "1539f95b-e185-401a-89ef-731d3eead10b",
   "metadata": {
    "tags": []
   },
   "outputs": [
    {
     "data": {
      "text/plain": [
       "array([[ 0.36235775, -0.93203909],\n",
       "       [ 0.93203909,  0.36235775]])"
      ]
     },
     "execution_count": 8,
     "metadata": {},
     "output_type": "execute_result"
    }
   ],
   "source": [
    "G1.to_matrix()"
   ]
  },
  {
   "cell_type": "code",
   "execution_count": 9,
   "id": "dafe91d5-f429-46c0-a69d-fb8099dce957",
   "metadata": {
    "tags": []
   },
   "outputs": [
    {
     "data": {
      "text/plain": [
       "array([[ 0.36235775,  0.93203909],\n",
       "       [-0.93203909,  0.36235775]])"
      ]
     },
     "execution_count": 9,
     "metadata": {},
     "output_type": "execute_result"
    }
   ],
   "source": [
    "G1_inv = G1.inverse()\n",
    "G1_inv.to_matrix()"
   ]
  },
  {
   "cell_type": "code",
   "execution_count": 10,
   "id": "4971f999-ddc0-46b1-803c-f5059949c7b4",
   "metadata": {
    "tags": []
   },
   "outputs": [
    {
     "data": {
      "text/plain": [
       "array([0.])"
      ]
     },
     "execution_count": 10,
     "metadata": {},
     "output_type": "execute_result"
    }
   ],
   "source": [
    "(G1*G1_inv).param"
   ]
  },
  {
   "cell_type": "code",
   "execution_count": 11,
   "id": "3f42f1b7-3240-45f8-b2ed-a0b29b7c6c3b",
   "metadata": {
    "tags": []
   },
   "outputs": [
    {
     "data": {
      "text/plain": [
       "array([[1.]])"
      ]
     },
     "execution_count": 11,
     "metadata": {},
     "output_type": "execute_result"
    }
   ],
   "source": [
    "G1.Ad()"
   ]
  },
  {
   "cell_type": "code",
   "execution_count": 12,
   "id": "d0d6612f-f65a-45e1-a170-5f42c079c44c",
   "metadata": {
    "tags": []
   },
   "outputs": [
    {
     "data": {
      "text/plain": [
       "array([[1.]])"
      ]
     },
     "execution_count": 12,
     "metadata": {},
     "output_type": "execute_result"
    }
   ],
   "source": [
    "scipy.linalg.expm(g1.ad())"
   ]
  },
  {
   "cell_type": "code",
   "execution_count": 13,
   "id": "d9905f3f-c91b-46a9-a1e7-7028ae406d98",
   "metadata": {
    "tags": []
   },
   "outputs": [
    {
     "data": {
      "text/plain": [
       "array([1.2])"
      ]
     },
     "execution_count": 13,
     "metadata": {},
     "output_type": "execute_result"
    }
   ],
   "source": [
    "G1.log().param"
   ]
  },
  {
   "cell_type": "markdown",
   "id": "9e65b700-c035-4f6b-9b8b-336bbc3a7d48",
   "metadata": {
    "jp-MarkdownHeadingCollapsed": true,
    "tags": []
   },
   "source": [
    "# SE(2) Example"
   ]
  },
  {
   "cell_type": "code",
   "execution_count": 14,
   "id": "99dfe6fa-810c-4c44-8331-4d40a4541194",
   "metadata": {
    "tags": []
   },
   "outputs": [
    {
     "data": {
      "text/plain": [
       "<cyecca.lie._base.LieAlgebraElement at 0x7fe9eb7c6080>"
      ]
     },
     "execution_count": 14,
     "metadata": {},
     "output_type": "execute_result"
    }
   ],
   "source": [
    "p = np.array([1.0,2.0,0.5])\n",
    "g2 = lie.se2.element(p)\n",
    "g2"
   ]
  },
  {
   "cell_type": "code",
   "execution_count": 15,
   "id": "bbc03306-7ebf-448c-9a8a-7d71b4c9dd0f",
   "metadata": {
    "tags": []
   },
   "outputs": [
    {
     "data": {
      "text/plain": [
       "array([[ 0. , -0.5,  2. ],\n",
       "       [ 0.5,  0. , -1. ],\n",
       "       [ 0. ,  0. ,  0. ]])"
      ]
     },
     "execution_count": 15,
     "metadata": {},
     "output_type": "execute_result"
    }
   ],
   "source": [
    "g2.ad()"
   ]
  },
  {
   "cell_type": "code",
   "execution_count": 16,
   "id": "b3c961c5-f9fb-4316-8ebc-38869699b5e2",
   "metadata": {
    "tags": []
   },
   "outputs": [
    {
     "data": {
      "text/plain": [
       "array([[ 0. , -0.5,  1. ],\n",
       "       [ 0.5,  0. ,  2. ],\n",
       "       [ 0. ,  0. ,  0. ]])"
      ]
     },
     "execution_count": 16,
     "metadata": {},
     "output_type": "execute_result"
    }
   ],
   "source": [
    "g2.to_matrix()"
   ]
  },
  {
   "cell_type": "code",
   "execution_count": 17,
   "id": "a1d8e980-e2e0-47fe-94e7-43961d5c5516",
   "metadata": {
    "tags": []
   },
   "outputs": [
    {
     "data": {
      "text/plain": [
       "<cyecca.lie._base.LieAlgebraElement at 0x7fe9eb79ff10>"
      ]
     },
     "execution_count": 17,
     "metadata": {},
     "output_type": "execute_result"
    }
   ],
   "source": [
    "lie.se2.wedge(p)"
   ]
  },
  {
   "cell_type": "code",
   "execution_count": 18,
   "id": "0fceec64-df38-453b-bb06-4946ec1d4e52",
   "metadata": {
    "tags": []
   },
   "outputs": [
    {
     "data": {
      "text/plain": [
       "array([1. , 2. , 0.5])"
      ]
     },
     "execution_count": 18,
     "metadata": {},
     "output_type": "execute_result"
    }
   ],
   "source": [
    "g2.vee()"
   ]
  },
  {
   "cell_type": "code",
   "execution_count": 19,
   "id": "7b8b6740-38d9-4cdc-8650-ef568642acae",
   "metadata": {
    "tags": []
   },
   "outputs": [
    {
     "data": {
      "text/plain": [
       "<cyecca.lie._base.LieGroupElement at 0x7fe9eb7c59f0>"
      ]
     },
     "execution_count": 19,
     "metadata": {},
     "output_type": "execute_result"
    }
   ],
   "source": [
    "G2 = g2.exp(lie.SE2)\n",
    "G2"
   ]
  },
  {
   "cell_type": "code",
   "execution_count": 20,
   "id": "2dea5f0b-629f-4675-82ee-1dd74fd823b7",
   "metadata": {
    "tags": []
   },
   "outputs": [
    {
     "data": {
      "text/plain": [
       "array([[ 0.87758256, -0.47942554,  0.46918132],\n",
       "       [ 0.47942554,  0.87758256,  2.16253703],\n",
       "       [ 0.        ,  0.        ,  1.        ]])"
      ]
     },
     "execution_count": 20,
     "metadata": {},
     "output_type": "execute_result"
    }
   ],
   "source": [
    "G2.to_matrix()"
   ]
  },
  {
   "cell_type": "code",
   "execution_count": 21,
   "id": "8a8b9e3d-ef71-491b-a676-c9d628bbd0fc",
   "metadata": {
    "tags": []
   },
   "outputs": [
    {
     "data": {
      "text/plain": [
       "array([[ 0.87758256,  0.47942554, -1.44852083],\n",
       "       [-0.47942554,  0.87758256, -1.67286728],\n",
       "       [ 0.        ,  0.        ,  1.        ]])"
      ]
     },
     "execution_count": 21,
     "metadata": {},
     "output_type": "execute_result"
    }
   ],
   "source": [
    "G2_inv = G2.inverse()\n",
    "G2_inv.to_matrix()"
   ]
  },
  {
   "cell_type": "code",
   "execution_count": 22,
   "id": "7e86a7ad-a67c-4ef6-9c19-54461caba89e",
   "metadata": {
    "tags": []
   },
   "outputs": [
    {
     "data": {
      "text/plain": [
       "array([[ 1.00000000e+00, -0.00000000e+00,  1.11022302e-16],\n",
       "       [ 0.00000000e+00,  1.00000000e+00,  0.00000000e+00],\n",
       "       [ 0.00000000e+00,  0.00000000e+00,  1.00000000e+00]])"
      ]
     },
     "execution_count": 22,
     "metadata": {},
     "output_type": "execute_result"
    }
   ],
   "source": [
    "(G2*G2_inv).to_matrix()"
   ]
  },
  {
   "cell_type": "code",
   "execution_count": 23,
   "id": "8da2aac2-d814-4383-8926-97a7ea556ee6",
   "metadata": {
    "tags": []
   },
   "outputs": [
    {
     "data": {
      "text/plain": [
       "array([[ 0.87758256, -0.47942554,  2.16253703],\n",
       "       [ 0.47942554,  0.87758256, -0.46918132],\n",
       "       [ 0.        ,  0.        ,  1.        ]])"
      ]
     },
     "execution_count": 23,
     "metadata": {},
     "output_type": "execute_result"
    }
   ],
   "source": [
    "G2.Ad()"
   ]
  },
  {
   "cell_type": "code",
   "execution_count": 24,
   "id": "008e369c-1fa3-4874-a9e0-3c3a2044c71a",
   "metadata": {
    "tags": []
   },
   "outputs": [
    {
     "data": {
      "text/plain": [
       "array([[ 0.87758256, -0.47942554,  2.16253703],\n",
       "       [ 0.47942554,  0.87758256, -0.46918132],\n",
       "       [ 0.        ,  0.        ,  1.        ]])"
      ]
     },
     "execution_count": 24,
     "metadata": {},
     "output_type": "execute_result"
    }
   ],
   "source": [
    "scipy.linalg.expm(g2.ad())"
   ]
  },
  {
   "cell_type": "code",
   "execution_count": 25,
   "id": "fbee1a50-d617-4905-b2f8-cbe3a6c38c3b",
   "metadata": {
    "tags": []
   },
   "outputs": [
    {
     "data": {
      "text/plain": [
       "array([1. , 2. , 0.5])"
      ]
     },
     "execution_count": 25,
     "metadata": {},
     "output_type": "execute_result"
    }
   ],
   "source": [
    "G2.log().param"
   ]
  },
  {
   "cell_type": "markdown",
   "id": "a6629baf-6ea8-4909-9362-fac1d8efba95",
   "metadata": {},
   "source": [
    "# SO(3)"
   ]
  },
  {
   "cell_type": "code",
   "execution_count": 2,
   "id": "4aaa5958-52cd-442b-93c4-4ef2eca36679",
   "metadata": {
    "tags": []
   },
   "outputs": [
    {
     "data": {
      "text/plain": [
       "<cyecca.lie._base.LieAlgebraElement at 0x7f6c0b8a9b70>"
      ]
     },
     "execution_count": 2,
     "metadata": {},
     "output_type": "execute_result"
    }
   ],
   "source": [
    "theta2 = np.array([0.2,0.4,0.3])\n",
    "g3 = lie.so3.element(theta2)\n",
    "g3"
   ]
  },
  {
   "cell_type": "code",
   "execution_count": 3,
   "id": "785215b2-f0e7-45ce-a32f-9d8428f81887",
   "metadata": {
    "tags": []
   },
   "outputs": [
    {
     "data": {
      "text/plain": [
       "array([[ 0. , -0.3,  0.4],\n",
       "       [ 0.3,  0. , -0.2],\n",
       "       [-0.4,  0.2,  0. ]])"
      ]
     },
     "execution_count": 3,
     "metadata": {},
     "output_type": "execute_result"
    }
   ],
   "source": [
    "g3.to_matrix()"
   ]
  },
  {
   "cell_type": "code",
   "execution_count": 4,
   "id": "bac52f99-e2e6-4d68-866e-e29e1be9e860",
   "metadata": {
    "tags": []
   },
   "outputs": [
    {
     "data": {
      "text/plain": [
       "<cyecca.lie._base.LieAlgebraElement at 0x7f6c0b8a8700>"
      ]
     },
     "execution_count": 4,
     "metadata": {},
     "output_type": "execute_result"
    }
   ],
   "source": [
    "lie.so3.wedge(theta2)"
   ]
  },
  {
   "cell_type": "code",
   "execution_count": 5,
   "id": "64247d0c-df64-494e-8182-8be6863e6661",
   "metadata": {
    "tags": []
   },
   "outputs": [
    {
     "data": {
      "text/plain": [
       "array([0.2, 0.4, 0.3])"
      ]
     },
     "execution_count": 5,
     "metadata": {},
     "output_type": "execute_result"
    }
   ],
   "source": [
    "g3.vee()"
   ]
  },
  {
   "cell_type": "code",
   "execution_count": 6,
   "id": "bd972ced-b0cc-4b5a-8258-3699175952ca",
   "metadata": {
    "tags": []
   },
   "outputs": [
    {
     "data": {
      "text/plain": [
       "array([[ 0. , -0.3,  0.4],\n",
       "       [ 0.3,  0. , -0.2],\n",
       "       [-0.4,  0.2,  0. ]])"
      ]
     },
     "execution_count": 6,
     "metadata": {},
     "output_type": "execute_result"
    }
   ],
   "source": [
    "g3.ad()"
   ]
  },
  {
   "cell_type": "code",
   "execution_count": 7,
   "id": "a5a10085-ec9e-4358-bb55-85cc75c6b446",
   "metadata": {
    "tags": []
   },
   "outputs": [
    {
     "data": {
      "text/plain": [
       "<cyecca.lie._base.LieGroupElement at 0x7f6c0b8aa0e0>"
      ]
     },
     "execution_count": 7,
     "metadata": {},
     "output_type": "execute_result"
    }
   ],
   "source": [
    "G3_mrp = g3.exp(lie.SO3MRP)\n",
    "G3_mrp"
   ]
  },
  {
   "cell_type": "code",
   "execution_count": 8,
   "id": "5acb4035-1ed5-4e3c-8bea-1d7a2f7ace20",
   "metadata": {
    "tags": []
   },
   "outputs": [
    {
     "data": {
      "text/plain": [
       "array([[ 0.87799178, -0.24666617,  0.41022704],\n",
       "       [ 0.32475143,  0.93655573, -0.13190859],\n",
       "       [-0.3516631 ,  0.24903648,  0.90239343]])"
      ]
     },
     "execution_count": 8,
     "metadata": {},
     "output_type": "execute_result"
    }
   ],
   "source": [
    "G3_mrp.to_matrix()"
   ]
  },
  {
   "cell_type": "code",
   "execution_count": 9,
   "id": "c0170977-66ea-4a4b-9bf4-4e2797d6c0fa",
   "metadata": {
    "tags": []
   },
   "outputs": [
    {
     "data": {
      "text/plain": [
       "array([[ 0.87799178,  0.32475143, -0.3516631 ],\n",
       "       [-0.24666617,  0.93655573,  0.24903648],\n",
       "       [ 0.41022704, -0.13190859,  0.90239343]])"
      ]
     },
     "execution_count": 9,
     "metadata": {},
     "output_type": "execute_result"
    }
   ],
   "source": [
    "G3_mrp_inv = G3_mrp.inverse()\n",
    "G3_mrp_inv.to_matrix()"
   ]
  },
  {
   "cell_type": "code",
   "execution_count": 10,
   "id": "d8ce9b19-7554-44b3-a158-327638ddec57",
   "metadata": {
    "tags": []
   },
   "outputs": [
    {
     "data": {
      "text/plain": [
       "array([[1., 0., 0.],\n",
       "       [0., 1., 0.],\n",
       "       [0., 0., 1.]])"
      ]
     },
     "execution_count": 10,
     "metadata": {},
     "output_type": "execute_result"
    }
   ],
   "source": [
    "(G3_mrp*G3_mrp_inv).to_matrix()"
   ]
  },
  {
   "cell_type": "code",
   "execution_count": 11,
   "id": "9acbb96d-6db9-4885-b3ba-e76c5ffc849f",
   "metadata": {
    "tags": []
   },
   "outputs": [
    {
     "data": {
      "text/plain": [
       "array([[ 0.87799178, -0.24666617,  0.41022704],\n",
       "       [ 0.32475143,  0.93655573, -0.13190859],\n",
       "       [-0.3516631 ,  0.24903648,  0.90239343]])"
      ]
     },
     "execution_count": 11,
     "metadata": {},
     "output_type": "execute_result"
    }
   ],
   "source": [
    "G3_mrp.Ad()"
   ]
  },
  {
   "cell_type": "code",
   "execution_count": 12,
   "id": "f12b1dc1-1da1-444f-b1c6-968de336cfaa",
   "metadata": {
    "tags": []
   },
   "outputs": [
    {
     "data": {
      "text/plain": [
       "array([[ 0.87799178, -0.24666617,  0.41022704],\n",
       "       [ 0.32475143,  0.93655573, -0.13190859],\n",
       "       [-0.3516631 ,  0.24903648,  0.90239343]])"
      ]
     },
     "execution_count": 12,
     "metadata": {},
     "output_type": "execute_result"
    }
   ],
   "source": [
    "scipy.linalg.expm(g3.ad())"
   ]
  },
  {
   "cell_type": "code",
   "execution_count": 13,
   "id": "f73d3aa3-8062-40c0-a0f5-5deac333facf",
   "metadata": {
    "tags": []
   },
   "outputs": [
    {
     "data": {
      "text/plain": [
       "array([0.2, 0.4, 0.3])"
      ]
     },
     "execution_count": 13,
     "metadata": {},
     "output_type": "execute_result"
    }
   ],
   "source": [
    "G3_mrp.log().param"
   ]
  },
  {
   "cell_type": "code",
   "execution_count": 14,
   "id": "5ed77d25-6208-4890-b106-b9aa7a4774d8",
   "metadata": {
    "tags": []
   },
   "outputs": [
    {
     "data": {
      "text/plain": [
       "<cyecca.lie._base.LieGroupElement at 0x7f6c0b8aa140>"
      ]
     },
     "execution_count": 14,
     "metadata": {},
     "output_type": "execute_result"
    }
   ],
   "source": [
    "G3_Quat = g3.exp(lie.SO3Quat)\n",
    "G3_Quat"
   ]
  },
  {
   "cell_type": "code",
   "execution_count": 15,
   "id": "c711d397-dc23-4891-86a2-0702db55643a",
   "metadata": {
    "tags": []
   },
   "outputs": [
    {
     "data": {
      "text/plain": [
       "array([[ 0.87799178, -0.24666617,  0.41022704],\n",
       "       [ 0.32475143,  0.93655573, -0.13190859],\n",
       "       [-0.3516631 ,  0.24903648,  0.90239343]])"
      ]
     },
     "execution_count": 15,
     "metadata": {},
     "output_type": "execute_result"
    }
   ],
   "source": [
    "G3_Quat.to_matrix()"
   ]
  },
  {
   "cell_type": "code",
   "execution_count": 16,
   "id": "de7a9f3c-e367-4058-abc5-a3899d04a7f4",
   "metadata": {
    "tags": []
   },
   "outputs": [
    {
     "data": {
      "text/plain": [
       "array([[ 0.87799178,  0.32475143, -0.3516631 ],\n",
       "       [-0.24666617,  0.93655573,  0.24903648],\n",
       "       [ 0.41022704, -0.13190859,  0.90239343]])"
      ]
     },
     "execution_count": 16,
     "metadata": {},
     "output_type": "execute_result"
    }
   ],
   "source": [
    "G3_Quat_inv = G3_Quat.inverse()\n",
    "G3_Quat_inv.to_matrix()"
   ]
  },
  {
   "cell_type": "code",
   "execution_count": 17,
   "id": "380440bf-2018-4b35-85f0-67546ae08944",
   "metadata": {
    "tags": []
   },
   "outputs": [
    {
     "data": {
      "text/plain": [
       "array([[ 1.00000000e+00, -0.00000000e+00, -1.04083409e-17],\n",
       "       [ 0.00000000e+00,  1.00000000e+00, -0.00000000e+00],\n",
       "       [ 1.04083409e-17,  0.00000000e+00,  1.00000000e+00]])"
      ]
     },
     "execution_count": 17,
     "metadata": {},
     "output_type": "execute_result"
    }
   ],
   "source": [
    "(G3_Quat*G3_Quat_inv).to_matrix()"
   ]
  },
  {
   "cell_type": "code",
   "execution_count": 18,
   "id": "8b20c3d4-7b40-4b22-aca1-71e2102070cb",
   "metadata": {
    "tags": []
   },
   "outputs": [
    {
     "data": {
      "text/plain": [
       "array([[ 0.87799178, -0.24666617,  0.41022704],\n",
       "       [ 0.32475143,  0.93655573, -0.13190859],\n",
       "       [-0.3516631 ,  0.24903648,  0.90239343]])"
      ]
     },
     "execution_count": 18,
     "metadata": {},
     "output_type": "execute_result"
    }
   ],
   "source": [
    "G3_Quat.Ad()"
   ]
  },
  {
   "cell_type": "code",
   "execution_count": 19,
   "id": "669b22b5-1dc2-4e2c-b51f-4466812473e5",
   "metadata": {
    "tags": []
   },
   "outputs": [
    {
     "data": {
      "text/plain": [
       "array([[ 0.87799178, -0.24666617,  0.41022704],\n",
       "       [ 0.32475143,  0.93655573, -0.13190859],\n",
       "       [-0.3516631 ,  0.24903648,  0.90239343]])"
      ]
     },
     "execution_count": 19,
     "metadata": {},
     "output_type": "execute_result"
    }
   ],
   "source": [
    "scipy.linalg.expm(g3.ad())"
   ]
  },
  {
   "cell_type": "code",
   "execution_count": 20,
   "id": "1fc4baa3-c914-4563-8ecf-c1e45beb3bc6",
   "metadata": {
    "tags": []
   },
   "outputs": [
    {
     "data": {
      "text/plain": [
       "array([0.2, 0.4, 0.3])"
      ]
     },
     "execution_count": 20,
     "metadata": {},
     "output_type": "execute_result"
    }
   ],
   "source": [
    "G3_Quat.log().param"
   ]
  },
  {
   "cell_type": "markdown",
   "id": "7e8281d4-74ac-43ba-8bf5-a272c96e810d",
   "metadata": {},
   "source": [
    "# SO3 Euler\n",
    "For Euler, you have toe define the type and sequence before use it."
   ]
  },
  {
   "cell_type": "code",
   "execution_count": 21,
   "id": "f8613507-f0f2-4074-92bd-e49c4337305a",
   "metadata": {
    "tags": []
   },
   "outputs": [],
   "source": [
    "SO3EulerB321 = lie.SO3Euler(euler_type=lie.EulerType.body_fixed, sequence=[lie.Axis.z, lie.Axis.y, lie.Axis.x])"
   ]
  },
  {
   "cell_type": "code",
   "execution_count": 22,
   "id": "f90ed452-789f-45f9-a3b4-51383816afe3",
   "metadata": {
    "tags": []
   },
   "outputs": [
    {
     "data": {
      "text/plain": [
       "<cyecca.lie._base.LieGroupElement at 0x7f6c0b8a8490>"
      ]
     },
     "execution_count": 22,
     "metadata": {},
     "output_type": "execute_result"
    }
   ],
   "source": [
    "G3_Euler = g3.exp(SO3EulerB321)\n",
    "G3_Euler"
   ]
  },
  {
   "cell_type": "code",
   "execution_count": 23,
   "id": "8a22c97c-2dce-4c31-9453-3f01015a976e",
   "metadata": {
    "tags": []
   },
   "outputs": [
    {
     "data": {
      "text/plain": [
       "<EulerType.body_fixed: 1>"
      ]
     },
     "execution_count": 23,
     "metadata": {},
     "output_type": "execute_result"
    }
   ],
   "source": [
    "G3_Euler.group.euler_type"
   ]
  },
  {
   "cell_type": "code",
   "execution_count": 24,
   "id": "d1356a7f-82d8-431e-8a03-d3917ef78e74",
   "metadata": {
    "tags": []
   },
   "outputs": [
    {
     "data": {
      "text/plain": [
       "array([[ 0.87799178, -0.24666617,  0.41022704],\n",
       "       [ 0.32475143,  0.93655573, -0.13190859],\n",
       "       [-0.3516631 ,  0.24903648,  0.90239343]])"
      ]
     },
     "execution_count": 24,
     "metadata": {},
     "output_type": "execute_result"
    }
   ],
   "source": [
    "G3_Euler.to_matrix()"
   ]
  },
  {
   "cell_type": "code",
   "execution_count": 25,
   "id": "aa574ded-da98-4390-85fb-5435426e83ab",
   "metadata": {
    "tags": []
   },
   "outputs": [
    {
     "data": {
      "text/plain": [
       "array([[ 0.87799178, -0.24666617,  0.41022704],\n",
       "       [ 0.32475143,  0.93655573, -0.13190859],\n",
       "       [-0.3516631 ,  0.24903648,  0.90239343]])"
      ]
     },
     "execution_count": 25,
     "metadata": {},
     "output_type": "execute_result"
    }
   ],
   "source": [
    "G3_mrp.to_matrix()"
   ]
  },
  {
   "cell_type": "code",
   "execution_count": 26,
   "id": "ca5df55e-8b1d-4f6e-882f-73674661b86c",
   "metadata": {
    "tags": []
   },
   "outputs": [
    {
     "data": {
      "text/plain": [
       "<cyecca.lie._base.LieGroupElement at 0x7f6c0b8abc70>"
      ]
     },
     "execution_count": 26,
     "metadata": {},
     "output_type": "execute_result"
    }
   ],
   "source": [
    "G3_Euler_inv = G3_Euler.inverse()\n",
    "G3_Euler_inv"
   ]
  },
  {
   "cell_type": "code",
   "execution_count": 27,
   "id": "df348860-e603-4124-88fe-e9f735efd642",
   "metadata": {
    "tags": []
   },
   "outputs": [
    {
     "data": {
      "text/plain": [
       "array([[ 0.87799178,  0.42215159, -0.22565121],\n",
       "       [-0.32475143,  0.87164722,  0.36710712],\n",
       "       [ 0.3516631 , -0.24903648,  0.90239343]])"
      ]
     },
     "execution_count": 27,
     "metadata": {},
     "output_type": "execute_result"
    }
   ],
   "source": [
    "G3_Euler_inv.to_matrix()"
   ]
  },
  {
   "cell_type": "code",
   "execution_count": 28,
   "id": "1832d275-eb0f-4b00-83b7-b36818cd8a0d",
   "metadata": {
    "tags": []
   },
   "outputs": [
    {
     "data": {
      "text/plain": [
       "array([[1., 0., 0.],\n",
       "       [0., 1., 0.],\n",
       "       [0., 0., 1.]])"
      ]
     },
     "execution_count": 28,
     "metadata": {},
     "output_type": "execute_result"
    }
   ],
   "source": [
    "(G3_Euler*G3_Euler_inv).to_matrix()"
   ]
  },
  {
   "cell_type": "code",
   "execution_count": 29,
   "id": "ac4097cf-959c-4569-a257-f8692c9303b6",
   "metadata": {
    "tags": []
   },
   "outputs": [
    {
     "data": {
      "text/plain": [
       "array([[ 0.87799178, -0.24666617,  0.41022704],\n",
       "       [ 0.32475143,  0.93655573, -0.13190859],\n",
       "       [-0.3516631 ,  0.24903648,  0.90239343]])"
      ]
     },
     "execution_count": 29,
     "metadata": {},
     "output_type": "execute_result"
    }
   ],
   "source": [
    "G3_Euler.Ad()"
   ]
  },
  {
   "cell_type": "code",
   "execution_count": 30,
   "id": "5dc77fb2-5899-48bf-a8c9-2458df917785",
   "metadata": {
    "tags": []
   },
   "outputs": [
    {
     "data": {
      "text/plain": [
       "array([[ 0.87799178, -0.24666617,  0.41022704],\n",
       "       [ 0.32475143,  0.93655573, -0.13190859],\n",
       "       [-0.3516631 ,  0.24903648,  0.90239343]])"
      ]
     },
     "execution_count": 30,
     "metadata": {},
     "output_type": "execute_result"
    }
   ],
   "source": [
    "scipy.linalg.expm(g3.ad())"
   ]
  },
  {
   "cell_type": "code",
   "execution_count": 31,
   "id": "ce6259b2-1400-4459-9a7b-19e146c3e706",
   "metadata": {
    "tags": []
   },
   "outputs": [
    {
     "data": {
      "text/plain": [
       "array([0.2, 0.4, 0.3])"
      ]
     },
     "execution_count": 31,
     "metadata": {},
     "output_type": "execute_result"
    }
   ],
   "source": [
    "G3_Euler.log().param"
   ]
  },
  {
   "cell_type": "code",
   "execution_count": 32,
   "id": "f4fcb014-520c-4435-9a51-53426f8dd43d",
   "metadata": {
    "tags": []
   },
   "outputs": [],
   "source": [
    "SO3EulerS321 = lie.SO3Euler(euler_type=lie.EulerType.space_fixed, sequence=[lie.Axis.z, lie.Axis.y, lie.Axis.x])"
   ]
  },
  {
   "cell_type": "code",
   "execution_count": 33,
   "id": "678bfb2e-c94a-4579-bafa-8aa78c857b11",
   "metadata": {
    "tags": []
   },
   "outputs": [
    {
     "data": {
      "text/plain": [
       "<cyecca.lie._base.LieGroupElement at 0x7f6c0b8a87c0>"
      ]
     },
     "execution_count": 33,
     "metadata": {},
     "output_type": "execute_result"
    }
   ],
   "source": [
    "G3_Euler2 = g3.exp(SO3EulerS321)\n",
    "G3_Euler2"
   ]
  },
  {
   "cell_type": "code",
   "execution_count": 34,
   "id": "e1b91f4f-f7a3-4c83-b51b-c5cf7e8487e7",
   "metadata": {
    "tags": []
   },
   "outputs": [
    {
     "data": {
      "text/plain": [
       "array([[ 0.87799178, -0.24666617,  0.41022704],\n",
       "       [ 0.32475143,  0.93655573, -0.13190859],\n",
       "       [-0.3516631 ,  0.24903648,  0.90239343]])"
      ]
     },
     "execution_count": 34,
     "metadata": {},
     "output_type": "execute_result"
    }
   ],
   "source": [
    "G3_Euler2.to_matrix()"
   ]
  },
  {
   "cell_type": "code",
   "execution_count": 35,
   "id": "526e5f13-791f-43c9-a003-e720f8fb3c35",
   "metadata": {
    "tags": []
   },
   "outputs": [
    {
     "data": {
      "text/plain": [
       "array([[ 0.87799178, -0.24666617,  0.41022704],\n",
       "       [ 0.32475143,  0.93655573, -0.13190859],\n",
       "       [-0.3516631 ,  0.24903648,  0.90239343]])"
      ]
     },
     "execution_count": 35,
     "metadata": {},
     "output_type": "execute_result"
    }
   ],
   "source": [
    "G3_mrp.to_matrix()"
   ]
  },
  {
   "cell_type": "code",
   "execution_count": 36,
   "id": "bcb35e0d-54ce-4a8f-a980-38cd83a09a43",
   "metadata": {
    "tags": []
   },
   "outputs": [
    {
     "data": {
      "text/plain": [
       "<cyecca.lie._base.LieGroupElement at 0x7f6c0b8ab490>"
      ]
     },
     "execution_count": 36,
     "metadata": {},
     "output_type": "execute_result"
    }
   ],
   "source": [
    "G3_Euler2_inv = G3_Euler2.inverse()\n",
    "G3_Euler2_inv"
   ]
  },
  {
   "cell_type": "code",
   "execution_count": 37,
   "id": "280db973-5f71-4247-86cb-3aef9e2bb864",
   "metadata": {
    "tags": []
   },
   "outputs": [
    {
     "data": {
      "text/plain": [
       "array([[1., 0., 0.],\n",
       "       [0., 1., 0.],\n",
       "       [0., 0., 1.]])"
      ]
     },
     "execution_count": 37,
     "metadata": {},
     "output_type": "execute_result"
    }
   ],
   "source": [
    "(G3_Euler2*G3_Euler2_inv).to_matrix()"
   ]
  },
  {
   "cell_type": "code",
   "execution_count": 38,
   "id": "c6d7c0bb-9340-49f7-a814-997a75ee0093",
   "metadata": {
    "tags": []
   },
   "outputs": [
    {
     "data": {
      "text/plain": [
       "array([[ 0.87799178, -0.24666617,  0.41022704],\n",
       "       [ 0.32475143,  0.93655573, -0.13190859],\n",
       "       [-0.3516631 ,  0.24903648,  0.90239343]])"
      ]
     },
     "execution_count": 38,
     "metadata": {},
     "output_type": "execute_result"
    }
   ],
   "source": [
    "G3_Euler2.Ad()"
   ]
  },
  {
   "cell_type": "code",
   "execution_count": 39,
   "id": "e50ccdf2-56d6-4127-8135-65d2ef9b476f",
   "metadata": {
    "tags": []
   },
   "outputs": [
    {
     "data": {
      "text/plain": [
       "array([[ 0.87799178, -0.24666617,  0.41022704],\n",
       "       [ 0.32475143,  0.93655573, -0.13190859],\n",
       "       [-0.3516631 ,  0.24903648,  0.90239343]])"
      ]
     },
     "execution_count": 39,
     "metadata": {},
     "output_type": "execute_result"
    }
   ],
   "source": [
    "scipy.linalg.expm(g3.ad())"
   ]
  },
  {
   "cell_type": "markdown",
   "id": "f22a32f5-7cfb-428a-be35-7bd7e45aba32",
   "metadata": {},
   "source": [
    "Test exp and log when $\\theta = \\pi/2$ or $-\\pi/2$ in Euler"
   ]
  },
  {
   "cell_type": "code",
   "execution_count": 40,
   "id": "e5bdded7-55ce-4222-a78a-67cbc7cdf8ef",
   "metadata": {
    "tags": []
   },
   "outputs": [],
   "source": [
    "t = np.array([.1, -np.pi/2, 0.2])\n",
    "X = SO3EulerB321.element(t) # SO3 Euler\n",
    "x = X.log() # so3\n",
    "X1 = x.exp(SO3EulerB321)"
   ]
  },
  {
   "cell_type": "code",
   "execution_count": 41,
   "id": "0301f8ad-1b0a-4768-aaac-89d1b614376d",
   "metadata": {
    "tags": []
   },
   "outputs": [
    {
     "data": {
      "text/plain": [
       "array([[ 6.12323400e-17, -2.95520207e-01, -9.55336489e-01],\n",
       "       [ 0.00000000e+00,  9.55336489e-01, -2.95520207e-01],\n",
       "       [ 1.00000000e+00,  1.80953938e-17,  5.84974887e-17]])"
      ]
     },
     "execution_count": 41,
     "metadata": {},
     "output_type": "execute_result"
    }
   ],
   "source": [
    "X1.to_matrix()"
   ]
  },
  {
   "cell_type": "code",
   "execution_count": 42,
   "id": "41c418d8-ed80-444a-920d-70024d10544a",
   "metadata": {
    "tags": []
   },
   "outputs": [
    {
     "data": {
      "text/plain": [
       "array([[ 6.09264333e-17, -2.95520207e-01, -9.55336489e-01],\n",
       "       [ 6.11303371e-18,  9.55336489e-01, -2.95520207e-01],\n",
       "       [ 1.00000000e+00,  1.21649880e-17,  6.00117699e-17]])"
      ]
     },
     "execution_count": 42,
     "metadata": {},
     "output_type": "execute_result"
    }
   ],
   "source": [
    "X.to_matrix()"
   ]
  },
  {
   "cell_type": "code",
   "execution_count": 43,
   "id": "56019a7e-c984-4320-ac9b-efe487a0bd6c",
   "metadata": {
    "tags": []
   },
   "outputs": [],
   "source": [
    "Y = SO3EulerS321.element(t)\n",
    "y = Y.log()\n",
    "Y1 = y.exp(SO3EulerS321)"
   ]
  },
  {
   "cell_type": "code",
   "execution_count": 44,
   "id": "4ac5f247-ed54-4ae3-a052-02623b8c7a51",
   "metadata": {
    "tags": []
   },
   "outputs": [
    {
     "data": {
      "text/plain": [
       "array([[ 6.09264333e-17, -6.11303371e-18, -1.00000000e+00],\n",
       "       [-9.98334166e-02,  9.95004165e-01, -1.21649880e-17],\n",
       "       [ 9.95004165e-01,  9.98334166e-02,  6.00117699e-17]])"
      ]
     },
     "execution_count": 44,
     "metadata": {},
     "output_type": "execute_result"
    }
   ],
   "source": [
    "Y.to_matrix()"
   ]
  },
  {
   "cell_type": "code",
   "execution_count": 45,
   "id": "906327f9-ee00-45e0-9a4f-b1068c469fa4",
   "metadata": {
    "tags": []
   },
   "outputs": [
    {
     "data": {
      "text/plain": [
       "array([[ 6.12323400e-17,  0.00000000e+00, -1.00000000e+00],\n",
       "       [-9.98334166e-02,  9.95004165e-01, -6.11303371e-18],\n",
       "       [ 9.95004165e-01,  9.98334166e-02,  6.09264333e-17]])"
      ]
     },
     "execution_count": 45,
     "metadata": {},
     "output_type": "execute_result"
    }
   ],
   "source": [
    "Y1.to_matrix()"
   ]
  },
  {
   "cell_type": "markdown",
   "id": "9384a9ae-716f-4a8f-8b06-89fe9e604e28",
   "metadata": {},
   "source": [
    "# SE(3)\n",
    "\n",
    "For SE3 Lie group, you have to define what group of SO3 you want to use, it should be either MRP or Quat.\n",
    "Defaul is Quat."
   ]
  },
  {
   "cell_type": "code",
   "execution_count": 40,
   "id": "ee2a015b-23cb-4dc8-ad05-65f39f58a5dd",
   "metadata": {
    "tags": []
   },
   "outputs": [
    {
     "data": {
      "text/plain": [
       "<cyecca.lie._base.LieAlgebraElement at 0x7fdb90ff9d50>"
      ]
     },
     "execution_count": 40,
     "metadata": {},
     "output_type": "execute_result"
    }
   ],
   "source": [
    "p2 = np.array([1,2,3,0.5,0.02,0.3])\n",
    "g4 = lie.se3.element(p2)\n",
    "g4"
   ]
  },
  {
   "cell_type": "code",
   "execution_count": 41,
   "id": "01930ff1-f325-4713-ba0b-9e8ca4aecf5e",
   "metadata": {
    "tags": []
   },
   "outputs": [
    {
     "data": {
      "text/plain": [
       "array([[ 0.  , -0.3 ,  0.02,  1.  ],\n",
       "       [ 0.3 ,  0.  , -0.5 ,  2.  ],\n",
       "       [-0.02,  0.5 ,  0.  ,  3.  ],\n",
       "       [ 0.  ,  0.  ,  0.  ,  0.  ]])"
      ]
     },
     "execution_count": 41,
     "metadata": {},
     "output_type": "execute_result"
    }
   ],
   "source": [
    "g4.to_matrix()"
   ]
  },
  {
   "cell_type": "code",
   "execution_count": 42,
   "id": "473c0b04-98f8-44fe-a6f8-9a3bbda22785",
   "metadata": {
    "tags": []
   },
   "outputs": [
    {
     "data": {
      "text/plain": [
       "<cyecca.lie._base.LieAlgebraElement at 0x7fdb90ffa380>"
      ]
     },
     "execution_count": 42,
     "metadata": {},
     "output_type": "execute_result"
    }
   ],
   "source": [
    "lie.se3.wedge(p2)"
   ]
  },
  {
   "cell_type": "code",
   "execution_count": 43,
   "id": "08f50d04-a2e4-4bf2-af86-810f246fe3f1",
   "metadata": {
    "tags": []
   },
   "outputs": [
    {
     "data": {
      "text/plain": [
       "array([1.  , 2.  , 3.  , 0.5 , 0.02, 0.3 ])"
      ]
     },
     "execution_count": 43,
     "metadata": {},
     "output_type": "execute_result"
    }
   ],
   "source": [
    "g4.vee()"
   ]
  },
  {
   "cell_type": "code",
   "execution_count": 44,
   "id": "2f36352f-b94e-42e1-ae74-abb2dc333546",
   "metadata": {
    "tags": []
   },
   "outputs": [
    {
     "data": {
      "text/plain": [
       "array([[ 0.  , -0.3 ,  0.02,  0.  , -3.  ,  2.  ],\n",
       "       [ 0.3 ,  0.  , -0.5 ,  3.  ,  0.  , -1.  ],\n",
       "       [-0.02,  0.5 ,  0.  , -2.  ,  1.  ,  0.  ],\n",
       "       [ 0.  ,  0.  ,  0.  ,  0.  , -0.3 ,  0.02],\n",
       "       [ 0.  ,  0.  ,  0.  ,  0.3 ,  0.  , -0.5 ],\n",
       "       [ 0.  ,  0.  ,  0.  , -0.02,  0.5 ,  0.  ]])"
      ]
     },
     "execution_count": 44,
     "metadata": {},
     "output_type": "execute_result"
    }
   ],
   "source": [
    "g4.ad()"
   ]
  },
  {
   "cell_type": "code",
   "execution_count": 52,
   "id": "ae6a19ce-64a4-463e-b9a7-377353d7baf3",
   "metadata": {
    "tags": []
   },
   "outputs": [
    {
     "data": {
      "text/plain": [
       "<cyecca.lie._base.LieGroupElement at 0x7fdb92354df0>"
      ]
     },
     "execution_count": 52,
     "metadata": {},
     "output_type": "execute_result"
    }
   ],
   "source": [
    "SE3_mrp = lie.SE3(SO3=lie.SO3MRP)\n",
    "G4_mrp = g4.exp(SE3_mrp)\n",
    "G4_mrp"
   ]
  },
  {
   "cell_type": "code",
   "execution_count": 53,
   "id": "3d728bfe-be7d-4e2f-97df-68750c956048",
   "metadata": {
    "tags": []
   },
   "outputs": [
    {
     "data": {
      "text/plain": [
       "array([[ 0.95606771, -0.27840758,  0.09178098,  0.79977118],\n",
       "       [ 0.28812711,  0.83476795, -0.46919638,  1.30999597],\n",
       "       [ 0.054012  ,  0.4750281 ,  0.87831145,  3.37971497],\n",
       "       [ 0.        ,  0.        ,  0.        ,  1.        ]])"
      ]
     },
     "execution_count": 53,
     "metadata": {},
     "output_type": "execute_result"
    }
   ],
   "source": [
    "G4_mrp.to_matrix()"
   ]
  },
  {
   "cell_type": "code",
   "execution_count": 54,
   "id": "8781f3c0-694e-4332-a61a-f7a09814ba2f",
   "metadata": {
    "tags": []
   },
   "outputs": [
    {
     "data": {
      "text/plain": [
       "array([[ 0.95606771,  0.28812711,  0.054012  , -1.32462593],\n",
       "       [-0.27840758,  0.83476795,  0.4750281 , -2.47633987],\n",
       "       [ 0.09178098, -0.46919638,  0.87831145, -2.42720079],\n",
       "       [ 0.        ,  0.        ,  0.        ,  1.        ]])"
      ]
     },
     "execution_count": 54,
     "metadata": {},
     "output_type": "execute_result"
    }
   ],
   "source": [
    "G4_mrp_inv = G4_mrp.inverse()\n",
    "G4_mrp_inv.to_matrix()"
   ]
  },
  {
   "cell_type": "code",
   "execution_count": 70,
   "id": "cfc09fa4-ca06-462a-8808-f06a49b0098b",
   "metadata": {
    "tags": []
   },
   "outputs": [
    {
     "data": {
      "text/plain": [
       "array([[ 1.00000000e+00,  0.00000000e+00,  0.00000000e+00,\n",
       "         1.11022302e-16],\n",
       "       [ 0.00000000e+00,  1.00000000e+00,  0.00000000e+00,\n",
       "        -6.66133815e-16],\n",
       "       [ 0.00000000e+00,  0.00000000e+00,  1.00000000e+00,\n",
       "         0.00000000e+00],\n",
       "       [ 0.00000000e+00,  0.00000000e+00,  0.00000000e+00,\n",
       "         1.00000000e+00]])"
      ]
     },
     "execution_count": 70,
     "metadata": {},
     "output_type": "execute_result"
    }
   ],
   "source": [
    "(G4_mrp*G4_mrp_inv).to_matrix()"
   ]
  },
  {
   "cell_type": "code",
   "execution_count": 56,
   "id": "98a09b43-b54c-4ba0-bc6a-686869f6fb9b",
   "metadata": {
    "tags": []
   },
   "outputs": [
    {
     "data": {
      "text/plain": [
       "array([[ 0.95606771, -0.27840758,  0.09178098, -0.903032  , -2.19899284,\n",
       "         2.73633449],\n",
       "       [ 0.28812711,  0.83476795, -0.46919638,  3.18803912, -1.32085204,\n",
       "        -0.39225462],\n",
       "       [ 0.054012  ,  0.4750281 ,  0.87831145, -1.02200909,  1.03233615,\n",
       "        -0.49548246],\n",
       "       [ 0.        ,  0.        ,  0.        ,  0.95606771, -0.27840758,\n",
       "         0.09178098],\n",
       "       [ 0.        ,  0.        ,  0.        ,  0.28812711,  0.83476795,\n",
       "        -0.46919638],\n",
       "       [ 0.        ,  0.        ,  0.        ,  0.054012  ,  0.4750281 ,\n",
       "         0.87831145]])"
      ]
     },
     "execution_count": 56,
     "metadata": {},
     "output_type": "execute_result"
    }
   ],
   "source": [
    "G4_mrp.Ad()"
   ]
  },
  {
   "cell_type": "code",
   "execution_count": 90,
   "id": "dc165a05-b0c9-485a-8538-5501eece1faa",
   "metadata": {
    "tags": []
   },
   "outputs": [
    {
     "data": {
      "text/plain": [
       "array([[ 0.00000000e+00,  5.55111512e-17, -1.38777878e-17,\n",
       "         1.11022302e-16, -4.44089210e-16,  4.44089210e-16],\n",
       "       [ 5.55111512e-17,  0.00000000e+00, -1.11022302e-16,\n",
       "         8.88178420e-16, -2.22044605e-16,  5.55111512e-17],\n",
       "       [ 0.00000000e+00, -5.55111512e-17, -1.11022302e-16,\n",
       "         0.00000000e+00, -4.44089210e-16,  0.00000000e+00],\n",
       "       [ 0.00000000e+00,  1.38777878e-17,  5.89805982e-17,\n",
       "         2.22044605e-16,  2.22044605e-16,  4.16333634e-17],\n",
       "       [-6.77626358e-18, -3.53760784e-17,  2.10640304e-17,\n",
       "        -5.55111512e-17, -3.33066907e-16,  5.55111512e-17],\n",
       "       [-6.93889390e-18,  0.00000000e+00,  0.00000000e+00,\n",
       "         1.11022302e-16, -1.66533454e-16,  0.00000000e+00]])"
      ]
     },
     "execution_count": 90,
     "metadata": {},
     "output_type": "execute_result"
    }
   ],
   "source": [
    "scipy.linalg.expm(g4.ad()) - G4_mrp.Ad()"
   ]
  },
  {
   "cell_type": "code",
   "execution_count": 57,
   "id": "ad709c2e-5637-4684-9f1d-5a78b56189c8",
   "metadata": {
    "tags": []
   },
   "outputs": [
    {
     "data": {
      "text/plain": [
       "array([1.  , 2.  , 3.  , 0.5 , 0.02, 0.3 ])"
      ]
     },
     "execution_count": 57,
     "metadata": {},
     "output_type": "execute_result"
    }
   ],
   "source": [
    "G4_mrp.log().param"
   ]
  },
  {
   "cell_type": "code",
   "execution_count": 58,
   "id": "785f582f-e614-4bfe-a9c2-db02f8669c2f",
   "metadata": {
    "tags": []
   },
   "outputs": [
    {
     "data": {
      "text/plain": [
       "<cyecca.lie._base.LieGroupElement at 0x7fdb92357160>"
      ]
     },
     "execution_count": 58,
     "metadata": {},
     "output_type": "execute_result"
    }
   ],
   "source": [
    "SE3_Quat = lie.SE3(SO3=lie.SO3Quat)\n",
    "G4_Quat = g4.exp(SE3_Quat)\n",
    "G4_Quat"
   ]
  },
  {
   "cell_type": "code",
   "execution_count": 59,
   "id": "9b9ae700-30bb-4f71-a3b9-1b27eb765b14",
   "metadata": {
    "tags": []
   },
   "outputs": [
    {
     "data": {
      "text/plain": [
       "array([[ 0.95606771, -0.27840758,  0.09178098,  0.79977118],\n",
       "       [ 0.28812711,  0.83476795, -0.46919638,  1.30999597],\n",
       "       [ 0.054012  ,  0.4750281 ,  0.87831145,  3.37971497],\n",
       "       [ 0.        ,  0.        ,  0.        ,  1.        ]])"
      ]
     },
     "execution_count": 59,
     "metadata": {},
     "output_type": "execute_result"
    }
   ],
   "source": [
    "G4_Quat.to_matrix()"
   ]
  },
  {
   "cell_type": "code",
   "execution_count": 71,
   "id": "57158f0f-51ec-4064-bdc2-878b806f288b",
   "metadata": {
    "tags": []
   },
   "outputs": [
    {
     "data": {
      "text/plain": [
       "array([[ 0.95606771,  0.28812711,  0.054012  , -1.32462593],\n",
       "       [-0.27840758,  0.83476795,  0.4750281 , -2.47633987],\n",
       "       [ 0.09178098, -0.46919638,  0.87831145, -2.42720079],\n",
       "       [ 0.        ,  0.        ,  0.        ,  1.        ]])"
      ]
     },
     "execution_count": 71,
     "metadata": {},
     "output_type": "execute_result"
    }
   ],
   "source": [
    "G4_Quat_inv = G4_Quat.inverse()\n",
    "G4_Quat_inv.to_matrix()"
   ]
  },
  {
   "cell_type": "code",
   "execution_count": 72,
   "id": "9cadba25-29e9-455a-aee2-95a8a7817292",
   "metadata": {
    "tags": []
   },
   "outputs": [
    {
     "data": {
      "text/plain": [
       "array([[1.00000000e+00, 0.00000000e+00, 0.00000000e+00, 3.33066907e-16],\n",
       "       [0.00000000e+00, 1.00000000e+00, 0.00000000e+00, 4.44089210e-16],\n",
       "       [0.00000000e+00, 0.00000000e+00, 1.00000000e+00, 8.88178420e-16],\n",
       "       [0.00000000e+00, 0.00000000e+00, 0.00000000e+00, 1.00000000e+00]])"
      ]
     },
     "execution_count": 72,
     "metadata": {},
     "output_type": "execute_result"
    }
   ],
   "source": [
    "(G4_Quat*G4_Quat_inv).to_matrix()"
   ]
  },
  {
   "cell_type": "code",
   "execution_count": 62,
   "id": "a0f4ded5-5218-4097-bda7-3e28ad5dabb1",
   "metadata": {
    "tags": []
   },
   "outputs": [
    {
     "data": {
      "text/plain": [
       "array([[ 0.95606771, -0.27840758,  0.09178098, -0.903032  , -2.19899284,\n",
       "         2.73633449],\n",
       "       [ 0.28812711,  0.83476795, -0.46919638,  3.18803912, -1.32085204,\n",
       "        -0.39225462],\n",
       "       [ 0.054012  ,  0.4750281 ,  0.87831145, -1.02200909,  1.03233615,\n",
       "        -0.49548246],\n",
       "       [ 0.        ,  0.        ,  0.        ,  0.95606771, -0.27840758,\n",
       "         0.09178098],\n",
       "       [ 0.        ,  0.        ,  0.        ,  0.28812711,  0.83476795,\n",
       "        -0.46919638],\n",
       "       [ 0.        ,  0.        ,  0.        ,  0.054012  ,  0.4750281 ,\n",
       "         0.87831145]])"
      ]
     },
     "execution_count": 62,
     "metadata": {},
     "output_type": "execute_result"
    }
   ],
   "source": [
    "G4_Quat.Ad()"
   ]
  },
  {
   "cell_type": "code",
   "execution_count": 91,
   "id": "f7a8c499-8109-4e61-bfba-895079f97edc",
   "metadata": {
    "tags": []
   },
   "outputs": [
    {
     "data": {
      "text/plain": [
       "array([[ 1.11022302e-16,  5.55111512e-17, -1.38777878e-17,\n",
       "        -1.11022302e-16, -8.88178420e-16,  4.44089210e-16],\n",
       "       [ 1.11022302e-16,  1.11022302e-16, -1.11022302e-16,\n",
       "         1.33226763e-15, -2.22044605e-16, -5.55111512e-17],\n",
       "       [ 0.00000000e+00,  0.00000000e+00,  0.00000000e+00,\n",
       "         0.00000000e+00, -4.44089210e-16,  0.00000000e+00],\n",
       "       [ 0.00000000e+00,  1.38777878e-17,  5.89805982e-17,\n",
       "         3.33066907e-16,  2.22044605e-16,  4.16333634e-17],\n",
       "       [-6.77626358e-18, -3.53760784e-17,  2.10640304e-17,\n",
       "         0.00000000e+00, -2.22044605e-16,  5.55111512e-17],\n",
       "       [-6.93889390e-18,  0.00000000e+00,  0.00000000e+00,\n",
       "         1.11022302e-16, -1.11022302e-16,  1.11022302e-16]])"
      ]
     },
     "execution_count": 91,
     "metadata": {},
     "output_type": "execute_result"
    }
   ],
   "source": [
    "scipy.linalg.expm(g4.ad()) - G4_Quat.Ad()"
   ]
  },
  {
   "cell_type": "code",
   "execution_count": 63,
   "id": "cdcf9a1c-5ea2-49fb-8b23-7f2fa28b7b1c",
   "metadata": {
    "tags": []
   },
   "outputs": [
    {
     "data": {
      "text/plain": [
       "array([1.  , 2.  , 3.  , 0.5 , 0.02, 0.3 ])"
      ]
     },
     "execution_count": 63,
     "metadata": {},
     "output_type": "execute_result"
    }
   ],
   "source": [
    "G4_Quat.log().param"
   ]
  },
  {
   "cell_type": "code",
   "execution_count": 67,
   "id": "4b1c5d59-9c78-4630-ac20-89752d9d75da",
   "metadata": {
    "tags": []
   },
   "outputs": [],
   "source": [
    "G = lie.SO3Quat.element(G4_Quat.param[3:]).to_matrix()"
   ]
  }
 ],
 "metadata": {
  "kernelspec": {
   "display_name": "Python 3 (ipykernel)",
   "language": "python",
   "name": "python3"
  },
  "language_info": {
   "codemirror_mode": {
    "name": "ipython",
    "version": 3
   },
   "file_extension": ".py",
   "mimetype": "text/x-python",
   "name": "python",
   "nbconvert_exporter": "python",
   "pygments_lexer": "ipython3",
   "version": "3.10.6"
  }
 },
 "nbformat": 4,
 "nbformat_minor": 5
}
