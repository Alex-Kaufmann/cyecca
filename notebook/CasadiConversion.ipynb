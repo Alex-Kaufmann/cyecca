{
 "cells": [
  {
   "cell_type": "code",
   "execution_count": 36,
   "id": "5c556543-3ff5-4ed0-a71f-a3fc53eb6e50",
   "metadata": {
    "tags": []
   },
   "outputs": [],
   "source": [
    "import abc\n",
    "import sympy\n",
    "\n",
    "from abc import ABC, abstractmethod\n",
    "\n",
    "class Matrix(ABC):\n",
    "    \n",
    "    def __init__(self):\n",
    "        pass\n",
    "\n",
    "    @abstractmethod\n",
    "    def __mul__(self, other):\n",
    "        ...\n",
    "\n",
    "class Real(ABC):\n",
    "    \n",
    "    @abstractmethod\n",
    "    def __mul__(self, other):\n",
    "        ...\n",
    "\n",
    "class MatrixSympy(Matrix):\n",
    "    \n",
    "    def __init__(self, matrix: sympy.Matrix):\n",
    "        self.matrix = matrix\n",
    "        \n",
    "    def __mul__(self, other: MatrixSympy):\n",
    "        return MatrixSympy(self.matrix@other.matrix)\n",
    "\n",
    "    def __getitem__(self, index):\n",
    "        return self.matrix[index]\n",
    "\n",
    "    def _repr_latex_(self):\n",
    "        return self.matrix._repr_latex_()"
   ]
  },
  {
   "cell_type": "code",
   "execution_count": 37,
   "id": "f62e4451-0746-4410-b317-4cd54bc517bb",
   "metadata": {
    "tags": []
   },
   "outputs": [
    {
     "data": {
      "text/latex": [
       "$\\displaystyle \\left[\\begin{matrix}1 & 2 & 3\\\\4 & 5 & 6\\\\7 & 8 & 9\\end{matrix}\\right]$"
      ],
      "text/plain": [
       "<__main__.MatrixSympy at 0x7fd8292033d0>"
      ]
     },
     "execution_count": 37,
     "metadata": {},
     "output_type": "execute_result"
    }
   ],
   "source": [
    "A = MatrixSympy(sympy.Matrix([[1, 2, 3], [4, 5, 6], [7, 8, 9]]))\n",
    "A"
   ]
  },
  {
   "cell_type": "code",
   "execution_count": null,
   "id": "46920131-e2ea-4775-b436-67c3219580ad",
   "metadata": {},
   "outputs": [],
   "source": []
  },
  {
   "cell_type": "code",
   "execution_count": 38,
   "id": "1c85a071-3ff3-441e-a2de-2f37acdf38a4",
   "metadata": {
    "tags": []
   },
   "outputs": [
    {
     "data": {
      "text/latex": [
       "$\\displaystyle \\left[\\begin{matrix}30 & 36 & 42\\\\66 & 81 & 96\\\\102 & 126 & 150\\end{matrix}\\right]$"
      ],
      "text/plain": [
       "<__main__.MatrixSympy at 0x7fd829203580>"
      ]
     },
     "execution_count": 38,
     "metadata": {},
     "output_type": "execute_result"
    }
   ],
   "source": [
    "A*A"
   ]
  },
  {
   "cell_type": "code",
   "execution_count": 40,
   "id": "90d23d01-59e6-440e-9d7f-7bde8fc68edc",
   "metadata": {
    "tags": []
   },
   "outputs": [
    {
     "data": {
      "text/latex": [
       "$\\displaystyle 1$"
      ],
      "text/plain": [
       "1"
      ]
     },
     "execution_count": 40,
     "metadata": {},
     "output_type": "execute_result"
    }
   ],
   "source": [
    "A[0, 0] "
   ]
  },
  {
   "cell_type": "code",
   "execution_count": null,
   "id": "33e7e5c2-400b-4604-b053-6607d7d52919",
   "metadata": {},
   "outputs": [],
   "source": [
    "x = Symbol('x', type=Double)"
   ]
  },
  {
   "cell_type": "code",
   "execution_count": 41,
   "id": "b25e4b8d-80fa-4639-a4c6-c66680b51c2c",
   "metadata": {
    "tags": []
   },
   "outputs": [],
   "source": [
    "import casadi as ca"
   ]
  },
  {
   "cell_type": "code",
   "execution_count": 48,
   "id": "a9aaa932-2559-4768-a419-1a867214056a",
   "metadata": {
    "tags": []
   },
   "outputs": [],
   "source": [
    "x = ca.SX.sym('x')\n",
    "c = 2*x\n",
    "\n",
    "e = ca.sin(c) + 3*c"
   ]
  },
  {
   "cell_type": "code",
   "execution_count": 72,
   "id": "2a95cbdf-11fc-4f0c-bf0b-bfe8b6336220",
   "metadata": {
    "tags": []
   },
   "outputs": [
    {
     "data": {
      "text/plain": [
       "'(x+y)'"
      ]
     },
     "execution_count": 72,
     "metadata": {},
     "output_type": "execute_result"
    }
   ],
   "source": [
    "ca.print_operator(e, ['x', 'y'])"
   ]
  },
  {
   "cell_type": "code",
   "execution_count": 73,
   "id": "f5886304-8140-4e7a-83bb-22d888fc2e91",
   "metadata": {
    "tags": []
   },
   "outputs": [
    {
     "data": {
      "text/plain": [
       "'(x*y)'"
      ]
     },
     "execution_count": 73,
     "metadata": {},
     "output_type": "execute_result"
    }
   ],
   "source": [
    "ca.print_operator(3*c, ['x', 'y'])"
   ]
  },
  {
   "cell_type": "code",
   "execution_count": 78,
   "id": "f7559948-0582-4209-b8e7-39d630f917c4",
   "metadata": {
    "tags": []
   },
   "outputs": [
    {
     "data": {
      "text/plain": [
       "int"
      ]
     },
     "execution_count": 78,
     "metadata": {},
     "output_type": "execute_result"
    }
   ],
   "source": [
    "e."
   ]
  },
  {
   "cell_type": "code",
   "execution_count": 63,
   "id": "65c1216b-d4ee-4b29-87ee-fbbae00cf41b",
   "metadata": {
    "tags": []
   },
   "outputs": [
    {
     "data": {
      "text/plain": [
       "casadi.casadi.SX"
      ]
     },
     "execution_count": 63,
     "metadata": {},
     "output_type": "execute_result"
    }
   ],
   "source": [
    "type(e.elements()[0])"
   ]
  },
  {
   "cell_type": "code",
   "execution_count": 84,
   "id": "679a039f-37fa-4da4-90fd-c2c696f7ceec",
   "metadata": {
    "tags": []
   },
   "outputs": [
    {
     "data": {
      "text/plain": [
       "{'this': <Swig Object of type 'casadi::SX *' at 0x7fd828cde280>}"
      ]
     },
     "execution_count": 84,
     "metadata": {},
     "output_type": "execute_result"
    }
   ],
   "source": [
    "e.__dict__"
   ]
  },
  {
   "cell_type": "code",
   "execution_count": 92,
   "id": "6dd035c7-f431-4d53-89ea-23d915089053",
   "metadata": {
    "tags": []
   },
   "outputs": [
    {
     "data": {
      "text/plain": [
       "DM(6.9093)"
      ]
     },
     "execution_count": 92,
     "metadata": {},
     "output_type": "execute_result"
    }
   ],
   "source": [
    "f = ca.Function('f', [x], [e])\n",
    "f(1)"
   ]
  },
  {
   "cell_type": "code",
   "execution_count": 97,
   "id": "168786dc-f22a-45b1-a476-5e70d4f8f14e",
   "metadata": {
    "tags": []
   },
   "outputs": [
    {
     "data": {
      "text/plain": [
       "SX(@1=(2*x), (sin(@1)+(3*@1)))"
      ]
     },
     "execution_count": 97,
     "metadata": {},
     "output_type": "execute_result"
    }
   ],
   "source": [
    "e"
   ]
  },
  {
   "cell_type": "code",
   "execution_count": 101,
   "id": "8550ed9c-b111-4edb-a512-ecc1de078279",
   "metadata": {
    "tags": []
   },
   "outputs": [
    {
     "data": {
      "text/plain": [
       "casadi.casadi.SX"
      ]
     },
     "execution_count": 101,
     "metadata": {},
     "output_type": "execute_result"
    }
   ],
   "source": [
    "type(e)"
   ]
  },
  {
   "cell_type": "code",
   "execution_count": 102,
   "id": "9a778990-3e84-4d82-a93e-c4a0baef8d0e",
   "metadata": {
    "tags": []
   },
   "outputs": [
    {
     "name": "stdout",
     "output_type": "stream",
     "text": [
      "@1=(2*x), (sin(@1)+(3*@1))"
     ]
    }
   ],
   "source": [
    "e.disp()"
   ]
  },
  {
   "cell_type": "code",
   "execution_count": 103,
   "id": "a1f2133f-2a01-4637-b170-7b26d76cda05",
   "metadata": {
    "tags": []
   },
   "outputs": [
    {
     "data": {
      "text/plain": [
       "'(x+y)'"
      ]
     },
     "execution_count": 103,
     "metadata": {},
     "output_type": "execute_result"
    }
   ],
   "source": [
    "ca.print_operator(e, ['x', 'y'])"
   ]
  },
  {
   "cell_type": "code",
   "execution_count": 142,
   "id": "313155e4-1f67-4fcb-84d9-7344808620af",
   "metadata": {
    "tags": []
   },
   "outputs": [
    {
     "name": "stdout",
     "output_type": "stream",
     "text": [
      "1\n"
     ]
    }
   ],
   "source": [
    "class Operation(Enum):\n",
    "    ASSIGN=0\n",
    "    ADD=1\n",
    "    SUB=2\n",
    "    MUL=3\n",
    "    DIV=4\n",
    "    NEG=5\n",
    "    EXP=6\n",
    "    LOG=7\n",
    "    POW=8\n",
    "    CONSTPOW=9\n",
    "    SQRT=10\n",
    "    SQ=11\n",
    "    TWICE=12\n",
    "    SIN=13\n",
    "    COS=14\n",
    "    TAN=15\n",
    "    ASIN=16\n",
    "    ACOS=17\n",
    "    ATAN=18\n",
    "    LT=19\n",
    "    LE=20\n",
    "    EQ=21\n",
    "    NE=22\n",
    "    NOT=23\n",
    "    AND=24\n",
    "    OR=25\n",
    "    FLOOR=26\n",
    "    CEIL=27\n",
    "    FMOD=28\n",
    "    FABS=29\n",
    "    SIGN=30\n",
    "    COPYSIGN=31\n",
    "    IF_ELSE_ZERO=32\n",
    "    ERF=33\n",
    "    FMIN=34\n",
    "    FMAX=35\n",
    "    INV=36\n",
    "    SINH=37\n",
    "    COSH=38\n",
    "    TANH=39\n",
    "    ASINH=40\n",
    "    ACOSH=41\n",
    "    ATANH=42\n",
    "    ATAN2=43\n",
    "    CONST=44\n",
    "    INPUT=45\n",
    "    OUTPUT=46\n",
    "    PARAMETER=47\n",
    "    CALL=48\n",
    "    FIND=49\n",
    "    LOW=50\n",
    "    MAP=51\n",
    "    MTIMES=52\n",
    "    SOLVE=53\n",
    "    TRANSPOSE=54\n",
    "    DETERMINANT=55\n",
    "    INVERSE=56\n",
    "    DOT=57\n",
    "    BILIN=58\n",
    "    RANK1=59\n",
    "    HORZCAT=60\n",
    "    VERTCAT=61\n",
    "    DIAGCAT=62\n",
    "    HORZSPLIT=63\n",
    "    VERTSPLIT=64\n",
    "    DIAGSPLIT=65\n",
    "    RESHAPE=66\n",
    "    SUBREF=67\n",
    "    SUBASSIGN=68\n",
    "    GETNONZEROS=69\n",
    "    GETNONZEROS_PARAM=70\n",
    "    ADDNONZEROS=71\n",
    "    ADDNONZEROS_PARAM=72\n",
    "    SETNONZEROS=73\n",
    "    SETNONZEROS_PARAM=74\n",
    "    PROJECT=75\n",
    "    ASSERTION=76\n",
    "    MONITOR=77\n",
    "    NORM2=78\n",
    "    NORM1=79\n",
    "    NORMINF=80\n",
    "    NORMF=81\n",
    "    MMIN=82\n",
    "    MMAX=83\n",
    "    HORZREPMAT=84\n",
    "    HORZREPSUM=85\n",
    "    ERFINF=86\n",
    "    PRINTME=87\n",
    "    LIFT=88\n",
    "    EINSTEIN=89\n",
    "    BSPLINE=90\n",
    "    CONVEXIFY=91\n",
    "    \n",
    "\n",
    "print(Operation.OP_ASSIGN)"
   ]
  },
  {
   "cell_type": "code",
   "execution_count": 183,
   "id": "4ab50e3b-e941-4146-ac1e-95438baa47ea",
   "metadata": {
    "tags": []
   },
   "outputs": [
    {
     "data": {
      "text/plain": [
       "MX(mac(A,B,zeros(3x3)))"
      ]
     },
     "execution_count": 183,
     "metadata": {},
     "output_type": "execute_result"
    }
   ],
   "source": [
    "A = ca.MX.sym('A', 3, 3)\n",
    "B = ca.MX.sym('B', 3, 3)\n",
    "\n",
    "A@B"
   ]
  },
  {
   "cell_type": "code",
   "execution_count": 182,
   "id": "0f81b1c8-9a0a-43c1-8a12-456af77d9190",
   "metadata": {
    "tags": []
   },
   "outputs": [
    {
     "data": {
      "text/plain": [
       "(3, 3)"
      ]
     },
     "execution_count": 182,
     "metadata": {},
     "output_type": "execute_result"
    }
   ],
   "source": [
    "A = ca.SX.sym('A', 3, 3)\n",
    "B = ca.SX.sym('B', 3, 3)\n",
    "\n",
    "(A@B).shape"
   ]
  },
  {
   "cell_type": "code",
   "execution_count": 168,
   "id": "a3b3204d-930f-445e-9ab3-f2042181950e",
   "metadata": {
    "tags": []
   },
   "outputs": [
    {
     "name": "stdout",
     "output_type": "stream",
     "text": [
      "43\n"
     ]
    }
   ],
   "source": [
    "x = ca.SX.sym('x')\n",
    "y = ca.SX.sym('y')\n",
    "e = ca.atan2(x, y)\n",
    "print(e.op())"
   ]
  },
  {
   "cell_type": "code",
   "execution_count": 163,
   "id": "7509f3a2-13c4-4dce-b050-5fb0924c3a74",
   "metadata": {
    "tags": []
   },
   "outputs": [
    {
     "data": {
      "text/plain": [
       "SX(@1=(0<x), sq(((@1?((sq(x)+(2*x))+3):0)+((!@1)?1:0))))"
      ]
     },
     "execution_count": 163,
     "metadata": {},
     "output_type": "execute_result"
    }
   ],
   "source": [
    "ca.norm_2(ca.if_else(x > 0, x**2 + 2*x + 3, 1)**2)"
   ]
  },
  {
   "cell_type": "code",
   "execution_count": 108,
   "id": "cd813a00-43bc-4b84-9df9-877443248f31",
   "metadata": {
    "tags": []
   },
   "outputs": [
    {
     "data": {
      "text/plain": [
       "13"
      ]
     },
     "execution_count": 108,
     "metadata": {},
     "output_type": "execute_result"
    }
   ],
   "source": [
    "(ca.sin(x)).op()"
   ]
  },
  {
   "cell_type": "code",
   "execution_count": 109,
   "id": "3d4c5665-3fab-40ca-b489-9f223a01c394",
   "metadata": {
    "tags": []
   },
   "outputs": [
    {
     "data": {
      "text/plain": [
       "10"
      ]
     },
     "execution_count": 109,
     "metadata": {},
     "output_type": "execute_result"
    }
   ],
   "source": [
    "(ca.sqrt(x)).op()"
   ]
  },
  {
   "cell_type": "code",
   "execution_count": 113,
   "id": "87ffe537-84de-4f29-b8fe-9f17ab386009",
   "metadata": {
    "tags": []
   },
   "outputs": [
    {
     "data": {
      "text/plain": [
       "15"
      ]
     },
     "execution_count": 113,
     "metadata": {},
     "output_type": "execute_result"
    }
   ],
   "source": [
    "(ca.tan(x)).op()"
   ]
  },
  {
   "cell_type": "code",
   "execution_count": 117,
   "id": "240cc117-3fc0-4516-bf99-5b61312e7a44",
   "metadata": {
    "tags": []
   },
   "outputs": [
    {
     "data": {
      "text/plain": [
       "44"
      ]
     },
     "execution_count": 117,
     "metadata": {},
     "output_type": "execute_result"
    }
   ],
   "source": [
    "(x - x).op()"
   ]
  },
  {
   "cell_type": "code",
   "execution_count": null,
   "id": "d097dd6d-4839-44eb-93de-a4e1af012124",
   "metadata": {},
   "outputs": [],
   "source": [
    "(x - x).op()"
   ]
  }
 ],
 "metadata": {
  "kernelspec": {
   "display_name": "Python 3 (ipykernel)",
   "language": "python",
   "name": "python3"
  },
  "language_info": {
   "codemirror_mode": {
    "name": "ipython",
    "version": 3
   },
   "file_extension": ".py",
   "mimetype": "text/x-python",
   "name": "python",
   "nbconvert_exporter": "python",
   "pygments_lexer": "ipython3",
   "version": "3.10.6"
  }
 },
 "nbformat": 4,
 "nbformat_minor": 5
}
