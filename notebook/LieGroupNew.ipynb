{
 "cells": [
  {
   "cell_type": "code",
   "execution_count": 1,
   "id": "f7eb1e46-aee7-44dd-87aa-6fb9da6829cf",
   "metadata": {
    "tags": []
   },
   "outputs": [],
   "source": [
    "%load_ext autoreload\n",
    "%autoreload 2\n",
    "\n",
    "from cyecca import lie\n",
    "from sympy import Matrix, symbols, MatrixSymbol, Eq"
   ]
  },
  {
   "cell_type": "code",
   "execution_count": 2,
   "id": "750abcbd",
   "metadata": {},
   "outputs": [
    {
     "data": {
      "text/latex": [
       "$\\displaystyle \\left[\\begin{matrix}1\\end{matrix}\\right]$"
      ],
      "text/plain": [
       "<cyecca.lie._base.LieAlgebraElement at 0x7f881f191420>"
      ]
     },
     "execution_count": 2,
     "metadata": {},
     "output_type": "execute_result"
    }
   ],
   "source": [
    "lie.so2.element(Matrix([1]))"
   ]
  },
  {
   "cell_type": "code",
   "execution_count": 3,
   "id": "279758a8-3964-46c2-a4d4-57d777e6cf21",
   "metadata": {
    "tags": []
   },
   "outputs": [
    {
     "data": {
      "text/latex": [
       "$\\displaystyle \\left[\\begin{matrix}7 x\\end{matrix}\\right]$"
      ],
      "text/plain": [
       "<cyecca.lie._base.LieAlgebraElement at 0x7f880cc18070>"
      ]
     },
     "execution_count": 3,
     "metadata": {},
     "output_type": "execute_result"
    }
   ],
   "source": [
    "x = symbols('x')\n",
    "\n",
    "g1 = lie.so2.element(param=Matrix([x]))\n",
    "g2 = lie.so2.element(param=Matrix([2*x]))\n",
    "(g1 + 3*g2)"
   ]
  },
  {
   "cell_type": "code",
   "execution_count": 4,
   "id": "723e4bc0-e299-436e-9234-860adc512b14",
   "metadata": {
    "tags": []
   },
   "outputs": [
    {
     "data": {
      "text/latex": [
       "$\\displaystyle \\left[\\begin{matrix}0\\end{matrix}\\right]$"
      ],
      "text/plain": [
       "Matrix([[0]])"
      ]
     },
     "execution_count": 4,
     "metadata": {},
     "output_type": "execute_result"
    }
   ],
   "source": [
    "g1.ad()@g1.vee()"
   ]
  },
  {
   "cell_type": "code",
   "execution_count": 5,
   "id": "d0e960e1-89cc-4fc6-924e-a6be48327a2a",
   "metadata": {
    "tags": []
   },
   "outputs": [],
   "source": [
    "G1 = lie.R3.element(param=Matrix([1, 2, 3]))\n",
    "#G1.to_matrix()@G1.to_matrix()"
   ]
  },
  {
   "cell_type": "code",
   "execution_count": 6,
   "id": "e615aadb",
   "metadata": {},
   "outputs": [
    {
     "data": {
      "text/latex": [
       "$\\displaystyle \\left[\\begin{matrix}2\\\\4\\\\6\\end{matrix}\\right]$"
      ],
      "text/plain": [
       "<cyecca.lie._base.LieGroupElement at 0x7f880cc19e10>"
      ]
     },
     "execution_count": 6,
     "metadata": {},
     "output_type": "execute_result"
    }
   ],
   "source": [
    "G1*G1"
   ]
  },
  {
   "cell_type": "code",
   "execution_count": 7,
   "id": "9cd12111-da13-4df9-96ab-66913293d9ec",
   "metadata": {
    "tags": []
   },
   "outputs": [
    {
     "data": {
      "text/latex": [
       "$\\displaystyle \\left[\\begin{matrix}1 & 0 & 0 & 1\\\\0 & 1 & 0 & 2\\\\0 & 0 & 1 & 3\\\\0 & 0 & 0 & 1\\end{matrix}\\right]$"
      ],
      "text/plain": [
       "Matrix([\n",
       "[1, 0, 0, 1],\n",
       "[0, 1, 0, 2],\n",
       "[0, 0, 1, 3],\n",
       "[0, 0, 0, 1]])"
      ]
     },
     "execution_count": 7,
     "metadata": {},
     "output_type": "execute_result"
    }
   ],
   "source": [
    "G1.Ad()@G1.to_matrix()"
   ]
  },
  {
   "cell_type": "code",
   "execution_count": 8,
   "id": "c4c68ed1-2663-4e1a-9b32-b15984b0952f",
   "metadata": {
    "tags": []
   },
   "outputs": [
    {
     "data": {
      "text/latex": [
       "$\\displaystyle \\left[\\begin{matrix}2 x\\end{matrix}\\right]$"
      ],
      "text/plain": [
       "<cyecca.lie._base.LieAlgebraElement at 0x7f881f191f30>"
      ]
     },
     "execution_count": 8,
     "metadata": {},
     "output_type": "execute_result"
    }
   ],
   "source": [
    "lie.so2.element(Matrix([2*x]))"
   ]
  },
  {
   "cell_type": "code",
   "execution_count": 9,
   "id": "25a61017-09a6-48bb-b7ac-7f92267cd86f",
   "metadata": {},
   "outputs": [
    {
     "data": {
      "text/latex": [
       "$\\displaystyle \\left[\\begin{matrix}x\\end{matrix}\\right]$"
      ],
      "text/plain": [
       "<cyecca.lie._base.LieGroupElement at 0x7f881f191720>"
      ]
     },
     "execution_count": 9,
     "metadata": {},
     "output_type": "execute_result"
    }
   ],
   "source": [
    "g1.exp(lie.SO2)"
   ]
  },
  {
   "cell_type": "code",
   "execution_count": 10,
   "id": "da7cb694-a309-4ed6-994c-2664aa575575",
   "metadata": {
    "tags": []
   },
   "outputs": [],
   "source": [
    "G1 = g1.exp(lie.SO2)"
   ]
  },
  {
   "cell_type": "code",
   "execution_count": 11,
   "id": "78dc74ee-152a-49d2-bee1-bc511d7bcdbe",
   "metadata": {
    "tags": []
   },
   "outputs": [
    {
     "data": {
      "text/latex": [
       "$\\displaystyle \\left[\\begin{matrix}1\\\\2\\end{matrix}\\right]$"
      ],
      "text/plain": [
       "<cyecca.lie._base.LieGroupElement at 0x7f880cc1a500>"
      ]
     },
     "execution_count": 11,
     "metadata": {},
     "output_type": "execute_result"
    }
   ],
   "source": [
    "a = lie.r2.element(Matrix([1, 2]))\n",
    "a.exp(lie.R2)"
   ]
  },
  {
   "cell_type": "code",
   "execution_count": 12,
   "id": "d0a2610e-d71f-4df0-809e-52e802c41963",
   "metadata": {
    "tags": []
   },
   "outputs": [
    {
     "data": {
      "text/latex": [
       "$\\displaystyle \\left[\\begin{matrix}3 x\\end{matrix}\\right]$"
      ],
      "text/plain": [
       "Matrix([[3*x]])"
      ]
     },
     "execution_count": 12,
     "metadata": {},
     "output_type": "execute_result"
    }
   ],
   "source": [
    "(g1 + g2).vee()"
   ]
  },
  {
   "cell_type": "code",
   "execution_count": 13,
   "id": "e303c16e-0826-4b07-a132-c1e71254ea06",
   "metadata": {
    "tags": []
   },
   "outputs": [
    {
     "data": {
      "text/latex": [
       "$\\displaystyle \\left[\\begin{matrix}1\\end{matrix}\\right]$"
      ],
      "text/plain": [
       "<cyecca.lie._base.LieGroupElement at 0x7f880cc19c30>"
      ]
     },
     "execution_count": 13,
     "metadata": {},
     "output_type": "execute_result"
    }
   ],
   "source": [
    "G1 = lie.SO2.element(Matrix([1]))\n",
    "G1"
   ]
  },
  {
   "cell_type": "code",
   "execution_count": 14,
   "id": "3ee2dde5",
   "metadata": {},
   "outputs": [
    {
     "ename": "BeartypeCallHintReturnViolation",
     "evalue": "Method cyecca.lie._so3.SO3EulerLieGroup.to_matrix() return \"Matrix([\n[                              cos(psi)*cos(theta),                              -...( violates type hint <class 'sympy.matrices.dense.MutableDenseMatrix'>, as <protocol \"sympy.matrices.immutable.ImmutableDenseMatrix\"> \"Matrix([\n[                              cos(psi)*cos(theta),                              -...( not instance of <protocol \"sympy.matrices.dense.MutableDenseMatrix\">.",
     "output_type": "error",
     "traceback": [
      "\u001b[0;31m---------------------------------------------------------------------------\u001b[0m",
      "\u001b[0;31mBeartypeCallHintReturnViolation\u001b[0m           Traceback (most recent call last)",
      "Cell \u001b[0;32mIn[14], line 4\u001b[0m\n\u001b[1;32m      2\u001b[0m SO3EulerB321 \u001b[39m=\u001b[39m lie\u001b[39m.\u001b[39mSO3Euler(euler_type\u001b[39m=\u001b[39mlie\u001b[39m.\u001b[39mEulerType\u001b[39m.\u001b[39mbody_fixed, sequence\u001b[39m=\u001b[39m[lie\u001b[39m.\u001b[39mAxis\u001b[39m.\u001b[39mz, lie\u001b[39m.\u001b[39mAxis\u001b[39m.\u001b[39my, lie\u001b[39m.\u001b[39mAxis\u001b[39m.\u001b[39mx])\n\u001b[1;32m      3\u001b[0m G1 \u001b[39m=\u001b[39m SO3EulerB321\u001b[39m.\u001b[39melement(Matrix([psi, theta, phi]))\n\u001b[0;32m----> 4\u001b[0m G1\u001b[39m.\u001b[39;49mto_matrix()\n",
      "File \u001b[0;32m~/git/cyecca/cyecca/lie/_base.py:124\u001b[0m, in \u001b[0;36mLieGroupElement.to_matrix\u001b[0;34m(self)\u001b[0m\n\u001b[1;32m    123\u001b[0m \u001b[39mdef\u001b[39;00m \u001b[39mto_matrix\u001b[39m(\u001b[39mself\u001b[39m):\n\u001b[0;32m--> 124\u001b[0m     \u001b[39mreturn\u001b[39;00m \u001b[39mself\u001b[39;49m\u001b[39m.\u001b[39;49mgroup\u001b[39m.\u001b[39;49mto_matrix(left\u001b[39m=\u001b[39;49m\u001b[39mself\u001b[39;49m)\n",
      "File \u001b[0;32m<@beartype(cyecca.lie._so3.SO3EulerLieGroup.to_matrix) at 0x7f880cc33d00>:41\u001b[0m, in \u001b[0;36mto_matrix\u001b[0;34m(__beartype_func, __beartype_conf, __beartype_get_violation, __beartype_object_94417934419392, __beartype_object_94417931574704, *args, **kwargs)\u001b[0m\n",
      "\u001b[0;31mBeartypeCallHintReturnViolation\u001b[0m: Method cyecca.lie._so3.SO3EulerLieGroup.to_matrix() return \"Matrix([\n[                              cos(psi)*cos(theta),                              -...( violates type hint <class 'sympy.matrices.dense.MutableDenseMatrix'>, as <protocol \"sympy.matrices.immutable.ImmutableDenseMatrix\"> \"Matrix([\n[                              cos(psi)*cos(theta),                              -...( not instance of <protocol \"sympy.matrices.dense.MutableDenseMatrix\">."
     ]
    }
   ],
   "source": [
    "phi, theta, psi = symbols('phi, theta, psi', real=True)\n",
    "SO3EulerB321 = lie.SO3Euler(euler_type=lie.EulerType.body_fixed, sequence=[lie.Axis.z, lie.Axis.y, lie.Axis.x])\n",
    "G1 = SO3EulerB321.element(Matrix([psi, theta, phi]))\n",
    "G1.to_matrix()"
   ]
  },
  {
   "cell_type": "code",
   "execution_count": null,
   "id": "6c602fe3",
   "metadata": {},
   "outputs": [
    {
     "ename": "NotImplementedError",
     "evalue": "log not implemented",
     "output_type": "error",
     "traceback": [
      "\u001b[0;31m---------------------------------------------------------------------------\u001b[0m",
      "\u001b[0;31mNotImplementedError\u001b[0m                       Traceback (most recent call last)",
      "Cell \u001b[0;32mIn[15], line 1\u001b[0m\n\u001b[0;32m----> 1\u001b[0m G1\u001b[39m.\u001b[39;49mlog()\n",
      "File \u001b[0;32m<@beartype(cyecca.lie._base.LieGroupElement.log) at 0x7f133c907370>:11\u001b[0m, in \u001b[0;36mlog\u001b[0;34m(__beartype_func, __beartype_conf, __beartype_get_violation, __beartype_object_94552584808576, *args, **kwargs)\u001b[0m\n",
      "File \u001b[0;32m~/git/cyecca/cyecca/lie/_base.py:127\u001b[0m, in \u001b[0;36mLieGroupElement.log\u001b[0;34m(self)\u001b[0m\n\u001b[1;32m    126\u001b[0m \u001b[39mdef\u001b[39;00m \u001b[39mlog\u001b[39m(\u001b[39mself\u001b[39m) \u001b[39m-\u001b[39m\u001b[39m>\u001b[39m LieAlgebraElement:\n\u001b[0;32m--> 127\u001b[0m     \u001b[39mreturn\u001b[39;00m \u001b[39mself\u001b[39;49m\u001b[39m.\u001b[39;49mgroup\u001b[39m.\u001b[39;49mlog(left\u001b[39m=\u001b[39;49m\u001b[39mself\u001b[39;49m)\n",
      "File \u001b[0;32m<@beartype(cyecca.lie._so3.SO3EulerLieGroup.log) at 0x7f133c93fc70>:33\u001b[0m, in \u001b[0;36mlog\u001b[0;34m(__beartype_func, __beartype_conf, __beartype_get_violation, __beartype_object_94552584878432, __beartype_object_94552584808576, *args, **kwargs)\u001b[0m\n",
      "File \u001b[0;32m~/git/cyecca/cyecca/lie/_so3.py:114\u001b[0m, in \u001b[0;36mSO3EulerLieGroup.log\u001b[0;34m(self, left)\u001b[0m\n\u001b[1;32m    112\u001b[0m \u001b[39mdef\u001b[39;00m \u001b[39mlog\u001b[39m(\u001b[39mself\u001b[39m, left: LieGroupElement) \u001b[39m-\u001b[39m\u001b[39m>\u001b[39m LieAlgebraElement:\n\u001b[1;32m    113\u001b[0m     \u001b[39massert\u001b[39;00m \u001b[39mself\u001b[39m \u001b[39m==\u001b[39m left\u001b[39m.\u001b[39mgroup\n\u001b[0;32m--> 114\u001b[0m     \u001b[39mraise\u001b[39;00m \u001b[39mNotImplementedError\u001b[39;00m(\u001b[39m\"\u001b[39m\u001b[39mlog not implemented\u001b[39m\u001b[39m\"\u001b[39m)\n",
      "\u001b[0;31mNotImplementedError\u001b[0m: log not implemented"
     ]
    }
   ],
   "source": [
    "G1.log()"
   ]
  },
  {
   "cell_type": "code",
   "execution_count": null,
   "id": "44f8b2df",
   "metadata": {},
   "outputs": [
    {
     "data": {
      "text/latex": [
       "$\\displaystyle \\left[\\begin{matrix}0\\\\1\\\\0\\\\0\\end{matrix}\\right]$"
      ],
      "text/plain": [
       "<cyecca.lie._base.LieGroupElement at 0x7f306e4d19c0>"
      ]
     },
     "execution_count": 17,
     "metadata": {},
     "output_type": "execute_result"
    }
   ],
   "source": [
    "q0 = lie.SO3Quat.element(Matrix([1, 0, 0, 0]))\n",
    "q1 = lie.SO3Quat.element(Matrix([0, 1, 0, 0]))\n",
    "\n",
    "q0 * q1"
   ]
  },
  {
   "cell_type": "code",
   "execution_count": null,
   "id": "0a1574ec",
   "metadata": {},
   "outputs": [
    {
     "data": {
      "text/latex": [
       "$\\displaystyle \\left[\\begin{matrix}1\\\\0\\\\0\\\\0\\end{matrix}\\right]$"
      ],
      "text/plain": [
       "<cyecca.lie._base.LieGroupElement at 0x7f3047b0f8e0>"
      ]
     },
     "execution_count": 18,
     "metadata": {},
     "output_type": "execute_result"
    }
   ],
   "source": [
    "q1.inverse() * q1"
   ]
  },
  {
   "cell_type": "code",
   "execution_count": null,
   "id": "4f4f1964",
   "metadata": {},
   "outputs": [],
   "source": [
    "from sympy.utilities.codegen import C99CodeGen\n",
    "\n",
    "gen = C99CodeGen(project='Cerebri', printer=None, preprocessor_statements=None, cse=True)\n",
    "\n",
    "X = MatrixSymbol('X', 3, 3)\n",
    "f_test = gen.routine(\n",
    "    name='G1',\n",
    "    expr=Eq(X, G1.to_matrix()),\n",
    "    argument_sequence=[phi, theta, psi, X])\n",
    "\n",
    "with open('test.c', 'w') as f:\n",
    "    gen.dump_c(f=f, routines=[\n",
    "        f_test\n",
    "    ], prefix='test', header=True)\n",
    "\n",
    "with open('test.h', 'w') as f:\n",
    "    gen.dump_h(f=f, routines=[\n",
    "        f_test\n",
    "    ], prefix='test', header=True)"
   ]
  },
  {
   "cell_type": "code",
   "execution_count": null,
   "id": "597c6b9a",
   "metadata": {},
   "outputs": [],
   "source": []
  }
 ],
 "metadata": {
  "kernelspec": {
   "display_name": "Python 3 (ipykernel)",
   "language": "python",
   "name": "python3"
  },
  "language_info": {
   "codemirror_mode": {
    "name": "ipython",
    "version": 3
   },
   "file_extension": ".py",
   "mimetype": "text/x-python",
   "name": "python",
   "nbconvert_exporter": "python",
   "pygments_lexer": "ipython3",
   "version": "3.10.6"
  }
 },
 "nbformat": 4,
 "nbformat_minor": 5
}
