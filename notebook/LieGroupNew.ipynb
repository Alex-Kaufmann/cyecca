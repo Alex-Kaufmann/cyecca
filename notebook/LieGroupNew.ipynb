{
 "cells": [
  {
   "cell_type": "code",
   "execution_count": 45,
   "id": "f7eb1e46-aee7-44dd-87aa-6fb9da6829cf",
   "metadata": {
    "tags": []
   },
   "outputs": [
    {
     "name": "stdout",
     "output_type": "stream",
     "text": [
      "The autoreload extension is already loaded. To reload it, use:\n",
      "  %reload_ext autoreload\n"
     ]
    }
   ],
   "source": [
    "%load_ext autoreload\n",
    "%autoreload 2\n",
    "import lie\n",
    "import sympy\n",
    "import casadi as ca\n",
    "import numpy as np\n",
    "from abc import ABC, abstractmethod"
   ]
  },
  {
   "cell_type": "code",
   "execution_count": 46,
   "id": "279758a8-3964-46c2-a4d4-57d777e6cf21",
   "metadata": {
    "tags": []
   },
   "outputs": [],
   "source": [
    "x = sympy.symbols('x')\n",
    "\n",
    "so2 = lie.SO2LieAlgebra()\n",
    "SO2 = lie.SO2LieGroup(algebra=so2)\n",
    "\n",
    "r3 = lie.RnLieAlgebra(n=3)\n",
    "R3 = lie.RnLieGroup(algebra=r3)\n",
    "\n",
    "r2 = lie.RnLieAlgebra(n=2)\n",
    "R2 = lie.RnLieGroup(algebra=r2)\n",
    "\n",
    "g1 = so2.element(sympy.Matrix([x]))\n",
    "g2 = so2.element(sympy.Matrix([2*x]))"
   ]
  },
  {
   "cell_type": "code",
   "execution_count": 47,
   "id": "723e4bc0-e299-436e-9234-860adc512b14",
   "metadata": {
    "tags": []
   },
   "outputs": [
    {
     "data": {
      "text/latex": [
       "$\\displaystyle \\left[\\begin{matrix}0\\end{matrix}\\right]$"
      ],
      "text/plain": [
       "Matrix([[0]])"
      ]
     },
     "execution_count": 47,
     "metadata": {},
     "output_type": "execute_result"
    }
   ],
   "source": [
    "g1.ad()@g1.vee()"
   ]
  },
  {
   "cell_type": "code",
   "execution_count": 48,
   "id": "d0e960e1-89cc-4fc6-924e-a6be48327a2a",
   "metadata": {
    "tags": []
   },
   "outputs": [
    {
     "data": {
      "text/latex": [
       "$\\displaystyle \\left[\\begin{matrix}1 & 0 & 0 & 2\\\\0 & 1 & 0 & 4\\\\0 & 0 & 1 & 6\\\\0 & 0 & 0 & 1\\end{matrix}\\right]$"
      ],
      "text/plain": [
       "Matrix([\n",
       "[1, 0, 0, 2],\n",
       "[0, 1, 0, 4],\n",
       "[0, 0, 1, 6],\n",
       "[0, 0, 0, 1]])"
      ]
     },
     "execution_count": 48,
     "metadata": {},
     "output_type": "execute_result"
    }
   ],
   "source": [
    "G1 = R3.element(sympy.Matrix([1, 2, 3]))\n",
    "G1.to_matrix()@G1.to_matrix()"
   ]
  },
  {
   "cell_type": "code",
   "execution_count": 49,
   "id": "c4c68ed1-2663-4e1a-9b32-b15984b0952f",
   "metadata": {
    "tags": []
   },
   "outputs": [
    {
     "data": {
      "text/plain": [
       "LieAlgebraElement(SO2LieAlgebra, Matrix([[2*x]]))"
      ]
     },
     "execution_count": 49,
     "metadata": {},
     "output_type": "execute_result"
    }
   ],
   "source": [
    "so2.element(sympy.Matrix([2*x]))"
   ]
  },
  {
   "cell_type": "code",
   "execution_count": 50,
   "id": "25a61017-09a6-48bb-b7ac-7f92267cd86f",
   "metadata": {},
   "outputs": [
    {
     "data": {
      "text/plain": [
       "LieGroupElement(SO2LieGroup, Matrix([[x]]))"
      ]
     },
     "execution_count": 50,
     "metadata": {},
     "output_type": "execute_result"
    }
   ],
   "source": [
    "g1.exp(SO2)"
   ]
  },
  {
   "cell_type": "code",
   "execution_count": 51,
   "id": "da7cb694-a309-4ed6-994c-2664aa575575",
   "metadata": {
    "tags": []
   },
   "outputs": [],
   "source": [
    "G1 = g1.exp(SO2)"
   ]
  },
  {
   "cell_type": "code",
   "execution_count": 52,
   "id": "78dc74ee-152a-49d2-bee1-bc511d7bcdbe",
   "metadata": {
    "tags": []
   },
   "outputs": [
    {
     "data": {
      "text/plain": [
       "LieGroupElement(RnLieGroup, Matrix([\n",
       "[1],\n",
       "[2]]))"
      ]
     },
     "execution_count": 52,
     "metadata": {},
     "output_type": "execute_result"
    }
   ],
   "source": [
    "a = r2.element(sympy.Matrix([1, 2]))\n",
    "a.exp(R2)"
   ]
  },
  {
   "cell_type": "code",
   "execution_count": 53,
   "id": "d0a2610e-d71f-4df0-809e-52e802c41963",
   "metadata": {
    "tags": []
   },
   "outputs": [
    {
     "data": {
      "text/latex": [
       "$\\displaystyle \\left[\\begin{matrix}3 x\\end{matrix}\\right]$"
      ],
      "text/plain": [
       "Matrix([[3*x]])"
      ]
     },
     "execution_count": 53,
     "metadata": {},
     "output_type": "execute_result"
    }
   ],
   "source": [
    "(g1 + g2).vee()"
   ]
  },
  {
   "cell_type": "code",
   "execution_count": 54,
   "id": "e303c16e-0826-4b07-a132-c1e71254ea06",
   "metadata": {
    "tags": []
   },
   "outputs": [
    {
     "data": {
      "text/plain": [
       "LieGroupElement(SO2LieGroup, Matrix([[1]]))"
      ]
     },
     "execution_count": 54,
     "metadata": {},
     "output_type": "execute_result"
    }
   ],
   "source": [
    "G1 = SO2.element(sympy.Matrix([1]))\n",
    "G1"
   ]
  },
  {
   "cell_type": "code",
   "execution_count": null,
   "id": "48990fcd-f53f-4e2c-a055-4406445c891f",
   "metadata": {},
   "outputs": [],
   "source": []
  }
 ],
 "metadata": {
  "kernelspec": {
   "display_name": "Python 3 (ipykernel)",
   "language": "python",
   "name": "python3"
  },
  "language_info": {
   "codemirror_mode": {
    "name": "ipython",
    "version": 3
   },
   "file_extension": ".py",
   "mimetype": "text/x-python",
   "name": "python",
   "nbconvert_exporter": "python",
   "pygments_lexer": "ipython3",
   "version": "3.10.6"
  }
 },
 "nbformat": 4,
 "nbformat_minor": 5
}
