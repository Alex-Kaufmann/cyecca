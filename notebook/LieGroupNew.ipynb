{
 "cells": [
  {
   "cell_type": "code",
   "execution_count": 139,
   "id": "f7eb1e46-aee7-44dd-87aa-6fb9da6829cf",
   "metadata": {
    "tags": []
   },
   "outputs": [
    {
     "name": "stdout",
     "output_type": "stream",
     "text": [
      "The autoreload extension is already loaded. To reload it, use:\n",
      "  %reload_ext autoreload\n"
     ]
    }
   ],
   "source": [
    "%load_ext autoreload\n",
    "%autoreload 2\n",
    "import lie\n",
    "import sympy\n",
    "import casadi as ca\n",
    "import numpy as np\n",
    "from abc import ABC, abstractmethod"
   ]
  },
  {
   "cell_type": "code",
   "execution_count": 140,
   "id": "279758a8-3964-46c2-a4d4-57d777e6cf21",
   "metadata": {
    "tags": []
   },
   "outputs": [],
   "source": [
    "x = sympy.symbols('x')\n",
    "\n",
    "g1 = lie.so2.element(sympy.Matrix([x]))\n",
    "g2 = lie.so2.element(sympy.Matrix([2*x]))"
   ]
  },
  {
   "cell_type": "code",
   "execution_count": 141,
   "id": "723e4bc0-e299-436e-9234-860adc512b14",
   "metadata": {
    "tags": []
   },
   "outputs": [
    {
     "data": {
      "text/latex": [
       "$\\displaystyle \\left[\\begin{matrix}0\\end{matrix}\\right]$"
      ],
      "text/plain": [
       "Matrix([[0]])"
      ]
     },
     "execution_count": 141,
     "metadata": {},
     "output_type": "execute_result"
    }
   ],
   "source": [
    "g1.ad()@g1.vee()"
   ]
  },
  {
   "cell_type": "code",
   "execution_count": 142,
   "id": "d0e960e1-89cc-4fc6-924e-a6be48327a2a",
   "metadata": {
    "tags": []
   },
   "outputs": [
    {
     "data": {
      "text/latex": [
       "$\\displaystyle \\left[\\begin{matrix}1 & 0 & 0 & 2\\\\0 & 1 & 0 & 4\\\\0 & 0 & 1 & 6\\\\0 & 0 & 0 & 1\\end{matrix}\\right]$"
      ],
      "text/plain": [
       "Matrix([\n",
       "[1, 0, 0, 2],\n",
       "[0, 1, 0, 4],\n",
       "[0, 0, 1, 6],\n",
       "[0, 0, 0, 1]])"
      ]
     },
     "execution_count": 142,
     "metadata": {},
     "output_type": "execute_result"
    }
   ],
   "source": [
    "G1 = lie.R3.element(sympy.Matrix([1, 2, 3]))\n",
    "G1.to_matrix()@G1.to_matrix()"
   ]
  },
  {
   "cell_type": "code",
   "execution_count": 143,
   "id": "c4c68ed1-2663-4e1a-9b32-b15984b0952f",
   "metadata": {
    "tags": []
   },
   "outputs": [
    {
     "data": {
      "text/plain": [
       "LieAlgebraElement(SO2LieAlgebra, Matrix([[2*x]]))"
      ]
     },
     "execution_count": 143,
     "metadata": {},
     "output_type": "execute_result"
    }
   ],
   "source": [
    "lie.so2.element(sympy.Matrix([2*x]))"
   ]
  },
  {
   "cell_type": "code",
   "execution_count": 144,
   "id": "25a61017-09a6-48bb-b7ac-7f92267cd86f",
   "metadata": {},
   "outputs": [
    {
     "data": {
      "text/plain": [
       "LieGroupElement(SO2LieGroup, Matrix([[x]]))"
      ]
     },
     "execution_count": 144,
     "metadata": {},
     "output_type": "execute_result"
    }
   ],
   "source": [
    "g1.exp(lie.SO2)"
   ]
  },
  {
   "cell_type": "code",
   "execution_count": 145,
   "id": "da7cb694-a309-4ed6-994c-2664aa575575",
   "metadata": {
    "tags": []
   },
   "outputs": [
    {
     "data": {
      "text/plain": [
       "LieAlgebraElement(SO2LieAlgebra, Matrix([[x]]))"
      ]
     },
     "execution_count": 145,
     "metadata": {},
     "output_type": "execute_result"
    }
   ],
   "source": [
    "G1 = g1.exp(lie.SO2)\n",
    "G1.log(lie.so2)"
   ]
  },
  {
   "cell_type": "code",
   "execution_count": 146,
   "id": "78dc74ee-152a-49d2-bee1-bc511d7bcdbe",
   "metadata": {
    "tags": []
   },
   "outputs": [
    {
     "data": {
      "text/plain": [
       "LieGroupElement(RnLieGroup, Matrix([\n",
       "[1],\n",
       "[2]]))"
      ]
     },
     "execution_count": 146,
     "metadata": {},
     "output_type": "execute_result"
    }
   ],
   "source": [
    "a = lie.r2.element(sympy.Matrix([1, 2]))\n",
    "a.exp(lie.R2)"
   ]
  },
  {
   "cell_type": "code",
   "execution_count": 147,
   "id": "d0a2610e-d71f-4df0-809e-52e802c41963",
   "metadata": {
    "tags": []
   },
   "outputs": [
    {
     "data": {
      "text/latex": [
       "$\\displaystyle \\left[\\begin{matrix}3 x\\end{matrix}\\right]$"
      ],
      "text/plain": [
       "Matrix([[3*x]])"
      ]
     },
     "execution_count": 147,
     "metadata": {},
     "output_type": "execute_result"
    }
   ],
   "source": [
    "(g1 + g2).vee()"
   ]
  },
  {
   "cell_type": "code",
   "execution_count": 149,
   "id": "e303c16e-0826-4b07-a132-c1e71254ea06",
   "metadata": {
    "tags": []
   },
   "outputs": [
    {
     "data": {
      "text/plain": [
       "LieGroupElement(SO2LieGroup, DM(1))"
      ]
     },
     "execution_count": 149,
     "metadata": {},
     "output_type": "execute_result"
    }
   ],
   "source": [
    "G1 = lie.SO2.element(ca.DM([1]))\n",
    "G1"
   ]
  },
  {
   "cell_type": "code",
   "execution_count": 150,
   "id": "3e8430ca-7911-47b9-9005-54f9f07ef81d",
   "metadata": {
    "tags": []
   },
   "outputs": [
    {
     "data": {
      "text/plain": [
       "LieGroupElement(SO2LieGroup, DM(3))"
      ]
     },
     "execution_count": 150,
     "metadata": {},
     "output_type": "execute_result"
    }
   ],
   "source": [
    "G1*G1*G1"
   ]
  },
  {
   "cell_type": "code",
   "execution_count": 151,
   "id": "ffe850e8-fff6-4df4-8936-d322f4d7c70b",
   "metadata": {
    "tags": []
   },
   "outputs": [],
   "source": [
    "import casadi as ca"
   ]
  },
  {
   "cell_type": "code",
   "execution_count": 154,
   "id": "53f887be-3541-45a5-8c10-682d2f0ff71c",
   "metadata": {
    "tags": []
   },
   "outputs": [
    {
     "data": {
      "text/plain": [
       "LieGroupElement(SO2LieGroup, SX((a+(2*a))))"
      ]
     },
     "execution_count": 154,
     "metadata": {},
     "output_type": "execute_result"
    }
   ],
   "source": [
    "a = ca.SX.sym('a', 1, 1)\n",
    "g1 = lie.so2.element(a)\n",
    "G1 = lie.SO2.element(a)\n",
    "G2 = lie.SO2.element(2*a)\n",
    "\n",
    "G1*G2"
   ]
  },
  {
   "cell_type": "code",
   "execution_count": 155,
   "id": "3631090b-c619-4b0f-b940-be77707b4ca5",
   "metadata": {
    "tags": []
   },
   "outputs": [
    {
     "data": {
      "text/plain": [
       "LieAlgebraElement(SO2LieAlgebra, SX(a))"
      ]
     },
     "execution_count": 155,
     "metadata": {},
     "output_type": "execute_result"
    }
   ],
   "source": [
    "g1"
   ]
  },
  {
   "cell_type": "code",
   "execution_count": 158,
   "id": "ee5ed27c-6b99-4f74-888a-615938e02bb4",
   "metadata": {
    "tags": []
   },
   "outputs": [
    {
     "data": {
      "text/plain": [
       "LieGroupElement(SO2LieGroup, SX(0))"
      ]
     },
     "execution_count": 158,
     "metadata": {},
     "output_type": "execute_result"
    }
   ],
   "source": [
    "lie.SO2.inverse(G1)*G1"
   ]
  },
  {
   "cell_type": "code",
   "execution_count": 159,
   "id": "051f272a-c65e-4866-98cc-c88f474ea01a",
   "metadata": {
    "tags": []
   },
   "outputs": [
    {
     "data": {
      "text/plain": [
       "LieGroupElement(SO2LieGroup, SX(0))"
      ]
     },
     "execution_count": 159,
     "metadata": {},
     "output_type": "execute_result"
    }
   ],
   "source": [
    "G1.inverse()*G1"
   ]
  },
  {
   "cell_type": "code",
   "execution_count": 161,
   "id": "f6f13f1c-6821-43eb-9ee5-e0a582397fe1",
   "metadata": {
    "tags": []
   },
   "outputs": [
    {
     "data": {
      "text/plain": [
       "LieGroupElement(SO2LieGroup, DM(1))"
      ]
     },
     "execution_count": 161,
     "metadata": {},
     "output_type": "execute_result"
    }
   ],
   "source": [
    "lie.SO2.element(ca.DM([1]))"
   ]
  }
 ],
 "metadata": {
  "kernelspec": {
   "display_name": "Python 3 (ipykernel)",
   "language": "python",
   "name": "python3"
  },
  "language_info": {
   "codemirror_mode": {
    "name": "ipython",
    "version": 3
   },
   "file_extension": ".py",
   "mimetype": "text/x-python",
   "name": "python",
   "nbconvert_exporter": "python",
   "pygments_lexer": "ipython3",
   "version": "3.10.6"
  }
 },
 "nbformat": 4,
 "nbformat_minor": 5
}
