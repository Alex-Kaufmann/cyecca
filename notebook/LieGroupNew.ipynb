{
 "cells": [
  {
   "cell_type": "code",
   "execution_count": 1,
   "id": "f7eb1e46-aee7-44dd-87aa-6fb9da6829cf",
   "metadata": {
    "tags": []
   },
   "outputs": [],
   "source": [
    "%load_ext autoreload\n",
    "%autoreload 2\n",
    "\n",
    "from cyecca import lie\n",
    "from sympy import Matrix, symbols, MatrixSymbol, Eq"
   ]
  },
  {
   "cell_type": "code",
   "execution_count": 2,
   "id": "750abcbd",
   "metadata": {
    "tags": []
   },
   "outputs": [
    {
     "data": {
      "text/latex": [
       "$\\displaystyle \\left[\\begin{matrix}1\\end{matrix}\\right]$"
      ],
      "text/plain": [
       "<cyecca.lie._base.LieAlgebraElement at 0x7f967ddba9e0>"
      ]
     },
     "execution_count": 2,
     "metadata": {},
     "output_type": "execute_result"
    }
   ],
   "source": [
    "lie.so2.element(Matrix([1]))"
   ]
  },
  {
   "cell_type": "code",
   "execution_count": 3,
   "id": "279758a8-3964-46c2-a4d4-57d777e6cf21",
   "metadata": {
    "tags": []
   },
   "outputs": [
    {
     "data": {
      "text/latex": [
       "$\\displaystyle \\left[\\begin{matrix}7 x\\end{matrix}\\right]$"
      ],
      "text/plain": [
       "<cyecca.lie._base.LieAlgebraElement at 0x7f967de45e70>"
      ]
     },
     "execution_count": 3,
     "metadata": {},
     "output_type": "execute_result"
    }
   ],
   "source": [
    "x = symbols(\"x\")\n",
    "\n",
    "g1 = lie.so2.element(param=Matrix([x]))\n",
    "g2 = lie.so2.element(param=Matrix([2 * x]))\n",
    "(g1 + 3 * g2)"
   ]
  },
  {
   "cell_type": "code",
   "execution_count": 4,
   "id": "723e4bc0-e299-436e-9234-860adc512b14",
   "metadata": {
    "tags": []
   },
   "outputs": [
    {
     "data": {
      "text/latex": [
       "$\\displaystyle \\left[\\begin{matrix}0\\end{matrix}\\right]$"
      ],
      "text/plain": [
       "Matrix([[0]])"
      ]
     },
     "execution_count": 4,
     "metadata": {},
     "output_type": "execute_result"
    }
   ],
   "source": [
    "g1.ad() @ g1.vee()"
   ]
  },
  {
   "cell_type": "code",
   "execution_count": 5,
   "id": "d0e960e1-89cc-4fc6-924e-a6be48327a2a",
   "metadata": {
    "tags": []
   },
   "outputs": [],
   "source": [
    "G1 = lie.R3.element(param=Matrix([1, 2, 3]))\n",
    "# G1.to_matrix()@G1.to_matrix()"
   ]
  },
  {
   "cell_type": "code",
   "execution_count": 6,
   "id": "e615aadb",
   "metadata": {
    "tags": []
   },
   "outputs": [
    {
     "data": {
      "text/latex": [
       "$\\displaystyle \\left[\\begin{matrix}2\\\\4\\\\6\\end{matrix}\\right]$"
      ],
      "text/plain": [
       "<cyecca.lie._base.LieGroupElement at 0x7f967ddb9480>"
      ]
     },
     "execution_count": 6,
     "metadata": {},
     "output_type": "execute_result"
    }
   ],
   "source": [
    "G1 * G1"
   ]
  },
  {
   "cell_type": "code",
   "execution_count": 7,
   "id": "9cd12111-da13-4df9-96ab-66913293d9ec",
   "metadata": {
    "tags": []
   },
   "outputs": [
    {
     "data": {
      "text/latex": [
       "$\\displaystyle \\left[\\begin{matrix}1 & 0 & 0 & 1\\\\0 & 1 & 0 & 2\\\\0 & 0 & 1 & 3\\\\0 & 0 & 0 & 1\\end{matrix}\\right]$"
      ],
      "text/plain": [
       "Matrix([\n",
       "[1, 0, 0, 1],\n",
       "[0, 1, 0, 2],\n",
       "[0, 0, 1, 3],\n",
       "[0, 0, 0, 1]])"
      ]
     },
     "execution_count": 7,
     "metadata": {},
     "output_type": "execute_result"
    }
   ],
   "source": [
    "G1.Ad() @ G1.to_matrix()"
   ]
  },
  {
   "cell_type": "code",
   "execution_count": 8,
   "id": "c4c68ed1-2663-4e1a-9b32-b15984b0952f",
   "metadata": {
    "tags": []
   },
   "outputs": [
    {
     "data": {
      "text/latex": [
       "$\\displaystyle \\left[\\begin{matrix}2 x\\end{matrix}\\right]$"
      ],
      "text/plain": [
       "<cyecca.lie._base.LieAlgebraElement at 0x7f967de45b40>"
      ]
     },
     "execution_count": 8,
     "metadata": {},
     "output_type": "execute_result"
    }
   ],
   "source": [
    "lie.so2.element(Matrix([2 * x]))"
   ]
  },
  {
   "cell_type": "code",
   "execution_count": 9,
   "id": "25a61017-09a6-48bb-b7ac-7f92267cd86f",
   "metadata": {
    "tags": []
   },
   "outputs": [
    {
     "data": {
      "text/latex": [
       "$\\displaystyle \\left[\\begin{matrix}x\\end{matrix}\\right]$"
      ],
      "text/plain": [
       "<cyecca.lie._base.LieGroupElement at 0x7f967ddb9e40>"
      ]
     },
     "execution_count": 9,
     "metadata": {},
     "output_type": "execute_result"
    }
   ],
   "source": [
    "g1.exp(lie.SO2)"
   ]
  },
  {
   "cell_type": "code",
   "execution_count": 10,
   "id": "da7cb694-a309-4ed6-994c-2664aa575575",
   "metadata": {
    "tags": []
   },
   "outputs": [],
   "source": [
    "G1 = g1.exp(lie.SO2)"
   ]
  },
  {
   "cell_type": "code",
   "execution_count": 11,
   "id": "78dc74ee-152a-49d2-bee1-bc511d7bcdbe",
   "metadata": {
    "tags": []
   },
   "outputs": [
    {
     "data": {
      "text/latex": [
       "$\\displaystyle \\left[\\begin{matrix}1\\\\2\\end{matrix}\\right]$"
      ],
      "text/plain": [
       "<cyecca.lie._base.LieGroupElement at 0x7f967de44310>"
      ]
     },
     "execution_count": 11,
     "metadata": {},
     "output_type": "execute_result"
    }
   ],
   "source": [
    "a = lie.r2.element(Matrix([1, 2]))\n",
    "a.exp(lie.R2)"
   ]
  },
  {
   "cell_type": "code",
   "execution_count": 12,
   "id": "d0a2610e-d71f-4df0-809e-52e802c41963",
   "metadata": {
    "tags": []
   },
   "outputs": [
    {
     "data": {
      "text/latex": [
       "$\\displaystyle \\left[\\begin{matrix}3 x\\end{matrix}\\right]$"
      ],
      "text/plain": [
       "Matrix([[3*x]])"
      ]
     },
     "execution_count": 12,
     "metadata": {},
     "output_type": "execute_result"
    }
   ],
   "source": [
    "(g1 + g2).vee()"
   ]
  },
  {
   "cell_type": "code",
   "execution_count": 13,
   "id": "e303c16e-0826-4b07-a132-c1e71254ea06",
   "metadata": {
    "tags": []
   },
   "outputs": [
    {
     "data": {
      "text/latex": [
       "$\\displaystyle \\left[\\begin{matrix}1\\end{matrix}\\right]$"
      ],
      "text/plain": [
       "<cyecca.lie._base.LieGroupElement at 0x7f965b1bc5b0>"
      ]
     },
     "execution_count": 13,
     "metadata": {},
     "output_type": "execute_result"
    }
   ],
   "source": [
    "G1 = lie.SO2.element(Matrix([1]))\n",
    "G1"
   ]
  },
  {
   "cell_type": "code",
   "execution_count": 19,
   "id": "3ee2dde5",
   "metadata": {
    "tags": []
   },
   "outputs": [
    {
     "data": {
      "text/latex": [
       "$\\displaystyle \\left[\\begin{matrix}\\cos{\\left(\\psi \\right)} \\cos{\\left(\\theta \\right)} & \\sin{\\left(\\phi \\right)} \\sin{\\left(\\theta \\right)} \\cos{\\left(\\psi \\right)} - \\sin{\\left(\\psi \\right)} \\cos{\\left(\\phi \\right)} & \\sin{\\left(\\phi \\right)} \\sin{\\left(\\psi \\right)} + \\sin{\\left(\\theta \\right)} \\cos{\\left(\\phi \\right)} \\cos{\\left(\\psi \\right)}\\\\\\sin{\\left(\\psi \\right)} \\cos{\\left(\\theta \\right)} & \\sin{\\left(\\phi \\right)} \\sin{\\left(\\psi \\right)} \\sin{\\left(\\theta \\right)} + \\cos{\\left(\\phi \\right)} \\cos{\\left(\\psi \\right)} & - \\sin{\\left(\\phi \\right)} \\cos{\\left(\\psi \\right)} + \\sin{\\left(\\psi \\right)} \\sin{\\left(\\theta \\right)} \\cos{\\left(\\phi \\right)}\\\\- \\sin{\\left(\\theta \\right)} & \\sin{\\left(\\phi \\right)} \\cos{\\left(\\theta \\right)} & \\cos{\\left(\\phi \\right)} \\cos{\\left(\\theta \\right)}\\end{matrix}\\right]$"
      ],
      "text/plain": [
       "Matrix([\n",
       "[cos(psi)*cos(theta), sin(phi)*sin(theta)*cos(psi) - sin(psi)*cos(phi),  sin(phi)*sin(psi) + sin(theta)*cos(phi)*cos(psi)],\n",
       "[sin(psi)*cos(theta), sin(phi)*sin(psi)*sin(theta) + cos(phi)*cos(psi), -sin(phi)*cos(psi) + sin(psi)*sin(theta)*cos(phi)],\n",
       "[        -sin(theta),                              sin(phi)*cos(theta),                               cos(phi)*cos(theta)]])"
      ]
     },
     "execution_count": 19,
     "metadata": {},
     "output_type": "execute_result"
    }
   ],
   "source": [
    "phi, theta, psi = symbols(\"phi, theta, psi\", real=True)\n",
    "SO3EulerB321 = lie.SO3Euler(\n",
    "    euler_type=lie.EulerType.body_fixed, sequence=[lie.Axis.z, lie.Axis.y, lie.Axis.x]\n",
    ")\n",
    "G1 = SO3EulerB321.element(Matrix([psi, theta, phi]))\n",
    "G1.to_matrix()"
   ]
  },
  {
   "cell_type": "code",
   "execution_count": 15,
   "id": "44f8b2df",
   "metadata": {
    "tags": []
   },
   "outputs": [
    {
     "data": {
      "text/latex": [
       "$\\displaystyle \\left[\\begin{matrix}0\\\\1\\\\0\\\\0\\end{matrix}\\right]$"
      ],
      "text/plain": [
       "<cyecca.lie._base.LieGroupElement at 0x7f965b799210>"
      ]
     },
     "execution_count": 15,
     "metadata": {},
     "output_type": "execute_result"
    }
   ],
   "source": [
    "q0 = lie.SO3Quat.element(Matrix([1, 0, 0, 0]))\n",
    "q1 = lie.SO3Quat.element(Matrix([0, 1, 0, 0]))\n",
    "\n",
    "q0 * q1"
   ]
  },
  {
   "cell_type": "code",
   "execution_count": 16,
   "id": "0a1574ec",
   "metadata": {
    "tags": []
   },
   "outputs": [
    {
     "data": {
      "text/latex": [
       "$\\displaystyle \\left[\\begin{matrix}1\\\\0\\\\0\\\\0\\end{matrix}\\right]$"
      ],
      "text/plain": [
       "<cyecca.lie._base.LieGroupElement at 0x7fe464c51d80>"
      ]
     },
     "execution_count": 16,
     "metadata": {},
     "output_type": "execute_result"
    }
   ],
   "source": [
    "q1.inverse() * q1"
   ]
  },
  {
   "cell_type": "code",
   "execution_count": 18,
   "id": "4f4f1964",
   "metadata": {
    "tags": []
   },
   "outputs": [],
   "source": [
    "from sympy.utilities.codegen import C99CodeGen\n",
    "\n",
    "gen = C99CodeGen(\n",
    "    project=\"Cerebri\", printer=None, preprocessor_statements=None, cse=True\n",
    ")\n",
    "\n",
    "X = MatrixSymbol(\"X\", 3, 3)\n",
    "f_test = gen.routine(\n",
    "    name=\"G1\", expr=Eq(X, G1.to_matrix()), argument_sequence=[phi, theta, psi, X]\n",
    ")\n",
    "\n",
    "with open(\"test.c\", \"w\") as f:\n",
    "    gen.dump_c(f=f, routines=[f_test], prefix=\"test\", header=True)\n",
    "\n",
    "with open(\"test.h\", \"w\") as f:\n",
    "    gen.dump_h(f=f, routines=[f_test], prefix=\"test\", header=True)"
   ]
  }
 ],
 "metadata": {
  "kernelspec": {
   "display_name": "Python 3 (ipykernel)",
   "language": "python",
   "name": "python3"
  },
  "language_info": {
   "codemirror_mode": {
    "name": "ipython",
    "version": 3
   },
   "file_extension": ".py",
   "mimetype": "text/x-python",
   "name": "python",
   "nbconvert_exporter": "python",
   "pygments_lexer": "ipython3",
   "version": "3.10.6"
  }
 },
 "nbformat": 4,
 "nbformat_minor": 5
}
