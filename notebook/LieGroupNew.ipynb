{
 "cells": [
  {
   "cell_type": "code",
   "execution_count": 1,
   "id": "f7eb1e46-aee7-44dd-87aa-6fb9da6829cf",
   "metadata": {
    "tags": []
   },
   "outputs": [],
   "source": [
    "%load_ext autoreload\n",
    "%autoreload 2\n",
    "\n",
    "from cyecca import lie\n",
    "from sympy import Matrix, symbols"
   ]
  },
  {
   "cell_type": "code",
   "execution_count": 2,
   "id": "750abcbd",
   "metadata": {},
   "outputs": [
    {
     "data": {
      "text/latex": [
       "$\\displaystyle \\left[\\begin{matrix}0 & -1\\\\1 & 0\\end{matrix}\\right]$"
      ],
      "text/plain": [
       "<cyecca.lie._base.LieAlgebraElement at 0x7fd3eea44cd0>"
      ]
     },
     "execution_count": 2,
     "metadata": {},
     "output_type": "execute_result"
    }
   ],
   "source": [
    "lie.so2.element(Matrix([1]))"
   ]
  },
  {
   "cell_type": "code",
   "execution_count": 3,
   "id": "279758a8-3964-46c2-a4d4-57d777e6cf21",
   "metadata": {
    "tags": []
   },
   "outputs": [
    {
     "data": {
      "text/latex": [
       "$\\displaystyle \\left[\\begin{matrix}0 & - 7 x\\\\7 x & 0\\end{matrix}\\right]$"
      ],
      "text/plain": [
       "<cyecca.lie._base.LieAlgebraElement at 0x7fd3dc52b760>"
      ]
     },
     "execution_count": 3,
     "metadata": {},
     "output_type": "execute_result"
    }
   ],
   "source": [
    "x = symbols('x')\n",
    "\n",
    "g1 = lie.so2.element(param=Matrix([x]))\n",
    "g2 = lie.so2.element(param=Matrix([2*x]))\n",
    "(g1 + 3*g2)"
   ]
  },
  {
   "cell_type": "code",
   "execution_count": 4,
   "id": "e0c4b2b6",
   "metadata": {},
   "outputs": [
    {
     "data": {
      "text/latex": [
       "$\\displaystyle \\left[\\begin{matrix}0 & - 3 x\\\\3 x & 0\\end{matrix}\\right]$"
      ],
      "text/plain": [
       "<cyecca.lie._base.LieAlgebraElement at 0x7fd3eea455d0>"
      ]
     },
     "execution_count": 4,
     "metadata": {},
     "output_type": "execute_result"
    }
   ],
   "source": [
    "g1 + g2"
   ]
  },
  {
   "cell_type": "code",
   "execution_count": 5,
   "id": "723e4bc0-e299-436e-9234-860adc512b14",
   "metadata": {
    "tags": []
   },
   "outputs": [
    {
     "data": {
      "text/latex": [
       "$\\displaystyle \\left[\\begin{matrix}0\\end{matrix}\\right]$"
      ],
      "text/plain": [
       "Matrix([[0]])"
      ]
     },
     "execution_count": 5,
     "metadata": {},
     "output_type": "execute_result"
    }
   ],
   "source": [
    "g1.ad()@g1.vee()"
   ]
  },
  {
   "cell_type": "code",
   "execution_count": 6,
   "id": "d0e960e1-89cc-4fc6-924e-a6be48327a2a",
   "metadata": {
    "tags": []
   },
   "outputs": [],
   "source": [
    "G1 = lie.R3.element(param=Matrix([1, 2, 3]))\n",
    "#G1.to_matrix()@G1.to_matrix()"
   ]
  },
  {
   "cell_type": "code",
   "execution_count": 7,
   "id": "e615aadb",
   "metadata": {},
   "outputs": [
    {
     "data": {
      "text/latex": [
       "$\\displaystyle \\left[\\begin{matrix}1 & 0 & 0 & 2\\\\0 & 1 & 0 & 4\\\\0 & 0 & 1 & 6\\\\0 & 0 & 0 & 1\\end{matrix}\\right]$"
      ],
      "text/plain": [
       "<cyecca.lie._base.LieGroupElement at 0x7fd3dc4eb6d0>"
      ]
     },
     "execution_count": 7,
     "metadata": {},
     "output_type": "execute_result"
    }
   ],
   "source": [
    "G1*G1"
   ]
  },
  {
   "cell_type": "code",
   "execution_count": 8,
   "id": "9cd12111-da13-4df9-96ab-66913293d9ec",
   "metadata": {
    "tags": []
   },
   "outputs": [
    {
     "data": {
      "text/latex": [
       "$\\displaystyle \\left[\\begin{matrix}1 & 0 & 0 & 1\\\\0 & 1 & 0 & 2\\\\0 & 0 & 1 & 3\\\\0 & 0 & 0 & 1\\end{matrix}\\right]$"
      ],
      "text/plain": [
       "Matrix([\n",
       "[1, 0, 0, 1],\n",
       "[0, 1, 0, 2],\n",
       "[0, 0, 1, 3],\n",
       "[0, 0, 0, 1]])"
      ]
     },
     "execution_count": 8,
     "metadata": {},
     "output_type": "execute_result"
    }
   ],
   "source": [
    "G1.Ad()@G1.to_matrix()"
   ]
  },
  {
   "cell_type": "code",
   "execution_count": 9,
   "id": "c4c68ed1-2663-4e1a-9b32-b15984b0952f",
   "metadata": {
    "tags": []
   },
   "outputs": [
    {
     "data": {
      "text/latex": [
       "$\\displaystyle \\left[\\begin{matrix}0 & - 2 x\\\\2 x & 0\\end{matrix}\\right]$"
      ],
      "text/plain": [
       "<cyecca.lie._base.LieAlgebraElement at 0x7fd3eea46080>"
      ]
     },
     "execution_count": 9,
     "metadata": {},
     "output_type": "execute_result"
    }
   ],
   "source": [
    "lie.so2.element(Matrix([2*x]))"
   ]
  },
  {
   "cell_type": "code",
   "execution_count": 10,
   "id": "25a61017-09a6-48bb-b7ac-7f92267cd86f",
   "metadata": {},
   "outputs": [
    {
     "data": {
      "text/latex": [
       "$\\displaystyle \\left[\\begin{matrix}\\cos{\\left(x \\right)} & - \\sin{\\left(x \\right)}\\\\\\sin{\\left(x \\right)} & \\cos{\\left(x \\right)}\\end{matrix}\\right]$"
      ],
      "text/plain": [
       "<cyecca.lie._base.LieGroupElement at 0x7fd3dc4ebdc0>"
      ]
     },
     "execution_count": 10,
     "metadata": {},
     "output_type": "execute_result"
    }
   ],
   "source": [
    "g1.exp(lie.SO2)"
   ]
  },
  {
   "cell_type": "code",
   "execution_count": 11,
   "id": "da7cb694-a309-4ed6-994c-2664aa575575",
   "metadata": {
    "tags": []
   },
   "outputs": [],
   "source": [
    "G1 = g1.exp(lie.SO2)"
   ]
  },
  {
   "cell_type": "code",
   "execution_count": 12,
   "id": "78dc74ee-152a-49d2-bee1-bc511d7bcdbe",
   "metadata": {
    "tags": []
   },
   "outputs": [
    {
     "data": {
      "text/latex": [
       "$\\displaystyle \\left[\\begin{matrix}1 & 0 & 1\\\\0 & 1 & 2\\\\0 & 0 & 1\\end{matrix}\\right]$"
      ],
      "text/plain": [
       "<cyecca.lie._base.LieGroupElement at 0x7fd3dc356d40>"
      ]
     },
     "execution_count": 12,
     "metadata": {},
     "output_type": "execute_result"
    }
   ],
   "source": [
    "a = lie.r2.element(Matrix([1, 2]))\n",
    "a.exp(lie.R2)"
   ]
  },
  {
   "cell_type": "code",
   "execution_count": 13,
   "id": "d0a2610e-d71f-4df0-809e-52e802c41963",
   "metadata": {
    "tags": []
   },
   "outputs": [
    {
     "data": {
      "text/latex": [
       "$\\displaystyle \\left[\\begin{matrix}3 x\\end{matrix}\\right]$"
      ],
      "text/plain": [
       "Matrix([[3*x]])"
      ]
     },
     "execution_count": 13,
     "metadata": {},
     "output_type": "execute_result"
    }
   ],
   "source": [
    "(g1 + g2).vee()"
   ]
  },
  {
   "cell_type": "code",
   "execution_count": 14,
   "id": "e303c16e-0826-4b07-a132-c1e71254ea06",
   "metadata": {
    "tags": []
   },
   "outputs": [
    {
     "data": {
      "text/latex": [
       "$\\displaystyle \\left[\\begin{matrix}\\cos{\\left(1 \\right)} & - \\sin{\\left(1 \\right)}\\\\\\sin{\\left(1 \\right)} & \\cos{\\left(1 \\right)}\\end{matrix}\\right]$"
      ],
      "text/plain": [
       "<cyecca.lie._base.LieGroupElement at 0x7fd3dc0b0fa0>"
      ]
     },
     "execution_count": 14,
     "metadata": {},
     "output_type": "execute_result"
    }
   ],
   "source": [
    "G1 = lie.SO2.element(Matrix([1]))\n",
    "G1"
   ]
  },
  {
   "cell_type": "code",
   "execution_count": 15,
   "id": "3ee2dde5",
   "metadata": {},
   "outputs": [
    {
     "data": {
      "text/latex": [
       "$\\displaystyle \\left[\\begin{matrix}- \\cos{\\left(\\psi \\right)} \\cos{\\left(\\theta \\right)} & - \\sin{\\left(\\phi \\right)} \\sin{\\left(\\theta \\right)} \\cos{\\left(\\psi \\right)} - \\sin{\\left(\\psi \\right)} \\cos{\\left(\\phi \\right)} & \\sin{\\left(\\phi \\right)} \\sin{\\left(\\psi \\right)} + \\sin{\\left(\\theta \\right)} \\cos{\\left(\\phi \\right)} \\cos{\\left(\\psi \\right)}\\\\- \\sin{\\left(\\psi \\right)} \\cos{\\left(\\theta \\right)} & - \\sin{\\left(\\phi \\right)} \\sin{\\left(\\psi \\right)} \\sin{\\left(\\theta \\right)} + \\cos{\\left(\\phi \\right)} \\cos{\\left(\\psi \\right)} & - \\sin{\\left(\\phi \\right)} \\cos{\\left(\\psi \\right)} + \\sin{\\left(\\psi \\right)} \\sin{\\left(\\theta \\right)} \\cos{\\left(\\phi \\right)}\\\\\\sin{\\left(\\theta \\right)} & - \\sin{\\left(\\phi \\right)} \\cos{\\left(\\theta \\right)} & \\cos{\\left(\\phi \\right)} \\cos{\\left(\\theta \\right)}\\end{matrix}\\right]$"
      ],
      "text/plain": [
       "<cyecca.lie._base.LieGroupElement at 0x7fd3dc0b3f10>"
      ]
     },
     "execution_count": 15,
     "metadata": {},
     "output_type": "execute_result"
    }
   ],
   "source": [
    "phi, theta, psi = symbols('phi, theta, psi')\n",
    "G1 = lie.SO3EulerB321.element(Matrix([psi, theta, phi]))\n",
    "G1"
   ]
  },
  {
   "cell_type": "code",
   "execution_count": 16,
   "id": "6c602fe3",
   "metadata": {},
   "outputs": [
    {
     "data": {
      "text/latex": [
       "$\\displaystyle \\left[\\begin{matrix}0 & - \\phi & \\theta\\\\\\phi & 0 & - \\psi\\\\- \\theta & \\psi & 0\\end{matrix}\\right]$"
      ],
      "text/plain": [
       "<cyecca.lie._base.LieAlgebraElement at 0x7fd3dc0b39d0>"
      ]
     },
     "execution_count": 16,
     "metadata": {},
     "output_type": "execute_result"
    }
   ],
   "source": [
    "G1.log()"
   ]
  },
  {
   "cell_type": "code",
   "execution_count": 19,
   "id": "44f8b2df",
   "metadata": {},
   "outputs": [
    {
     "data": {
      "text/latex": [
       "$\\displaystyle \\left[\\begin{matrix}- \\cos{\\left(\\psi \\right)} \\cos{\\left(\\theta \\right)} & - \\sin{\\left(\\phi \\right)} \\sin{\\left(\\theta \\right)} \\cos{\\left(\\psi \\right)} - \\sin{\\left(\\psi \\right)} \\cos{\\left(\\phi \\right)} & \\sin{\\left(\\phi \\right)} \\sin{\\left(\\psi \\right)} + \\sin{\\left(\\theta \\right)} \\cos{\\left(\\phi \\right)} \\cos{\\left(\\psi \\right)}\\\\- \\sin{\\left(\\psi \\right)} \\cos{\\left(\\theta \\right)} & - \\sin{\\left(\\phi \\right)} \\sin{\\left(\\psi \\right)} \\sin{\\left(\\theta \\right)} + \\cos{\\left(\\phi \\right)} \\cos{\\left(\\psi \\right)} & - \\sin{\\left(\\phi \\right)} \\cos{\\left(\\psi \\right)} + \\sin{\\left(\\psi \\right)} \\sin{\\left(\\theta \\right)} \\cos{\\left(\\phi \\right)}\\\\\\sin{\\left(\\theta \\right)} & - \\sin{\\left(\\phi \\right)} \\cos{\\left(\\theta \\right)} & \\cos{\\left(\\phi \\right)} \\cos{\\left(\\theta \\right)}\\end{matrix}\\right]$"
      ],
      "text/plain": [
       "<cyecca.lie._base.LieGroupElement at 0x7fd3dc0b3f10>"
      ]
     },
     "execution_count": 19,
     "metadata": {},
     "output_type": "execute_result"
    }
   ],
   "source": [
    "G1"
   ]
  },
  {
   "cell_type": "code",
   "execution_count": null,
   "id": "552bdfec",
   "metadata": {},
   "outputs": [],
   "source": []
  }
 ],
 "metadata": {
  "kernelspec": {
   "display_name": "Python 3 (ipykernel)",
   "language": "python",
   "name": "python3"
  },
  "language_info": {
   "codemirror_mode": {
    "name": "ipython",
    "version": 3
   },
   "file_extension": ".py",
   "mimetype": "text/x-python",
   "name": "python",
   "nbconvert_exporter": "python",
   "pygments_lexer": "ipython3",
   "version": "3.10.6"
  }
 },
 "nbformat": 4,
 "nbformat_minor": 5
}
