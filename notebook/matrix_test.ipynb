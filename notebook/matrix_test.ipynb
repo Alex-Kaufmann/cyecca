{
 "cells": [
  {
   "cell_type": "code",
   "execution_count": 18,
   "id": "576acaa9-9166-40c1-95e9-55660026984e",
   "metadata": {
    "tags": []
   },
   "outputs": [],
   "source": [
    "import abc\n",
    "from beartype import beartype\n",
    "from beartype.typing import List, Tuple\n",
    "from __future__ import annotations\n",
    "\n",
    "\n",
    "@beartype\n",
    "class Scalar(abc.ABC):\n",
    "    def __init__(self):\n",
    "        pass\n",
    "\n",
    "    def __add__(self, other: Scalar):\n",
    "        return Sum(self, other)\n",
    "\n",
    "    @abc.abstractmethod\n",
    "    def _repr_latex_(self):\n",
    "        pass\n",
    "\n",
    "\n",
    "@beartype\n",
    "class ScalarSymbol(Scalar):\n",
    "    def __init__(self, name: str):\n",
    "        self.name = name\n",
    "\n",
    "    def _repr_latex_(self):\n",
    "        return f\"{self.name:s}\"\n",
    "\n",
    "\n",
    "@beartype\n",
    "class ScalarConstant(Scalar):\n",
    "    def __init__(self, value: float):\n",
    "        self.value = value\n",
    "\n",
    "    def _repr_latex_(self):\n",
    "        return f\"{self.value:g}\"\n",
    "\n",
    "\n",
    "@beartype\n",
    "class Neg(abc.ABC):\n",
    "    def __init__(self, right: Scalar):\n",
    "        pass\n",
    "\n",
    "\n",
    "@beartype\n",
    "class Sum(abc.ABC):\n",
    "    def __init__(self, left: Scalar, right: Scalar):\n",
    "        self.left = left\n",
    "        self.right = right\n",
    "\n",
    "    def _repr_latex_(self):\n",
    "        return f\"{self.left._repr_latex_():s} + {self.right._repr_latex_():s}\"\n",
    "\n",
    "\n",
    "@beartype\n",
    "class Matrix2D(abc.ABC):\n",
    "    def __init__(self, n_rows: int, n_cols: int):\n",
    "        self.n_rows = n_rows\n",
    "        self.n_cols = n_cols\n",
    "\n",
    "    @abc.abstractmethod\n",
    "    def __getitem__(self, index) -> Scalar:\n",
    "        pass\n",
    "\n",
    "    @abc.abstractmethod\n",
    "    def __setitem__(self, index, value) -> None:\n",
    "        pass\n",
    "\n",
    "    @abc.abstractmethod\n",
    "    def inv(self, index, value) -> Matrix2D:\n",
    "        pass\n",
    "\n",
    "    def _repr_latex_(self) -> str:\n",
    "        s = \"\\\\begin{bmatrix}\"\n",
    "        for i in range(self.n_rows):\n",
    "            # s += \"\\n\"\n",
    "            for j in range(self.n_cols):\n",
    "                v = self.__getitem__((i, j))\n",
    "                s += v._repr_latex_()\n",
    "                if j < self.n_cols - 1:\n",
    "                    s += \"&\"\n",
    "                else:\n",
    "                    s += \"\\\\\\\\\"\n",
    "        s += \"\\\\end{bmatrix}\"\n",
    "        return s\n",
    "\n",
    "\n",
    "import numpy as np\n",
    "\n",
    "\n",
    "@beartype\n",
    "class Matrix2DNumpy(Matrix2D):\n",
    "    def __init__(self, n_rows: int, n_cols: int, data=None):\n",
    "        super().__init__(n_rows, n_cols)\n",
    "        if data is None:\n",
    "            self._data = np.zeros((n_rows, n_cols))\n",
    "        else:\n",
    "            self._data = data\n",
    "\n",
    "    def __getitem__(self, index) -> Scalar:\n",
    "        v = self._data.__getitem__((index[0], index[1]))\n",
    "        return ScalarConstant(v)\n",
    "\n",
    "    def __setitem__(self, index, value) -> None:\n",
    "        self._data.__setitem__((index[0], index[1]), value)\n",
    "\n",
    "    def inv(self) -> Matrix2D:\n",
    "        assert self.n_rows == self.n_cols\n",
    "        return Matrix2DNumpy(self.n_rows, self.n_cols, np.linalg.inv(self._data))\n",
    "\n",
    "\n",
    "import casadi as ca\n",
    "\n",
    "\n",
    "@beartype\n",
    "class Matrix2DCasadiSX(Matrix2D):\n",
    "    def __init__(self, n_rows: int, n_cols: int, data=None):\n",
    "        super().__init__(n_rows, n_cols)\n",
    "        if data is None:\n",
    "            self._data = ca.SX.zeros((n_rows, n_cols))\n",
    "        else:\n",
    "            self._data = data\n",
    "\n",
    "    def __getitem__(self, index: Tuple[int, int]) -> Scalar:\n",
    "        v = self._data.__getitem__((index[0], index[1]))\n",
    "        if v.op() == 44:\n",
    "            return ScalarConstant(float(v))\n",
    "        elif v.op() == 47:\n",
    "            return ScalarSymbol(v.name())\n",
    "        elif v.op() == 5:\n",
    "            # TODO\n",
    "            return ScalarConstant(0.0)\n",
    "        else:\n",
    "            raise NotImplementedError(\"unhandled casadi op code\")\n",
    "\n",
    "    def __setitem__(self, index, value) -> None:\n",
    "        self._data.__setitem__((index[0], index[1]), value)\n",
    "\n",
    "    def inv(self):\n",
    "        assert self.n_rows == self.n_cols\n",
    "        return Matrix2DCasadiSX(self.n_rows, self.n_cols, ca.inv(self._data))\n",
    "\n",
    "\n",
    "@beartype\n",
    "class Neg(abc.ABC):\n",
    "    def __init__(self, right: Scalar):\n",
    "        return Scalar\n",
    "\n",
    "\n",
    "import sympy\n",
    "\n",
    "\n",
    "@beartype\n",
    "class Matrix2DSympy(Matrix2D):\n",
    "    def __init__(self, n_rows: int, n_cols: int, data=None):\n",
    "        super().__init__(n_rows, n_cols)\n",
    "        if data is None:\n",
    "            self._data = sympy.zeros(n_rows, n_cols)\n",
    "        else:\n",
    "            self._data = data\n",
    "\n",
    "    def __getitem__(self, index) -> Scalar:\n",
    "        v = self._data.__getitem__((index[0], index[1]))\n",
    "        if isinstance(v, sympy.Symbol):\n",
    "            return ScalarSymbol(v.name)\n",
    "        elif isinstance(v, sympy.core.numbers.Zero):\n",
    "            return ScalarConstant(0.0)\n",
    "        else:\n",
    "            raise NotImplementedError(\"unhandled type: {:s}\".format(str(type(v))))\n",
    "\n",
    "    def __setitem__(self, index, value) -> None:\n",
    "        self._data.__setitem__((index[0], index[1]), value)\n",
    "\n",
    "    def inv(self) -> Matrix2D:\n",
    "        assert self.n_rows == self.n_cols\n",
    "        return Matrix2DSympy(self.n_rows, self.n_cols, sympy.Matrix.inv(self._data))"
   ]
  },
  {
   "cell_type": "code",
   "execution_count": 19,
   "id": "349f4eda-be95-4096-8cd5-806ef2db56ef",
   "metadata": {
    "tags": []
   },
   "outputs": [
    {
     "data": {
      "text/latex": [
       "\\begin{bmatrix}2&0&0\\\\0&2&0\\\\0&0&2\\\\\\end{bmatrix}"
      ],
      "text/plain": [
       "<__main__.Matrix2DNumpy at 0x7fd9b16cec50>"
      ]
     },
     "execution_count": 19,
     "metadata": {},
     "output_type": "execute_result"
    }
   ],
   "source": [
    "A = Matrix2DNumpy(3, 3)\n",
    "A[0, 0] = 0.5\n",
    "A[1, 1] = 0.5\n",
    "A[2, 2] = 0.5\n",
    "A.inv()"
   ]
  },
  {
   "cell_type": "code",
   "execution_count": 26,
   "id": "43af0f07-7f12-4c44-9148-44eacf1dd530",
   "metadata": {
    "tags": []
   },
   "outputs": [
    {
     "data": {
      "text/latex": [
       "\\begin{bmatrix}0.5&0&y\\\\0&0.5&0\\\\0&0&0.5\\\\\\end{bmatrix}"
      ],
      "text/plain": [
       "<__main__.Matrix2DCasadiSX at 0x7fd9b16ce8f0>"
      ]
     },
     "execution_count": 26,
     "metadata": {},
     "output_type": "execute_result"
    }
   ],
   "source": [
    "A = Matrix2DCasadiSX(3, 3)\n",
    "A[0, 0] = 0.5\n",
    "A[1, 1] = 0.5\n",
    "A[2, 2] = 0.5\n",
    "A[0, 2] = ca.SX.sym(\"y\")\n",
    "A"
   ]
  },
  {
   "cell_type": "code",
   "execution_count": 28,
   "id": "f55ce728-725a-4fa5-8c87-a9318c1d081d",
   "metadata": {
    "tags": []
   },
   "outputs": [
    {
     "data": {
      "text/plain": [
       "SX(@1=2, \n",
       "[[@1, 00, (-((@1*y)/0.5))], \n",
       " [00, @1, 00], \n",
       " [00, 00, @1]])"
      ]
     },
     "execution_count": 28,
     "metadata": {},
     "output_type": "execute_result"
    }
   ],
   "source": [
    "ca.inv(A._data)"
   ]
  },
  {
   "cell_type": "code",
   "execution_count": 21,
   "id": "ebb5f370-95e4-4e45-8988-486bcd6cb332",
   "metadata": {
    "tags": []
   },
   "outputs": [
    {
     "data": {
      "text/latex": [
       "\\begin{bmatrix}2&0&0\\\\0&2&0\\\\0&0&2\\\\\\end{bmatrix}"
      ],
      "text/plain": [
       "<__main__.Matrix2DCasadiSX at 0x7fd9b16cc700>"
      ]
     },
     "execution_count": 21,
     "metadata": {},
     "output_type": "execute_result"
    }
   ],
   "source": [
    "A.inv()"
   ]
  },
  {
   "cell_type": "code",
   "execution_count": 22,
   "id": "a36719d5-7188-42f4-9278-050448840722",
   "metadata": {
    "tags": []
   },
   "outputs": [
    {
     "data": {
      "text/plain": [
       "<__main__.Matrix2DSympy at 0x7fd9b16cf070>"
      ]
     },
     "execution_count": 22,
     "metadata": {},
     "output_type": "execute_result"
    }
   ],
   "source": [
    "A = Matrix2DSympy(3, 3)\n",
    "A[0, 0] = 0.5\n",
    "A[1, 1] = 0.5\n",
    "A[2, 2] = 0.5\n",
    "A[0, 2] = sympy.symbols(\"y\")\n",
    "A"
   ]
  },
  {
   "cell_type": "code",
   "execution_count": 23,
   "id": "e6b97cfe-e5dd-4d8a-87f1-99e662b3754e",
   "metadata": {
    "tags": []
   },
   "outputs": [
    {
     "data": {
      "text/plain": [
       "<__main__.Matrix2DSympy at 0x7fd9b16cef20>"
      ]
     },
     "execution_count": 23,
     "metadata": {},
     "output_type": "execute_result"
    }
   ],
   "source": [
    "A.inv()"
   ]
  },
  {
   "cell_type": "code",
   "execution_count": 24,
   "id": "2acc0867-25b4-460c-9f32-2964039b80cb",
   "metadata": {
    "tags": []
   },
   "outputs": [
    {
     "data": {
      "text/latex": [
       "x + 1"
      ],
      "text/plain": [
       "<__main__.Sum at 0x7fd9b16cf8b0>"
      ]
     },
     "execution_count": 24,
     "metadata": {},
     "output_type": "execute_result"
    }
   ],
   "source": [
    "s = ScalarSymbol(\"x\") + ScalarConstant(1.0)\n",
    "s"
   ]
  },
  {
   "cell_type": "code",
   "execution_count": 25,
   "id": "2bcdd7e9-e9e1-4aec-b18e-8fbc986896ba",
   "metadata": {
    "tags": []
   },
   "outputs": [
    {
     "data": {
      "text/latex": [
       "x + 1"
      ],
      "text/plain": [
       "<__main__.Sum at 0x7fd9b16cf8b0>"
      ]
     },
     "execution_count": 25,
     "metadata": {},
     "output_type": "execute_result"
    }
   ],
   "source": [
    "s"
   ]
  }
 ],
 "metadata": {
  "kernelspec": {
   "display_name": "Python 3 (ipykernel)",
   "language": "python",
   "name": "python3"
  },
  "language_info": {
   "codemirror_mode": {
    "name": "ipython",
    "version": 3
   },
   "file_extension": ".py",
   "mimetype": "text/x-python",
   "name": "python",
   "nbconvert_exporter": "python",
   "pygments_lexer": "ipython3",
   "version": "3.10.6"
  }
 },
 "nbformat": 4,
 "nbformat_minor": 5
}
