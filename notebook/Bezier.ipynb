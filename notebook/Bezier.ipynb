{
 "cells": [
  {
   "cell_type": "code",
   "execution_count": 194,
   "id": "be3fb4f8-267e-4d5e-890a-024b7c778425",
   "metadata": {
    "tags": []
   },
   "outputs": [],
   "source": [
    "import sympy\n",
    "from beartype.typing import List\n",
    "from beartype import beartype\n",
    "from numbers import Real\n",
    "\n",
    "\n",
    "@beartype\n",
    "class BezierCurve:\n",
    "    \"\"\"\n",
    "    (see)[https://en.wikipedia.org/wiki/B%C3%A9zier_curve]\n",
    "    \"\"\"\n",
    "\n",
    "    def __init__(self, control_points : (sympy.Matrix, sympy.MatrixSymbol), t_start: Real, t_stop: Real):\n",
    "        \"\"\"\n",
    "        @param control_points: sympy matrix with horiz stacked control points (vertical vectors)\n",
    "        @param t_start : start time in seconds\n",
    "        @param t_stop : stop time in seconds\n",
    "        \"\"\"\n",
    "        self.control_points = control_points\n",
    "        self.m = self.control_points.shape[0]\n",
    "        self.n = self.control_points.shape[1]-1\n",
    "        self.t_start = t_start\n",
    "        self.t_stop = t_stop\n",
    "    \n",
    "    def eval(self, t : (Real, sympy.Symbol)):\n",
    "        \"\"\"\n",
    "        (see)[https://en.wikipedia.org/wiki/De_Casteljau%27s_algorithm]\n",
    "        @param t : time in seconds\n",
    "        \"\"\"\n",
    "        beta = (t - self.t_start)/(self.t_stop - self.t_start)\n",
    "        A = sympy.Matrix(self.control_points)\n",
    "        for j in range(1, self.n + 1):\n",
    "            for k in range(self.n + 1 - j):\n",
    "                A[:, k] = A[:, k] * (1 - beta) + A[:, k + 1] * beta\n",
    "        return A[:, 0]\n",
    "    \n",
    "    def deriv(self, order : int = 1):\n",
    "        \"\"\"\n",
    "        @param order: order of derivative\n",
    "        \"\"\"\n",
    "        D = sympy.Matrix(self.control_points)\n",
    "        for j in range(0, order):\n",
    "            D = (self.n - j)*sympy.Matrix.hstack(*[ D[:, i+1] - D[:, i] for i in range(self.n - j) ])\n",
    "        T = self.t_stop - self.t_start\n",
    "        return BezierCurve(control_points=D/T**order, t_start=self.t_start, t_stop=self.t_stop)\n",
    "\n",
    "    def _repr_latex_(self):\n",
    "        return self.control_points._repr_latex_()\n"
   ]
  },
  {
   "cell_type": "code",
   "execution_count": 232,
   "id": "8f7ae19c-7ead-407d-a6f8-d75f99bcf269",
   "metadata": {
    "tags": []
   },
   "outputs": [],
   "source": [
    "t = sympy.symbols('t')\n",
    "P = sympy.Matrix([[0, 1, 3],\n",
    "                  [0, 2, 4],\n",
    "                  [3, 2, 1]\n",
    "                 ])\n",
    "P = sympy.MatrixSymbol('P', 3, 5)\n",
    "B = BezierCurve(control_points=P, t_start=0, t_stop=1)\n",
    "\n",
    "B_d = B.deriv()\n",
    "B_d2 = B_d.deriv()\n",
    "B_d3 = B_d2.deriv()\n",
    "B_d4 = B_d3.deriv()"
   ]
  },
  {
   "cell_type": "code",
   "execution_count": 234,
   "id": "9710607f-20da-4df1-966b-08cdb235f960",
   "metadata": {
    "tags": []
   },
   "outputs": [
    {
     "ename": "NameError",
     "evalue": "name 'wp_0' is not defined",
     "output_type": "error",
     "traceback": [
      "\u001b[0;31m---------------------------------------------------------------------------\u001b[0m",
      "\u001b[0;31mNameError\u001b[0m                                 Traceback (most recent call last)",
      "Cell \u001b[0;32mIn[234], line 2\u001b[0m\n\u001b[1;32m      1\u001b[0m constraints \u001b[38;5;241m=\u001b[39m []\n\u001b[0;32m----> 2\u001b[0m constraints \u001b[38;5;241m+\u001b[39m\u001b[38;5;241m=\u001b[39m [(B\u001b[38;5;241m.\u001b[39meval(\u001b[38;5;241m0\u001b[39m), \u001b[43mwp_0\u001b[49m[\u001b[38;5;241m0\u001b[39m])]\n",
      "\u001b[0;31mNameError\u001b[0m: name 'wp_0' is not defined"
     ]
    }
   ],
   "source": [
    "constraints = []\n",
    "constraints += [(B.eval(0), wp_0[0])]"
   ]
  },
  {
   "cell_type": "code",
   "execution_count": 231,
   "id": "e00fc843-4322-4d61-b93f-0e1d4210d482",
   "metadata": {
    "tags": []
   },
   "outputs": [
    {
     "data": {
      "text/latex": [
       "$\\displaystyle \\left[\\begin{matrix}- 4 P_{0, 0} + 4 P_{0, 1} & - 4 P_{0, 1} + 4 P_{0, 2} & - 4 P_{0, 2} + 4 P_{0, 3} & - 4 P_{0, 3} + 4 P_{0, 4}\\\\- 4 P_{1, 0} + 4 P_{1, 1} & - 4 P_{1, 1} + 4 P_{1, 2} & - 4 P_{1, 2} + 4 P_{1, 3} & - 4 P_{1, 3} + 4 P_{1, 4}\\\\- 4 P_{2, 0} + 4 P_{2, 1} & - 4 P_{2, 1} + 4 P_{2, 2} & - 4 P_{2, 2} + 4 P_{2, 3} & - 4 P_{2, 3} + 4 P_{2, 4}\\end{matrix}\\right]$"
      ],
      "text/plain": [
       "<__main__.BezierCurve at 0x7fa63ab8a3b0>"
      ]
     },
     "execution_count": 231,
     "metadata": {},
     "output_type": "execute_result"
    }
   ],
   "source": [
    "B_d"
   ]
  },
  {
   "cell_type": "code",
   "execution_count": 228,
   "id": "ae94a53f-e6ef-4681-aa5a-9bcdd5e63faa",
   "metadata": {
    "tags": []
   },
   "outputs": [
    {
     "data": {
      "text/latex": [
       "$\\displaystyle \\left[\\begin{matrix}t^{4} \\left(P_{0, 0} - 4 P_{0, 1} + 6 P_{0, 2} - 4 P_{0, 3} + P_{0, 4}\\right) + t^{3} \\left(- 4 P_{0, 0} + 12 P_{0, 1} - 12 P_{0, 2} + 4 P_{0, 3}\\right) + t^{2} \\cdot \\left(6 P_{0, 0} - 12 P_{0, 1} + 6 P_{0, 2}\\right) + t \\left(- 4 P_{0, 0} + 4 P_{0, 1}\\right) + P_{0, 0}\\\\t^{4} \\left(P_{1, 0} - 4 P_{1, 1} + 6 P_{1, 2} - 4 P_{1, 3} + P_{1, 4}\\right) + t^{3} \\left(- 4 P_{1, 0} + 12 P_{1, 1} - 12 P_{1, 2} + 4 P_{1, 3}\\right) + t^{2} \\cdot \\left(6 P_{1, 0} - 12 P_{1, 1} + 6 P_{1, 2}\\right) + t \\left(- 4 P_{1, 0} + 4 P_{1, 1}\\right) + P_{1, 0}\\\\t^{4} \\left(P_{2, 0} - 4 P_{2, 1} + 6 P_{2, 2} - 4 P_{2, 3} + P_{2, 4}\\right) + t^{3} \\left(- 4 P_{2, 0} + 12 P_{2, 1} - 12 P_{2, 2} + 4 P_{2, 3}\\right) + t^{2} \\cdot \\left(6 P_{2, 0} - 12 P_{2, 1} + 6 P_{2, 2}\\right) + t \\left(- 4 P_{2, 0} + 4 P_{2, 1}\\right) + P_{2, 0}\\end{matrix}\\right]$"
      ],
      "text/plain": [
       "Matrix([\n",
       "[t**4*(P[0, 0] - 4*P[0, 1] + 6*P[0, 2] - 4*P[0, 3] + P[0, 4]) + t**3*(-4*P[0, 0] + 12*P[0, 1] - 12*P[0, 2] + 4*P[0, 3]) + t**2*(6*P[0, 0] - 12*P[0, 1] + 6*P[0, 2]) + t*(-4*P[0, 0] + 4*P[0, 1]) + P[0, 0]],\n",
       "[t**4*(P[1, 0] - 4*P[1, 1] + 6*P[1, 2] - 4*P[1, 3] + P[1, 4]) + t**3*(-4*P[1, 0] + 12*P[1, 1] - 12*P[1, 2] + 4*P[1, 3]) + t**2*(6*P[1, 0] - 12*P[1, 1] + 6*P[1, 2]) + t*(-4*P[1, 0] + 4*P[1, 1]) + P[1, 0]],\n",
       "[t**4*(P[2, 0] - 4*P[2, 1] + 6*P[2, 2] - 4*P[2, 3] + P[2, 4]) + t**3*(-4*P[2, 0] + 12*P[2, 1] - 12*P[2, 2] + 4*P[2, 3]) + t**2*(6*P[2, 0] - 12*P[2, 1] + 6*P[2, 2]) + t*(-4*P[2, 0] + 4*P[2, 1]) + P[2, 0]]])"
      ]
     },
     "execution_count": 228,
     "metadata": {},
     "output_type": "execute_result"
    }
   ],
   "source": [
    "p = B.eval(t).applyfunc(lambda x: x.simplify().collect(t))\n",
    "p"
   ]
  },
  {
   "cell_type": "code",
   "execution_count": 229,
   "id": "8b23ab61-a1a2-4001-8f2a-a2a9f37f498b",
   "metadata": {
    "tags": []
   },
   "outputs": [
    {
     "data": {
      "text/latex": [
       "$\\displaystyle \\left[\\begin{matrix}t^{3} \\cdot \\left(4 P_{0, 0} - 16 P_{0, 1} + 24 P_{0, 2} - 16 P_{0, 3} + 4 P_{0, 4}\\right) + t^{2} \\left(- 12 P_{0, 0} + 36 P_{0, 1} - 36 P_{0, 2} + 12 P_{0, 3}\\right) + t \\left(12 P_{0, 0} - 24 P_{0, 1} + 12 P_{0, 2}\\right) - 4 P_{0, 0} + 4 P_{0, 1}\\\\t^{3} \\cdot \\left(4 P_{1, 0} - 16 P_{1, 1} + 24 P_{1, 2} - 16 P_{1, 3} + 4 P_{1, 4}\\right) + t^{2} \\left(- 12 P_{1, 0} + 36 P_{1, 1} - 36 P_{1, 2} + 12 P_{1, 3}\\right) + t \\left(12 P_{1, 0} - 24 P_{1, 1} + 12 P_{1, 2}\\right) - 4 P_{1, 0} + 4 P_{1, 1}\\\\t^{3} \\cdot \\left(4 P_{2, 0} - 16 P_{2, 1} + 24 P_{2, 2} - 16 P_{2, 3} + 4 P_{2, 4}\\right) + t^{2} \\left(- 12 P_{2, 0} + 36 P_{2, 1} - 36 P_{2, 2} + 12 P_{2, 3}\\right) + t \\left(12 P_{2, 0} - 24 P_{2, 1} + 12 P_{2, 2}\\right) - 4 P_{2, 0} + 4 P_{2, 1}\\end{matrix}\\right]$"
      ],
      "text/plain": [
       "Matrix([\n",
       "[t**3*(4*P[0, 0] - 16*P[0, 1] + 24*P[0, 2] - 16*P[0, 3] + 4*P[0, 4]) + t**2*(-12*P[0, 0] + 36*P[0, 1] - 36*P[0, 2] + 12*P[0, 3]) + t*(12*P[0, 0] - 24*P[0, 1] + 12*P[0, 2]) - 4*P[0, 0] + 4*P[0, 1]],\n",
       "[t**3*(4*P[1, 0] - 16*P[1, 1] + 24*P[1, 2] - 16*P[1, 3] + 4*P[1, 4]) + t**2*(-12*P[1, 0] + 36*P[1, 1] - 36*P[1, 2] + 12*P[1, 3]) + t*(12*P[1, 0] - 24*P[1, 1] + 12*P[1, 2]) - 4*P[1, 0] + 4*P[1, 1]],\n",
       "[t**3*(4*P[2, 0] - 16*P[2, 1] + 24*P[2, 2] - 16*P[2, 3] + 4*P[2, 4]) + t**2*(-12*P[2, 0] + 36*P[2, 1] - 36*P[2, 2] + 12*P[2, 3]) + t*(12*P[2, 0] - 24*P[2, 1] + 12*P[2, 2]) - 4*P[2, 0] + 4*P[2, 1]]])"
      ]
     },
     "execution_count": 229,
     "metadata": {},
     "output_type": "execute_result"
    }
   ],
   "source": [
    "v = p.diff(t).applyfunc(lambda x: x.simplify().collect(t))\n",
    "v"
   ]
  },
  {
   "cell_type": "code",
   "execution_count": 230,
   "id": "c9cc41a5-8446-48a6-9db5-595ebfd5379e",
   "metadata": {
    "tags": []
   },
   "outputs": [
    {
     "data": {
      "text/latex": [
       "$\\displaystyle \\left[\\begin{matrix}t^{2} \\cdot \\left(12 P_{0, 0} - 48 P_{0, 1} + 72 P_{0, 2} - 48 P_{0, 3} + 12 P_{0, 4}\\right) + t \\left(- 24 P_{0, 0} + 72 P_{0, 1} - 72 P_{0, 2} + 24 P_{0, 3}\\right) + 12 P_{0, 0} - 24 P_{0, 1} + 12 P_{0, 2}\\\\t^{2} \\cdot \\left(12 P_{1, 0} - 48 P_{1, 1} + 72 P_{1, 2} - 48 P_{1, 3} + 12 P_{1, 4}\\right) + t \\left(- 24 P_{1, 0} + 72 P_{1, 1} - 72 P_{1, 2} + 24 P_{1, 3}\\right) + 12 P_{1, 0} - 24 P_{1, 1} + 12 P_{1, 2}\\\\t^{2} \\cdot \\left(12 P_{2, 0} - 48 P_{2, 1} + 72 P_{2, 2} - 48 P_{2, 3} + 12 P_{2, 4}\\right) + t \\left(- 24 P_{2, 0} + 72 P_{2, 1} - 72 P_{2, 2} + 24 P_{2, 3}\\right) + 12 P_{2, 0} - 24 P_{2, 1} + 12 P_{2, 2}\\end{matrix}\\right]$"
      ],
      "text/plain": [
       "Matrix([\n",
       "[t**2*(12*P[0, 0] - 48*P[0, 1] + 72*P[0, 2] - 48*P[0, 3] + 12*P[0, 4]) + t*(-24*P[0, 0] + 72*P[0, 1] - 72*P[0, 2] + 24*P[0, 3]) + 12*P[0, 0] - 24*P[0, 1] + 12*P[0, 2]],\n",
       "[t**2*(12*P[1, 0] - 48*P[1, 1] + 72*P[1, 2] - 48*P[1, 3] + 12*P[1, 4]) + t*(-24*P[1, 0] + 72*P[1, 1] - 72*P[1, 2] + 24*P[1, 3]) + 12*P[1, 0] - 24*P[1, 1] + 12*P[1, 2]],\n",
       "[t**2*(12*P[2, 0] - 48*P[2, 1] + 72*P[2, 2] - 48*P[2, 3] + 12*P[2, 4]) + t*(-24*P[2, 0] + 72*P[2, 1] - 72*P[2, 2] + 24*P[2, 3]) + 12*P[2, 0] - 24*P[2, 1] + 12*P[2, 2]]])"
      ]
     },
     "execution_count": 230,
     "metadata": {},
     "output_type": "execute_result"
    }
   ],
   "source": [
    "a = v.diff(t).applyfunc(lambda x: x.simplify().collect(t))\n",
    "a"
   ]
  },
  {
   "cell_type": "code",
   "execution_count": 189,
   "id": "460c7059-84a1-4ea5-a563-7e97fdf63e38",
   "metadata": {
    "tags": []
   },
   "outputs": [
    {
     "data": {
      "text/latex": [
       "$\\displaystyle \\left[\\begin{matrix}2 t + 2\\\\4\\\\-2\\end{matrix}\\right]$"
      ],
      "text/plain": [
       "Matrix([\n",
       "[2*t + 2],\n",
       "[      4],\n",
       "[     -2]])"
      ]
     },
     "execution_count": 189,
     "metadata": {},
     "output_type": "execute_result"
    }
   ],
   "source": [
    "bc.deriv(order=1).eval(t)"
   ]
  },
  {
   "cell_type": "code",
   "execution_count": null,
   "id": "ddc40855-2f6d-4b27-95f7-6552eb8559b1",
   "metadata": {},
   "outputs": [],
   "source": []
  }
 ],
 "metadata": {
  "kernelspec": {
   "display_name": "Python 3 (ipykernel)",
   "language": "python",
   "name": "python3"
  },
  "language_info": {
   "codemirror_mode": {
    "name": "ipython",
    "version": 3
   },
   "file_extension": ".py",
   "mimetype": "text/x-python",
   "name": "python",
   "nbconvert_exporter": "python",
   "pygments_lexer": "ipython3",
   "version": "3.10.6"
  }
 },
 "nbformat": 4,
 "nbformat_minor": 5
}
