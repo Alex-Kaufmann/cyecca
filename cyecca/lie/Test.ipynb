{
 "cells": [
  {
   "cell_type": "code",
   "execution_count": 67,
   "id": "51a4922e-fa13-4884-abed-03d10c177f8c",
   "metadata": {
    "tags": []
   },
   "outputs": [
    {
     "name": "stdout",
     "output_type": "stream",
     "text": [
      "The autoreload extension is already loaded. To reload it, use:\n",
      "  %reload_ext autoreload\n"
     ]
    }
   ],
   "source": [
    "%load_ext autoreload\n",
    "%autoreload 2\n",
    "from cyecca import lie\n",
    "import casadi as ca\n",
    "import numpy as np\n",
    "import scipy.linalg"
   ]
  },
  {
   "cell_type": "code",
   "execution_count": 68,
   "id": "a160d068-baff-4ca2-a932-120a468481b7",
   "metadata": {
    "tags": []
   },
   "outputs": [],
   "source": [
    "np.set_printoptions(precision=3, linewidth=100)"
   ]
  },
  {
   "cell_type": "code",
   "execution_count": 73,
   "id": "61a94362-3d6f-4015-9398-5756b10c5138",
   "metadata": {
    "tags": []
   },
   "outputs": [],
   "source": [
    "x = lie.se23.elem(ca.vertcat(1, 2, 3, 4, 5, 6, 7, 8, 9))"
   ]
  },
  {
   "cell_type": "markdown",
   "id": "58d2fa61-547b-4a1f-919f-8119429c4d52",
   "metadata": {
    "tags": []
   },
   "source": [
    "$e^{ad_x} = Ad e^x$"
   ]
  },
  {
   "cell_type": "code",
   "execution_count": 74,
   "id": "da5ad357-034b-4fb1-acb2-92e66db5e375",
   "metadata": {
    "tags": []
   },
   "outputs": [
    {
     "data": {
      "text/plain": [
       "array([[ 0.407, -0.403,  0.819,  0.   ,  0.   ,  0.   , -6.428,  1.262,  3.818],\n",
       "       [ 0.861,  0.469, -0.197,  0.   ,  0.   ,  0.   ,  3.656, -5.744,  2.306],\n",
       "       [-0.304,  0.786,  0.538,  0.   ,  0.   ,  0.   ,  1.737,  4.074, -4.966],\n",
       "       [ 0.   ,  0.   ,  0.   ,  0.407, -0.403,  0.819, -2.671,  0.457,  1.553],\n",
       "       [ 0.   ,  0.   ,  0.   ,  0.861,  0.469, -0.197,  1.514, -2.357,  1.006],\n",
       "       [ 0.   ,  0.   ,  0.   , -0.304,  0.786,  0.538,  0.707,  1.641, -1.996],\n",
       "       [ 0.   ,  0.   ,  0.   ,  0.   ,  0.   ,  0.   ,  0.407, -0.403,  0.819],\n",
       "       [ 0.   ,  0.   ,  0.   ,  0.   ,  0.   ,  0.   ,  0.861,  0.469, -0.197],\n",
       "       [ 0.   ,  0.   ,  0.   ,  0.   ,  0.   ,  0.   , -0.304,  0.786,  0.538]])"
      ]
     },
     "execution_count": 74,
     "metadata": {},
     "output_type": "execute_result"
    }
   ],
   "source": [
    "exp_ad_x = scipy.linalg.expm(ca.DM(x.ad()))\n",
    "exp_ad_x"
   ]
  },
  {
   "cell_type": "code",
   "execution_count": 75,
   "id": "6b7e65d6-cc7e-4494-b5c8-acadfdb19b02",
   "metadata": {
    "tags": []
   },
   "outputs": [
    {
     "data": {
      "text/plain": [
       "array([[ 0.407, -0.403,  0.819,  0.   ,  0.   ,  0.   , -6.428,  1.262,  3.818],\n",
       "       [ 0.861,  0.469, -0.197,  0.   ,  0.   ,  0.   ,  3.656, -5.744,  2.306],\n",
       "       [-0.304,  0.786,  0.538,  0.   ,  0.   ,  0.   ,  1.737,  4.074, -4.966],\n",
       "       [ 0.   ,  0.   ,  0.   ,  0.407, -0.403,  0.819, -2.671,  0.457,  1.553],\n",
       "       [ 0.   ,  0.   ,  0.   ,  0.861,  0.469, -0.197,  1.514, -2.357,  1.006],\n",
       "       [ 0.   ,  0.   ,  0.   , -0.304,  0.786,  0.538,  0.707,  1.641, -1.996],\n",
       "       [ 0.   ,  0.   ,  0.   ,  0.   ,  0.   ,  0.   ,  0.407, -0.403,  0.819],\n",
       "       [ 0.   ,  0.   ,  0.   ,  0.   ,  0.   ,  0.   ,  0.861,  0.469, -0.197],\n",
       "       [ 0.   ,  0.   ,  0.   ,  0.   ,  0.   ,  0.   , -0.304,  0.786,  0.538]])"
      ]
     },
     "execution_count": 75,
     "metadata": {},
     "output_type": "execute_result"
    }
   ],
   "source": [
    "Ad_exp_x = np.array(ca.DM(x.exp(lie.SE23Mrp).Ad()))\n",
    "Ad_exp_x"
   ]
  },
  {
   "cell_type": "code",
   "execution_count": 77,
   "id": "5b041081-e6ed-444f-83f5-1f8644eca3b3",
   "metadata": {
    "tags": []
   },
   "outputs": [
    {
     "data": {
      "text/plain": [
       "3.4269920598908163e-14"
      ]
     },
     "execution_count": 77,
     "metadata": {},
     "output_type": "execute_result"
    }
   ],
   "source": [
    "np.linalg.norm(exp_ad_x - Ad_exp_x)"
   ]
  },
  {
   "cell_type": "code",
   "execution_count": 15,
   "id": "8d961f8c-9517-428a-987a-667f7383f749",
   "metadata": {
    "tags": []
   },
   "outputs": [
    {
     "data": {
      "text/plain": [
       "SX(@1=(-x_7), @2=(-x_8), @3=(-x_6), \n",
       "[[00, @2, x_7, 00, (-x_5), x_4, 00, 00, 00], \n",
       " [x_8, 00, @3, x_5, 00, (-x_3), 00, 00, 00], \n",
       " [@1, x_6, 00, (-x_4), x_3, 00, 00, 00, 00], \n",
       " [00, 00, 00, 00, @2, x_7, 00, (-x_2), x_1], \n",
       " [00, 00, 00, x_8, 00, @3, x_2, 00, (-x_0)], \n",
       " [00, 00, 00, @1, x_6, 00, (-x_1), x_0, 00], \n",
       " [00, 00, 00, 00, 00, 00, 00, @2, x_7], \n",
       " [00, 00, 00, 00, 00, 00, x_8, 00, @3], \n",
       " [00, 00, 00, 00, 00, 00, @1, x_6, 00]])"
      ]
     },
     "execution_count": 15,
     "metadata": {},
     "output_type": "execute_result"
    }
   ],
   "source": [
    "x.group.algebra.elem(ca.SX.sym(\"x\", 9)).ad()"
   ]
  },
  {
   "cell_type": "code",
   "execution_count": null,
   "id": "7ad565d9-fa71-4bfa-bccc-02ab2d521e4e",
   "metadata": {},
   "outputs": [],
   "source": []
  }
 ],
 "metadata": {
  "kernelspec": {
   "display_name": "Python 3 (ipykernel)",
   "language": "python",
   "name": "python3"
  },
  "language_info": {
   "codemirror_mode": {
    "name": "ipython",
    "version": 3
   },
   "file_extension": ".py",
   "mimetype": "text/x-python",
   "name": "python",
   "nbconvert_exporter": "python",
   "pygments_lexer": "ipython3",
   "version": "3.10.12"
  }
 },
 "nbformat": 4,
 "nbformat_minor": 5
}
