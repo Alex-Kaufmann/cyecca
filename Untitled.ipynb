{
 "cells": [
  {
   "cell_type": "code",
   "execution_count": 1,
   "id": "64de4961-5804-4354-bd65-78803c645b72",
   "metadata": {
    "tags": []
   },
   "outputs": [],
   "source": [
    "import casadi as ca"
   ]
  },
  {
   "cell_type": "code",
   "execution_count": null,
   "id": "28e3ee4b-08de-4697-b26e-4835bef340d2",
   "metadata": {},
   "outputs": [],
   "source": []
  }
 ],
 "metadata": {
  "kernelspec": {
   "display_name": "Python 3 (ipykernel)",
   "language": "python",
   "name": "python3"
  },
  "language_info": {
   "codemirror_mode": {
    "name": "ipython",
    "version": 3
   },
   "file_extension": ".py",
   "mimetype": "text/x-python",
   "name": "python",
   "nbconvert_exporter": "python",
   "pygments_lexer": "ipython3",
   "version": "3.10.6"
  }
 },
 "nbformat": 4,
 "nbformat_minor": 5
}
